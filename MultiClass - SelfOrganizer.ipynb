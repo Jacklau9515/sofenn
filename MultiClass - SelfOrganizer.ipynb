{
 "cells": [
  {
   "cell_type": "markdown",
   "metadata": {
    "collapsed": true
   },
   "source": [
    "# Iris Dataset - SOFENN Example"
   ]
  },
  {
   "cell_type": "markdown",
   "metadata": {},
   "source": [
    "Demonstrate multi-class classification with SOFENN on classic Iris Dataset"
   ]
  },
  {
   "cell_type": "code",
   "execution_count": 1,
   "metadata": {},
   "outputs": [
    {
     "name": "stderr",
     "output_type": "stream",
     "text": [
      "Using TensorFlow backend.\n"
     ]
    }
   ],
   "source": [
    "import numpy as np\n",
    "import random as rnd\n",
    "\n",
    "from sklearn import datasets\n",
    "from sklearn.model_selection import train_test_split\n",
    "from sklearn.metrics import mean_absolute_error, mean_squared_error\n",
    "\n",
    "import matplotlib.pyplot as plt\n",
    "from matplotlib.patches import Ellipse\n",
    "\n",
    "import keras.backend as K\n",
    "from keras.utils import plot_model\n",
    "from keras.models import Model, load_model, clone_model\n",
    "\n",
    "from sofenn import SelfOrganizer\n",
    "from sofenn.FuzzyNetwork import FuzzyNetwork\n",
    "from sofenn.layers import FuzzyLayer, NormalizedLayer, WeightedLayer, OutputLayer\n",
    "\n",
    "import os\n",
    "\n",
    "os.environ['KMP_DUPLICATE_LIB_OK']='True'"
   ]
  },
  {
   "cell_type": "markdown",
   "metadata": {},
   "source": [
    "## Read in and prep Iris Dataset"
   ]
  },
  {
   "cell_type": "code",
   "execution_count": 2,
   "metadata": {
    "scrolled": true
   },
   "outputs": [],
   "source": [
    "# read in iris dataset\n",
    "iris = datasets.load_iris()\n",
    "# create one-hot encoded vector for each class\n",
    "Y = []\n",
    "for y in iris.target:\n",
    "    tmp = np.zeros(3)\n",
    "    tmp[y] = 1\n",
    "    Y.append(tmp)\n",
    "Y = np.array(Y)\n",
    "    \n",
    "# split to train/test\n",
    "X_train, X_test, y_train, y_test = train_test_split(iris.data, Y, test_size=0.1)"
   ]
  },
  {
   "cell_type": "markdown",
   "metadata": {},
   "source": [
    "## Create Self Organizer"
   ]
  },
  {
   "cell_type": "code",
   "execution_count": 3,
   "metadata": {},
   "outputs": [],
   "source": [
    "sofnn = SelfOrganizer(\n",
    "             ksig=1.12, max_widens=250,          # adding neuron or widening centers\n",
    "             prune_tol=0.85, k_mae=0.1,          # pruning parameters\n",
    "             debug=True\n",
    "                )"
   ]
  },
  {
   "cell_type": "markdown",
   "metadata": {},
   "source": [
    "### Create Network"
   ]
  },
  {
   "cell_type": "code",
   "execution_count": 4,
   "metadata": {},
   "outputs": [
    {
     "name": "stdout",
     "output_type": "stream",
     "text": [
      "Building Fuzzy Network with 5 neurons...\n",
      "WARNING:tensorflow:From /miniconda3/envs/sofenn/lib/python3.6/site-packages/tensorflow/python/framework/op_def_library.py:263: colocate_with (from tensorflow.python.framework.ops) is deprecated and will be removed in a future version.\n",
      "Instructions for updating:\n",
      "Colocations handled automatically by placer.\n",
      "...Model successfully built!\n"
     ]
    }
   ],
   "source": [
    "start_neurons = 5\n",
    "\n",
    "sofnn.build_network(\n",
    "                 X_train, X_test, y_train, y_test,        # data attributes\n",
    "                 neurons=start_neurons, max_neurons=100,  # neuron initialization parameters\n",
    "                 ifpart_thresh=0.1354,                    # ifpart and error thresholds\n",
    "                 prob_type='classification'               # type of problem (classification/regression)\n",
    ")\n",
    "\n",
    "network = sofnn.network"
   ]
  },
  {
   "cell_type": "markdown",
   "metadata": {},
   "source": [
    "### Compile Model"
   ]
  },
  {
   "cell_type": "code",
   "execution_count": 5,
   "metadata": {},
   "outputs": [
    {
     "name": "stdout",
     "output_type": "stream",
     "text": [
      "Compiling model...\n",
      "__________________________________________________________________________________________________\n",
      "Layer (type)                    Output Shape         Param #     Connected to                     \n",
      "==================================================================================================\n",
      "Inputs (InputLayer)             (None, 4)            0                                            \n",
      "__________________________________________________________________________________________________\n",
      "FuzzyRules (FuzzyLayer)         (None, 5)            40          Inputs[0][0]                     \n",
      "__________________________________________________________________________________________________\n",
      "Normalization (NormalizedLayer) (None, 5)            0           FuzzyRules[0][0]                 \n",
      "__________________________________________________________________________________________________\n",
      "Weights (WeightedLayer)         (None, 5)            25          Inputs[0][0]                     \n",
      "                                                                 Normalization[0][0]              \n",
      "__________________________________________________________________________________________________\n",
      "RawOutput (OutputLayer)         (None, 1)            0           Weights[0][0]                    \n",
      "__________________________________________________________________________________________________\n",
      "Softmax (Dense)                 (None, 3)            6           RawOutput[0][0]                  \n",
      "==================================================================================================\n",
      "Total params: 71\n",
      "Trainable params: 71\n",
      "Non-trainable params: 0\n",
      "__________________________________________________________________________________________________\n",
      "None\n"
     ]
    }
   ],
   "source": [
    "loss = sofnn.network.loss_function\n",
    "optimizer = 'adam'\n",
    "metrics = ['binary_accuracy']\n",
    "\n",
    "sofnn.compile_model(init_c=True, random=True, init_s=True, s_0=4.0,\n",
    "                    loss=loss, optimizer=optimizer, metrics=metrics)"
   ]
  },
  {
   "cell_type": "markdown",
   "metadata": {},
   "source": [
    "### Train model"
   ]
  },
  {
   "cell_type": "code",
   "execution_count": 6,
   "metadata": {
    "scrolled": true
   },
   "outputs": [
    {
     "name": "stdout",
     "output_type": "stream",
     "text": [
      "Training model...\n",
      "WARNING:tensorflow:From /miniconda3/envs/sofenn/lib/python3.6/site-packages/tensorflow/python/ops/math_ops.py:3066: to_int32 (from tensorflow.python.ops.math_ops) is deprecated and will be removed in a future version.\n",
      "Instructions for updating:\n",
      "Use tf.cast instead.\n",
      "Epoch 1/45\n",
      "135/135 [==============================] - 1s 7ms/step - loss: 10.0951 - binary_accuracy: 0.6667\n",
      "Epoch 2/45\n",
      "135/135 [==============================] - 0s 158us/step - loss: 9.9237 - binary_accuracy: 0.6667\n",
      "Epoch 3/45\n",
      "135/135 [==============================] - 0s 226us/step - loss: 9.7942 - binary_accuracy: 0.6667\n",
      "Epoch 4/45\n",
      "135/135 [==============================] - 0s 171us/step - loss: 9.6762 - binary_accuracy: 0.6667\n",
      "Epoch 5/45\n",
      "135/135 [==============================] - 0s 165us/step - loss: 9.5179 - binary_accuracy: 0.6667\n",
      "Epoch 6/45\n",
      "135/135 [==============================] - 0s 116us/step - loss: 9.4245 - binary_accuracy: 0.6667\n",
      "Epoch 7/45\n",
      "135/135 [==============================] - 0s 127us/step - loss: 9.3056 - binary_accuracy: 0.6667\n",
      "Epoch 8/45\n",
      "135/135 [==============================] - 0s 164us/step - loss: 9.2553 - binary_accuracy: 0.6691\n",
      "Epoch 9/45\n",
      "135/135 [==============================] - 0s 170us/step - loss: 9.0611 - binary_accuracy: 0.6765\n",
      "Epoch 10/45\n",
      "135/135 [==============================] - 0s 166us/step - loss: 8.9854 - binary_accuracy: 0.6864\n",
      "Epoch 11/45\n",
      "135/135 [==============================] - 0s 138us/step - loss: 8.9000 - binary_accuracy: 0.6938\n",
      "Epoch 12/45\n",
      "135/135 [==============================] - 0s 157us/step - loss: 8.7626 - binary_accuracy: 0.7037\n",
      "Epoch 13/45\n",
      "135/135 [==============================] - 0s 162us/step - loss: 8.6521 - binary_accuracy: 0.7086\n",
      "Epoch 14/45\n",
      "135/135 [==============================] - 0s 159us/step - loss: 8.4945 - binary_accuracy: 0.7210\n",
      "Epoch 15/45\n",
      "135/135 [==============================] - 0s 148us/step - loss: 8.4336 - binary_accuracy: 0.7259\n",
      "Epoch 16/45\n",
      "135/135 [==============================] - 0s 176us/step - loss: 8.3798 - binary_accuracy: 0.7333\n",
      "Epoch 17/45\n",
      "135/135 [==============================] - 0s 156us/step - loss: 8.2015 - binary_accuracy: 0.7407\n",
      "Epoch 18/45\n",
      "135/135 [==============================] - 0s 183us/step - loss: 8.1287 - binary_accuracy: 0.7407\n",
      "Epoch 19/45\n",
      "135/135 [==============================] - 0s 147us/step - loss: 8.0489 - binary_accuracy: 0.7432\n",
      "Epoch 20/45\n",
      "135/135 [==============================] - 0s 165us/step - loss: 7.9266 - binary_accuracy: 0.7457\n",
      "Epoch 21/45\n",
      "135/135 [==============================] - 0s 165us/step - loss: 7.8243 - binary_accuracy: 0.7457\n",
      "Epoch 22/45\n",
      "135/135 [==============================] - 0s 177us/step - loss: 7.7031 - binary_accuracy: 0.7457\n",
      "Epoch 23/45\n",
      "135/135 [==============================] - 0s 159us/step - loss: 7.6743 - binary_accuracy: 0.7556\n",
      "Epoch 24/45\n",
      "135/135 [==============================] - 0s 141us/step - loss: 7.4524 - binary_accuracy: 0.7605\n",
      "Epoch 25/45\n",
      "135/135 [==============================] - 0s 161us/step - loss: 7.4288 - binary_accuracy: 0.7728\n",
      "Epoch 26/45\n",
      "135/135 [==============================] - 0s 160us/step - loss: 7.3635 - binary_accuracy: 0.8049\n",
      "Epoch 27/45\n",
      "135/135 [==============================] - 0s 161us/step - loss: 7.2651 - binary_accuracy: 0.8370\n",
      "Epoch 28/45\n",
      "135/135 [==============================] - 0s 141us/step - loss: 7.1535 - binary_accuracy: 0.8568\n",
      "Epoch 29/45\n",
      "135/135 [==============================] - 0s 142us/step - loss: 7.0816 - binary_accuracy: 0.8617\n",
      "Epoch 30/45\n",
      "135/135 [==============================] - 0s 143us/step - loss: 6.9322 - binary_accuracy: 0.8642\n",
      "Epoch 31/45\n",
      "135/135 [==============================] - 0s 133us/step - loss: 6.9014 - binary_accuracy: 0.8667\n",
      "Epoch 32/45\n",
      "135/135 [==============================] - 0s 161us/step - loss: 6.8557 - binary_accuracy: 0.8691\n",
      "Epoch 33/45\n",
      "135/135 [==============================] - 0s 139us/step - loss: 6.5313 - binary_accuracy: 0.8691\n",
      "Epoch 34/45\n",
      "135/135 [==============================] - 0s 128us/step - loss: 6.5370 - binary_accuracy: 0.8716\n",
      "Epoch 35/45\n",
      "135/135 [==============================] - 0s 150us/step - loss: 6.5236 - binary_accuracy: 0.8741\n",
      "Epoch 36/45\n",
      "135/135 [==============================] - 0s 150us/step - loss: 6.4217 - binary_accuracy: 0.8741\n",
      "Epoch 37/45\n",
      "135/135 [==============================] - 0s 141us/step - loss: 6.1937 - binary_accuracy: 0.8741\n",
      "Epoch 38/45\n",
      "135/135 [==============================] - 0s 156us/step - loss: 6.2343 - binary_accuracy: 0.8716\n",
      "Epoch 39/45\n",
      "135/135 [==============================] - 0s 134us/step - loss: 6.2335 - binary_accuracy: 0.8716\n",
      "Epoch 40/45\n",
      "135/135 [==============================] - 0s 170us/step - loss: 6.2348 - binary_accuracy: 0.8716\n",
      "Epoch 41/45\n",
      "135/135 [==============================] - 0s 141us/step - loss: 6.0696 - binary_accuracy: 0.8691\n",
      "Epoch 42/45\n",
      "135/135 [==============================] - 0s 150us/step - loss: 5.9885 - binary_accuracy: 0.8691\n",
      "Epoch 43/45\n",
      "135/135 [==============================] - 0s 156us/step - loss: 5.9594 - binary_accuracy: 0.8716\n",
      "Epoch 44/45\n",
      "135/135 [==============================] - 0s 172us/step - loss: 5.8616 - binary_accuracy: 0.8716\n",
      "Epoch 45/45\n",
      "135/135 [==============================] - 0s 135us/step - loss: 5.8316 - binary_accuracy: 0.8716\n"
     ]
    }
   ],
   "source": [
    "sofnn.train_model(epochs=45)"
   ]
  },
  {
   "cell_type": "code",
   "execution_count": 7,
   "metadata": {},
   "outputs": [],
   "source": [
    "c,s = sofnn.new_neuron_weights()"
   ]
  },
  {
   "cell_type": "code",
   "execution_count": 8,
   "metadata": {},
   "outputs": [
    {
     "data": {
      "text/plain": [
       "array([6.17460155, 2.63537169, 4.70471907, 1.20740741])"
      ]
     },
     "execution_count": 8,
     "metadata": {},
     "output_type": "execute_result"
    }
   ],
   "source": [
    "c"
   ]
  },
  {
   "cell_type": "code",
   "execution_count": 9,
   "metadata": {},
   "outputs": [
    {
     "data": {
      "text/plain": [
       "array([3.74021173, 3.73521066, 3.74612689, 2.56277739])"
      ]
     },
     "execution_count": 9,
     "metadata": {},
     "output_type": "execute_result"
    }
   ],
   "source": [
    "s"
   ]
  },
  {
   "cell_type": "code",
   "execution_count": 10,
   "metadata": {},
   "outputs": [
    {
     "data": {
      "text/plain": [
       "array([[0.70458376, 0.24958563, 0.04583054],\n",
       "       [0.3205753 , 0.32485333, 0.35457137],\n",
       "       [0.4280763 , 0.33535153, 0.23657215],\n",
       "       [0.2631178 , 0.3079046 , 0.42897755],\n",
       "       [0.13931516, 0.2371169 , 0.623568  ],\n",
       "       [0.03515735, 0.11200634, 0.8528363 ],\n",
       "       [0.6905203 , 0.25775394, 0.05172572],\n",
       "       [0.67147803, 0.26817077, 0.06035115],\n",
       "       [0.66590637, 0.27107814, 0.06301539],\n",
       "       [0.0941669 , 0.1946038 , 0.71122926],\n",
       "       [0.65422624, 0.2769661 , 0.06880766],\n",
       "       [0.6658402 , 0.27111235, 0.06304745],\n",
       "       [0.15690224, 0.2507127 , 0.59238505],\n",
       "       [0.1704897 , 0.26028073, 0.56922954],\n",
       "       [0.16169722, 0.254178  , 0.58412474]], dtype=float32)"
      ]
     },
     "execution_count": 10,
     "metadata": {},
     "output_type": "execute_result"
    }
   ],
   "source": [
    "y_pred = network.model_predictions()\n",
    "y_pred"
   ]
  },
  {
   "cell_type": "code",
   "execution_count": 11,
   "metadata": {},
   "outputs": [
    {
     "name": "stdout",
     "output_type": "stream",
     "text": [
      "\n",
      "Widening centers...\n",
      "Centers widened after 0 iterations\n"
     ]
    }
   ],
   "source": [
    "sofnn.widen_centers()"
   ]
  },
  {
   "cell_type": "markdown",
   "metadata": {},
   "source": [
    "### Test neuron pruning"
   ]
  },
  {
   "cell_type": "code",
   "execution_count": 12,
   "metadata": {},
   "outputs": [
    {
     "data": {
      "text/plain": [
       "5"
      ]
     },
     "execution_count": 12,
     "metadata": {},
     "output_type": "execute_result"
    }
   ],
   "source": [
    "network.neurons"
   ]
  },
  {
   "cell_type": "markdown",
   "metadata": {},
   "source": [
    "### Create copy model"
   ]
  },
  {
   "cell_type": "code",
   "execution_count": 18,
   "metadata": {},
   "outputs": [
    {
     "name": "stdout",
     "output_type": "stream",
     "text": [
      "__________________________________________________________________________________________________\n",
      "Layer (type)                    Output Shape         Param #     Connected to                     \n",
      "==================================================================================================\n",
      "Inputs (InputLayer)             (None, 4)            0                                            \n",
      "__________________________________________________________________________________________________\n",
      "FuzzyRules (FuzzyLayer)         (None, 5)            40          Inputs[0][0]                     \n",
      "__________________________________________________________________________________________________\n",
      "Normalization (NormalizedLayer) (None, 5)            0           FuzzyRules[0][0]                 \n",
      "__________________________________________________________________________________________________\n",
      "Weights (WeightedLayer)         (None, 5)            25          Inputs[0][0]                     \n",
      "                                                                 Normalization[0][0]              \n",
      "__________________________________________________________________________________________________\n",
      "RawOutput (OutputLayer)         (None, 1)            0           Weights[0][0]                    \n",
      "__________________________________________________________________________________________________\n",
      "Softmax (Dense)                 (None, 3)            6           RawOutput[0][0]                  \n",
      "==================================================================================================\n",
      "Total params: 71\n",
      "Trainable params: 71\n",
      "Non-trainable params: 0\n",
      "__________________________________________________________________________________________________\n"
     ]
    }
   ],
   "source": [
    "prune_model = clone_model(network.model)\n",
    "prune_model.summary()"
   ]
  },
  {
   "cell_type": "code",
   "execution_count": 15,
   "metadata": {},
   "outputs": [
    {
     "data": {
      "text/plain": [
       "0.15689440585337014"
      ]
     },
     "execution_count": 15,
     "metadata": {},
     "output_type": "execute_result"
    }
   ],
   "source": [
    "E_rmse = mean_squared_error(network.y_test, y_pred)\n",
    "E_rmse"
   ]
  },
  {
   "cell_type": "code",
   "execution_count": 16,
   "metadata": {},
   "outputs": [
    {
     "data": {
      "text/plain": [
       "[array([[ 6.3696566 ,  4.603665  ,  5.1672697 ,  6.9880404 ,  6.922022  ],\n",
       "        [ 2.5602474 ,  3.4443538 ,  3.5287325 ,  2.9069643 ,  2.867683  ],\n",
       "        [ 4.269643  ,  1.3399494 ,  1.2576641 ,  5.8979626 ,  4.9017005 ],\n",
       "        [ 1.5707487 , -0.05153421,  0.15369044,  2.693892  ,  1.6926484 ]],\n",
       "       dtype=float32),\n",
       " array([[3.7421691, 3.745316 , 3.7486923, 3.6966   , 3.7478955],\n",
       "        [3.7193928, 4.199241 , 3.9959254, 3.7569969, 3.73914  ],\n",
       "        [3.7529328, 3.7179635, 3.743473 , 3.6929634, 3.7371545],\n",
       "        [3.7818456, 3.7100377, 3.7327769, 3.6916182, 3.6920516]],\n",
       "       dtype=float32),\n",
       " array([[ 1.05593232e-02, -2.27281332e-01, -2.09979936e-01,\n",
       "          7.50357881e-02,  7.80951381e-02],\n",
       "        [ 6.46460354e-02, -2.60521203e-01, -1.65035546e-01,\n",
       "          1.42984614e-01,  5.43518737e-02],\n",
       "        [-1.82116944e-02, -2.64333963e-01, -1.87058493e-01,\n",
       "          1.24080576e-01,  2.01590854e-04],\n",
       "        [ 1.56993359e-01,  5.01807891e-02, -1.33926068e-02,\n",
       "          1.63400292e-01,  1.61543831e-01],\n",
       "        [ 1.95234418e-01,  1.24412201e-01,  9.77834612e-02,\n",
       "          1.81245059e-01,  1.64195359e-01]], dtype=float32),\n",
       " array([[-0.95694876, -0.49273744,  0.2957787 ]], dtype=float32),\n",
       " array([ 0.11871638, -0.04034704, -0.08038242], dtype=float32)]"
      ]
     },
     "execution_count": 16,
     "metadata": {},
     "output_type": "execute_result"
    }
   ],
   "source": [
    "act_weights = network.model.get_weights()\n",
    "act_weights"
   ]
  },
  {
   "cell_type": "code",
   "execution_count": 18,
   "metadata": {},
   "outputs": [
    {
     "ename": "ValueError",
     "evalue": "Unknown layer: FuzzyLayer",
     "output_type": "error",
     "traceback": [
      "\u001b[0;31m---------------------------------------------------------------------------\u001b[0m",
      "\u001b[0;31mValueError\u001b[0m                                Traceback (most recent call last)",
      "\u001b[0;32m<ipython-input-18-99d447167e09>\u001b[0m in \u001b[0;36m<module>\u001b[0;34m\u001b[0m\n\u001b[0;32m----> 1\u001b[0;31m \u001b[0mmodel2\u001b[0m \u001b[0;34m=\u001b[0m \u001b[0mModel\u001b[0m\u001b[0;34m.\u001b[0m\u001b[0mfrom_config\u001b[0m\u001b[0;34m(\u001b[0m\u001b[0msofnn\u001b[0m\u001b[0;34m.\u001b[0m\u001b[0mmodel\u001b[0m\u001b[0;34m.\u001b[0m\u001b[0mget_config\u001b[0m\u001b[0;34m(\u001b[0m\u001b[0;34m)\u001b[0m\u001b[0;34m)\u001b[0m\u001b[0;34m\u001b[0m\u001b[0;34m\u001b[0m\u001b[0m\n\u001b[0m",
      "\u001b[0;32m/miniconda3/envs/sofenn/lib/python3.6/site-packages/keras/engine/network.py\u001b[0m in \u001b[0;36mfrom_config\u001b[0;34m(cls, config, custom_objects)\u001b[0m\n\u001b[1;32m   1020\u001b[0m         \u001b[0;31m# First, we create all layers and enqueue nodes to be processed\u001b[0m\u001b[0;34m\u001b[0m\u001b[0;34m\u001b[0m\u001b[0;34m\u001b[0m\u001b[0m\n\u001b[1;32m   1021\u001b[0m         \u001b[0;32mfor\u001b[0m \u001b[0mlayer_data\u001b[0m \u001b[0;32min\u001b[0m \u001b[0mconfig\u001b[0m\u001b[0;34m[\u001b[0m\u001b[0;34m'layers'\u001b[0m\u001b[0;34m]\u001b[0m\u001b[0;34m:\u001b[0m\u001b[0;34m\u001b[0m\u001b[0;34m\u001b[0m\u001b[0m\n\u001b[0;32m-> 1022\u001b[0;31m             \u001b[0mprocess_layer\u001b[0m\u001b[0;34m(\u001b[0m\u001b[0mlayer_data\u001b[0m\u001b[0;34m)\u001b[0m\u001b[0;34m\u001b[0m\u001b[0;34m\u001b[0m\u001b[0m\n\u001b[0m\u001b[1;32m   1023\u001b[0m         \u001b[0;31m# Then we process nodes in order of layer depth.\u001b[0m\u001b[0;34m\u001b[0m\u001b[0;34m\u001b[0m\u001b[0;34m\u001b[0m\u001b[0m\n\u001b[1;32m   1024\u001b[0m         \u001b[0;31m# Nodes that cannot yet be processed (if the inbound node\u001b[0m\u001b[0;34m\u001b[0m\u001b[0;34m\u001b[0m\u001b[0;34m\u001b[0m\u001b[0m\n",
      "\u001b[0;32m/miniconda3/envs/sofenn/lib/python3.6/site-packages/keras/engine/network.py\u001b[0m in \u001b[0;36mprocess_layer\u001b[0;34m(layer_data)\u001b[0m\n\u001b[1;32m   1006\u001b[0m \u001b[0;34m\u001b[0m\u001b[0m\n\u001b[1;32m   1007\u001b[0m             layer = deserialize_layer(layer_data,\n\u001b[0;32m-> 1008\u001b[0;31m                                       custom_objects=custom_objects)\n\u001b[0m\u001b[1;32m   1009\u001b[0m             \u001b[0mcreated_layers\u001b[0m\u001b[0;34m[\u001b[0m\u001b[0mlayer_name\u001b[0m\u001b[0;34m]\u001b[0m \u001b[0;34m=\u001b[0m \u001b[0mlayer\u001b[0m\u001b[0;34m\u001b[0m\u001b[0;34m\u001b[0m\u001b[0m\n\u001b[1;32m   1010\u001b[0m \u001b[0;34m\u001b[0m\u001b[0m\n",
      "\u001b[0;32m/miniconda3/envs/sofenn/lib/python3.6/site-packages/keras/layers/__init__.py\u001b[0m in \u001b[0;36mdeserialize\u001b[0;34m(config, custom_objects)\u001b[0m\n\u001b[1;32m     53\u001b[0m                                     \u001b[0mmodule_objects\u001b[0m\u001b[0;34m=\u001b[0m\u001b[0mglobs\u001b[0m\u001b[0;34m,\u001b[0m\u001b[0;34m\u001b[0m\u001b[0;34m\u001b[0m\u001b[0m\n\u001b[1;32m     54\u001b[0m                                     \u001b[0mcustom_objects\u001b[0m\u001b[0;34m=\u001b[0m\u001b[0mcustom_objects\u001b[0m\u001b[0;34m,\u001b[0m\u001b[0;34m\u001b[0m\u001b[0;34m\u001b[0m\u001b[0m\n\u001b[0;32m---> 55\u001b[0;31m                                     printable_module_name='layer')\n\u001b[0m",
      "\u001b[0;32m/miniconda3/envs/sofenn/lib/python3.6/site-packages/keras/utils/generic_utils.py\u001b[0m in \u001b[0;36mdeserialize_keras_object\u001b[0;34m(identifier, module_objects, custom_objects, printable_module_name)\u001b[0m\n\u001b[1;32m    136\u001b[0m             \u001b[0;32mif\u001b[0m \u001b[0mcls\u001b[0m \u001b[0;32mis\u001b[0m \u001b[0;32mNone\u001b[0m\u001b[0;34m:\u001b[0m\u001b[0;34m\u001b[0m\u001b[0;34m\u001b[0m\u001b[0m\n\u001b[1;32m    137\u001b[0m                 raise ValueError('Unknown ' + printable_module_name +\n\u001b[0;32m--> 138\u001b[0;31m                                  ': ' + class_name)\n\u001b[0m\u001b[1;32m    139\u001b[0m         \u001b[0;32mif\u001b[0m \u001b[0mhasattr\u001b[0m\u001b[0;34m(\u001b[0m\u001b[0mcls\u001b[0m\u001b[0;34m,\u001b[0m \u001b[0;34m'from_config'\u001b[0m\u001b[0;34m)\u001b[0m\u001b[0;34m:\u001b[0m\u001b[0;34m\u001b[0m\u001b[0;34m\u001b[0m\u001b[0m\n\u001b[1;32m    140\u001b[0m             \u001b[0mcustom_objects\u001b[0m \u001b[0;34m=\u001b[0m \u001b[0mcustom_objects\u001b[0m \u001b[0;32mor\u001b[0m \u001b[0;34m{\u001b[0m\u001b[0;34m}\u001b[0m\u001b[0;34m\u001b[0m\u001b[0;34m\u001b[0m\u001b[0m\n",
      "\u001b[0;31mValueError\u001b[0m: Unknown layer: FuzzyLayer"
     ]
    }
   ],
   "source": []
  },
  {
   "cell_type": "code",
   "execution_count": null,
   "metadata": {},
   "outputs": [],
   "source": [
    "delta_E = []\n",
    "for neur in range(network.neurons):\n",
    "    # reset prune model weights to actual weights\n",
    "    prune_model.set_weights(act_weights)\n",
    "\n",
    "    # get current prune weights\n",
    "    c, s, a = prune_model.get_weights()\n",
    "    # zero our i neuron column in weight vector\n",
    "    a[:, neur] = 0\n",
    "    prune_model.set_weights([c, s, a])\n",
    "\n",
    "    # predict values with new zeroed out weights\n",
    "    neur_pred = prune_model.predict(fuzzy_net.X_test)\n",
    "    y_pred_neur = np.squeeze(np.where(neur_pred >= self._eval_thresh, 1, 0), axis=-1)\n",
    "    neur_rmae = mean_absolute_error(fuzzy_net.y_test, y_pred_neur)\n",
    "\n",
    "    # append difference in rmse and new prediction rmse\n",
    "    delta_E.append(neur_rmae - E_rmae)\n"
   ]
  },
  {
   "cell_type": "code",
   "execution_count": null,
   "metadata": {},
   "outputs": [],
   "source": []
  },
  {
   "cell_type": "code",
   "execution_count": 14,
   "metadata": {},
   "outputs": [
    {
     "name": "stdout",
     "output_type": "stream",
     "text": [
      "\n",
      "Adding neuron...\n",
      "Building Fuzzy Network with 6 neurons...\n",
      "...Model successfully built!\n",
      "Training model...\n"
     ]
    },
    {
     "ename": "RuntimeError",
     "evalue": "You must compile a model before training/testing. Use `model.compile(optimizer, loss)`.",
     "output_type": "error",
     "traceback": [
      "\u001b[0;31m---------------------------------------------------------------------------\u001b[0m",
      "\u001b[0;31mRuntimeError\u001b[0m                              Traceback (most recent call last)",
      "\u001b[0;32m<ipython-input-14-7b1cc4da4ea4>\u001b[0m in \u001b[0;36m<module>\u001b[0;34m\u001b[0m\n\u001b[0;32m----> 1\u001b[0;31m \u001b[0msofnn\u001b[0m\u001b[0;34m.\u001b[0m\u001b[0madd_neuron\u001b[0m\u001b[0;34m(\u001b[0m\u001b[0;34m)\u001b[0m\u001b[0;34m\u001b[0m\u001b[0;34m\u001b[0m\u001b[0m\n\u001b[0m",
      "\u001b[0;32m~/PycharmProjects/sofenn/sofenn/SelfOrganizer.py\u001b[0m in \u001b[0;36madd_neuron\u001b[0;34m(self)\u001b[0m\n\u001b[1;32m    434\u001b[0m         \u001b[0;31m# retrain model since new neuron added\u001b[0m\u001b[0;34m\u001b[0m\u001b[0;34m\u001b[0m\u001b[0;34m\u001b[0m\u001b[0m\n\u001b[1;32m    435\u001b[0m         \u001b[0;31m# TODO: add retrain model vs train method\u001b[0m\u001b[0;34m\u001b[0m\u001b[0;34m\u001b[0m\u001b[0;34m\u001b[0m\u001b[0m\n\u001b[0;32m--> 436\u001b[0;31m         \u001b[0mself\u001b[0m\u001b[0;34m.\u001b[0m\u001b[0mtrain_model\u001b[0m\u001b[0;34m(\u001b[0m\u001b[0;34m)\u001b[0m\u001b[0;34m\u001b[0m\u001b[0;34m\u001b[0m\u001b[0m\n\u001b[0m\u001b[1;32m    437\u001b[0m \u001b[0;34m\u001b[0m\u001b[0m\n\u001b[1;32m    438\u001b[0m     \u001b[0;31m# TODO: validate logic and update references\u001b[0m\u001b[0;34m\u001b[0m\u001b[0;34m\u001b[0m\u001b[0;34m\u001b[0m\u001b[0m\n",
      "\u001b[0;32m~/PycharmProjects/sofenn/sofenn/SelfOrganizer.py\u001b[0m in \u001b[0;36mtrain_model\u001b[0;34m(self, **kwargs)\u001b[0m\n\u001b[1;32m    255\u001b[0m \u001b[0;34m\u001b[0m\u001b[0m\n\u001b[1;32m    256\u001b[0m         \u001b[0;31m# pass parameters to network method\u001b[0m\u001b[0;34m\u001b[0m\u001b[0;34m\u001b[0m\u001b[0;34m\u001b[0m\u001b[0m\n\u001b[0;32m--> 257\u001b[0;31m         \u001b[0mself\u001b[0m\u001b[0;34m.\u001b[0m\u001b[0mnetwork\u001b[0m\u001b[0;34m.\u001b[0m\u001b[0mtrain_model\u001b[0m\u001b[0;34m(\u001b[0m\u001b[0;34m**\u001b[0m\u001b[0mkwargs\u001b[0m\u001b[0;34m)\u001b[0m\u001b[0;34m\u001b[0m\u001b[0;34m\u001b[0m\u001b[0m\n\u001b[0m\u001b[1;32m    258\u001b[0m \u001b[0;34m\u001b[0m\u001b[0m\n\u001b[1;32m    259\u001b[0m     \u001b[0;31m# TODO: add function to recompile model using current settings\u001b[0m\u001b[0;34m\u001b[0m\u001b[0;34m\u001b[0m\u001b[0;34m\u001b[0m\u001b[0m\n",
      "\u001b[0;32m~/PycharmProjects/sofenn/sofenn/FuzzyNetwork.py\u001b[0m in \u001b[0;36mtrain_model\u001b[0;34m(self, **kwargs)\u001b[0m\n\u001b[1;32m    361\u001b[0m \u001b[0;34m\u001b[0m\u001b[0m\n\u001b[1;32m    362\u001b[0m         \u001b[0;31m# fit model to dataset\u001b[0m\u001b[0;34m\u001b[0m\u001b[0;34m\u001b[0m\u001b[0;34m\u001b[0m\u001b[0m\n\u001b[0;32m--> 363\u001b[0;31m         \u001b[0mself\u001b[0m\u001b[0;34m.\u001b[0m\u001b[0mmodel\u001b[0m\u001b[0;34m.\u001b[0m\u001b[0mfit\u001b[0m\u001b[0;34m(\u001b[0m\u001b[0mself\u001b[0m\u001b[0;34m.\u001b[0m\u001b[0mX_train\u001b[0m\u001b[0;34m,\u001b[0m \u001b[0mself\u001b[0m\u001b[0;34m.\u001b[0m\u001b[0my_train\u001b[0m\u001b[0;34m,\u001b[0m \u001b[0;34m**\u001b[0m\u001b[0mkwargs\u001b[0m\u001b[0;34m)\u001b[0m\u001b[0;34m\u001b[0m\u001b[0;34m\u001b[0m\u001b[0m\n\u001b[0m\u001b[1;32m    364\u001b[0m \u001b[0;34m\u001b[0m\u001b[0m\n\u001b[1;32m    365\u001b[0m     \u001b[0;32mdef\u001b[0m \u001b[0mmodel_predictions\u001b[0m\u001b[0;34m(\u001b[0m\u001b[0mself\u001b[0m\u001b[0;34m)\u001b[0m\u001b[0;34m:\u001b[0m\u001b[0;34m\u001b[0m\u001b[0;34m\u001b[0m\u001b[0m\n",
      "\u001b[0;32m/miniconda3/envs/sofenn/lib/python3.6/site-packages/keras/engine/training.py\u001b[0m in \u001b[0;36mfit\u001b[0;34m(self, x, y, batch_size, epochs, verbose, callbacks, validation_split, validation_data, shuffle, class_weight, sample_weight, initial_epoch, steps_per_epoch, validation_steps, **kwargs)\u001b[0m\n\u001b[1;32m    950\u001b[0m             \u001b[0msample_weight\u001b[0m\u001b[0;34m=\u001b[0m\u001b[0msample_weight\u001b[0m\u001b[0;34m,\u001b[0m\u001b[0;34m\u001b[0m\u001b[0;34m\u001b[0m\u001b[0m\n\u001b[1;32m    951\u001b[0m             \u001b[0mclass_weight\u001b[0m\u001b[0;34m=\u001b[0m\u001b[0mclass_weight\u001b[0m\u001b[0;34m,\u001b[0m\u001b[0;34m\u001b[0m\u001b[0;34m\u001b[0m\u001b[0m\n\u001b[0;32m--> 952\u001b[0;31m             batch_size=batch_size)\n\u001b[0m\u001b[1;32m    953\u001b[0m         \u001b[0;31m# Prepare validation data.\u001b[0m\u001b[0;34m\u001b[0m\u001b[0;34m\u001b[0m\u001b[0;34m\u001b[0m\u001b[0m\n\u001b[1;32m    954\u001b[0m         \u001b[0mdo_validation\u001b[0m \u001b[0;34m=\u001b[0m \u001b[0;32mFalse\u001b[0m\u001b[0;34m\u001b[0m\u001b[0;34m\u001b[0m\u001b[0m\n",
      "\u001b[0;32m/miniconda3/envs/sofenn/lib/python3.6/site-packages/keras/engine/training.py\u001b[0m in \u001b[0;36m_standardize_user_data\u001b[0;34m(self, x, y, sample_weight, class_weight, check_array_lengths, batch_size)\u001b[0m\n\u001b[1;32m    679\u001b[0m         \u001b[0;32mif\u001b[0m \u001b[0my\u001b[0m \u001b[0;32mis\u001b[0m \u001b[0;32mnot\u001b[0m \u001b[0;32mNone\u001b[0m\u001b[0;34m:\u001b[0m\u001b[0;34m\u001b[0m\u001b[0;34m\u001b[0m\u001b[0m\n\u001b[1;32m    680\u001b[0m             \u001b[0;32mif\u001b[0m \u001b[0;32mnot\u001b[0m \u001b[0mself\u001b[0m\u001b[0;34m.\u001b[0m\u001b[0moptimizer\u001b[0m\u001b[0;34m:\u001b[0m\u001b[0;34m\u001b[0m\u001b[0;34m\u001b[0m\u001b[0m\n\u001b[0;32m--> 681\u001b[0;31m                 raise RuntimeError('You must compile a model before '\n\u001b[0m\u001b[1;32m    682\u001b[0m                                    \u001b[0;34m'training/testing. '\u001b[0m\u001b[0;34m\u001b[0m\u001b[0;34m\u001b[0m\u001b[0m\n\u001b[1;32m    683\u001b[0m                                    'Use `model.compile(optimizer, loss)`.')\n",
      "\u001b[0;31mRuntimeError\u001b[0m: You must compile a model before training/testing. Use `model.compile(optimizer, loss)`."
     ]
    }
   ],
   "source": [
    "sofnn.add_neuron()"
   ]
  },
  {
   "cell_type": "code",
   "execution_count": null,
   "metadata": {},
   "outputs": [],
   "source": []
  },
  {
   "cell_type": "code",
   "execution_count": null,
   "metadata": {},
   "outputs": [],
   "source": []
  },
  {
   "cell_type": "code",
   "execution_count": null,
   "metadata": {},
   "outputs": [],
   "source": []
  },
  {
   "cell_type": "code",
   "execution_count": null,
   "metadata": {},
   "outputs": [],
   "source": []
  },
  {
   "cell_type": "code",
   "execution_count": null,
   "metadata": {},
   "outputs": [],
   "source": []
  },
  {
   "cell_type": "code",
   "execution_count": null,
   "metadata": {},
   "outputs": [],
   "source": []
  },
  {
   "cell_type": "code",
   "execution_count": null,
   "metadata": {},
   "outputs": [],
   "source": []
  },
  {
   "cell_type": "code",
   "execution_count": null,
   "metadata": {},
   "outputs": [],
   "source": []
  },
  {
   "cell_type": "code",
   "execution_count": null,
   "metadata": {},
   "outputs": [],
   "source": []
  },
  {
   "cell_type": "code",
   "execution_count": null,
   "metadata": {},
   "outputs": [],
   "source": []
  },
  {
   "cell_type": "code",
   "execution_count": 4,
   "metadata": {
    "scrolled": true
   },
   "outputs": [
    {
     "name": "stdout",
     "output_type": "stream",
     "text": [
      "Epoch 1/250\n",
      "135/135 [==============================] - 1s 7ms/step - loss: 0.6707 - binary_accuracy: 0.6667\n",
      "Epoch 2/250\n",
      "135/135 [==============================] - 0s 1ms/step - loss: 0.6608 - binary_accuracy: 0.6667\n",
      "Epoch 3/250\n",
      "135/135 [==============================] - 0s 1ms/step - loss: 0.6566 - binary_accuracy: 0.6667\n",
      "Epoch 4/250\n",
      "135/135 [==============================] - 0s 1ms/step - loss: 0.6520 - binary_accuracy: 0.6667\n",
      "Epoch 5/250\n",
      "135/135 [==============================] - 0s 1ms/step - loss: 0.6440 - binary_accuracy: 0.6667\n",
      "Epoch 6/250\n",
      "135/135 [==============================] - 0s 1ms/step - loss: 0.6330 - binary_accuracy: 0.6667\n",
      "Epoch 7/250\n",
      "135/135 [==============================] - 0s 1ms/step - loss: 0.6170 - binary_accuracy: 0.6667\n",
      "Epoch 8/250\n",
      "135/135 [==============================] - 0s 1ms/step - loss: 0.5963 - binary_accuracy: 0.6691\n",
      "Epoch 9/250\n",
      "135/135 [==============================] - 0s 1ms/step - loss: 0.5758 - binary_accuracy: 0.7086\n",
      "Epoch 10/250\n",
      "135/135 [==============================] - 0s 1ms/step - loss: 0.5492 - binary_accuracy: 0.7679\n",
      "Epoch 11/250\n",
      "135/135 [==============================] - 0s 1ms/step - loss: 0.5211 - binary_accuracy: 0.7679\n",
      "Epoch 12/250\n",
      "135/135 [==============================] - 0s 1ms/step - loss: 0.4973 - binary_accuracy: 0.7679\n",
      "Epoch 13/250\n",
      "135/135 [==============================] - 0s 1ms/step - loss: 0.4729 - binary_accuracy: 0.7630\n",
      "Epoch 14/250\n",
      "135/135 [==============================] - 0s 1ms/step - loss: 0.4538 - binary_accuracy: 0.7358\n",
      "Epoch 15/250\n",
      "135/135 [==============================] - 0s 1ms/step - loss: 0.4327 - binary_accuracy: 0.7432\n",
      "Epoch 16/250\n",
      "135/135 [==============================] - 0s 1ms/step - loss: 0.4156 - binary_accuracy: 0.7407\n",
      "Epoch 17/250\n",
      "135/135 [==============================] - 0s 1ms/step - loss: 0.4002 - binary_accuracy: 0.7506\n",
      "Epoch 18/250\n",
      "135/135 [==============================] - 0s 1ms/step - loss: 0.3869 - binary_accuracy: 0.7630\n",
      "Epoch 19/250\n",
      "135/135 [==============================] - 0s 1ms/step - loss: 0.3751 - binary_accuracy: 0.7728\n",
      "Epoch 20/250\n",
      "135/135 [==============================] - 0s 1ms/step - loss: 0.3656 - binary_accuracy: 0.7728\n",
      "Epoch 21/250\n",
      "135/135 [==============================] - 0s 1ms/step - loss: 0.3584 - binary_accuracy: 0.7951\n",
      "Epoch 22/250\n",
      "135/135 [==============================] - 0s 1ms/step - loss: 0.3504 - binary_accuracy: 0.8741\n",
      "Epoch 23/250\n",
      "135/135 [==============================] - 0s 1ms/step - loss: 0.3433 - binary_accuracy: 0.8420\n",
      "Epoch 24/250\n",
      "135/135 [==============================] - 0s 1ms/step - loss: 0.3388 - binary_accuracy: 0.8247\n",
      "Epoch 25/250\n",
      "135/135 [==============================] - 0s 1ms/step - loss: 0.3338 - binary_accuracy: 0.8049\n",
      "Epoch 26/250\n",
      "135/135 [==============================] - 0s 1ms/step - loss: 0.3295 - binary_accuracy: 0.8049\n",
      "Epoch 27/250\n",
      "135/135 [==============================] - 0s 1ms/step - loss: 0.3259 - binary_accuracy: 0.8000\n",
      "Epoch 28/250\n",
      "135/135 [==============================] - 0s 1ms/step - loss: 0.3207 - binary_accuracy: 0.8000\n",
      "Epoch 29/250\n",
      "135/135 [==============================] - 0s 1ms/step - loss: 0.3182 - binary_accuracy: 0.8025\n",
      "Epoch 30/250\n",
      "135/135 [==============================] - 0s 1ms/step - loss: 0.3150 - binary_accuracy: 0.8000\n",
      "Epoch 31/250\n",
      "135/135 [==============================] - 0s 1ms/step - loss: 0.3096 - binary_accuracy: 0.8099\n",
      "Epoch 32/250\n",
      "135/135 [==============================] - 0s 1ms/step - loss: 0.3035 - binary_accuracy: 0.8148\n",
      "Epoch 33/250\n",
      "135/135 [==============================] - 0s 1ms/step - loss: 0.2987 - binary_accuracy: 0.8123\n",
      "Epoch 34/250\n",
      "135/135 [==============================] - 0s 1ms/step - loss: 0.2955 - binary_accuracy: 0.8148\n",
      "Epoch 35/250\n",
      "135/135 [==============================] - 0s 1ms/step - loss: 0.2898 - binary_accuracy: 0.8173\n",
      "Epoch 36/250\n",
      "135/135 [==============================] - 0s 1ms/step - loss: 0.2835 - binary_accuracy: 0.8272\n",
      "Epoch 37/250\n",
      "135/135 [==============================] - 0s 1ms/step - loss: 0.2759 - binary_accuracy: 0.8321\n",
      "Epoch 38/250\n",
      "135/135 [==============================] - 0s 1ms/step - loss: 0.2728 - binary_accuracy: 0.8296\n",
      "Epoch 39/250\n",
      "135/135 [==============================] - 0s 1ms/step - loss: 0.2671 - binary_accuracy: 0.8346\n",
      "Epoch 40/250\n",
      "135/135 [==============================] - 0s 1ms/step - loss: 0.2586 - binary_accuracy: 0.8395\n",
      "Epoch 41/250\n",
      "135/135 [==============================] - 0s 1ms/step - loss: 0.2562 - binary_accuracy: 0.8395\n",
      "Epoch 42/250\n",
      "135/135 [==============================] - 0s 1ms/step - loss: 0.2490 - binary_accuracy: 0.8420\n",
      "Epoch 43/250\n",
      "135/135 [==============================] - 0s 1ms/step - loss: 0.2441 - binary_accuracy: 0.8519\n",
      "Epoch 44/250\n",
      "135/135 [==============================] - 0s 1ms/step - loss: 0.2373 - binary_accuracy: 0.8469\n",
      "Epoch 45/250\n",
      "135/135 [==============================] - 0s 1ms/step - loss: 0.2320 - binary_accuracy: 0.8568\n",
      "Epoch 46/250\n",
      "135/135 [==============================] - 0s 1ms/step - loss: 0.2279 - binary_accuracy: 0.8469\n",
      "Epoch 47/250\n",
      "135/135 [==============================] - 0s 1ms/step - loss: 0.2208 - binary_accuracy: 0.8568\n",
      "Epoch 48/250\n",
      "135/135 [==============================] - 0s 1ms/step - loss: 0.2136 - binary_accuracy: 0.8790\n",
      "Epoch 49/250\n",
      "135/135 [==============================] - 0s 1ms/step - loss: 0.2106 - binary_accuracy: 0.9062\n",
      "Epoch 50/250\n",
      "135/135 [==============================] - 0s 1ms/step - loss: 0.2022 - binary_accuracy: 0.9185\n",
      "Epoch 51/250\n",
      "135/135 [==============================] - 0s 1ms/step - loss: 0.1967 - binary_accuracy: 0.9210\n",
      "Epoch 52/250\n",
      "135/135 [==============================] - 0s 1ms/step - loss: 0.1924 - binary_accuracy: 0.9333\n",
      "Epoch 53/250\n",
      "135/135 [==============================] - 0s 1ms/step - loss: 0.1884 - binary_accuracy: 0.9358\n",
      "Epoch 54/250\n",
      "135/135 [==============================] - 0s 1ms/step - loss: 0.1805 - binary_accuracy: 0.9432\n",
      "Epoch 55/250\n",
      "135/135 [==============================] - 0s 1ms/step - loss: 0.1767 - binary_accuracy: 0.9531\n",
      "Epoch 56/250\n",
      "135/135 [==============================] - 0s 1ms/step - loss: 0.1702 - binary_accuracy: 0.9605\n",
      "Epoch 57/250\n",
      "135/135 [==============================] - 0s 1ms/step - loss: 0.1636 - binary_accuracy: 0.9654\n",
      "Epoch 58/250\n",
      "135/135 [==============================] - 0s 1ms/step - loss: 0.1614 - binary_accuracy: 0.9654\n",
      "Epoch 59/250\n",
      "135/135 [==============================] - 0s 1ms/step - loss: 0.1558 - binary_accuracy: 0.9728\n",
      "Epoch 60/250\n",
      "135/135 [==============================] - 0s 1ms/step - loss: 0.1513 - binary_accuracy: 0.9753\n",
      "Epoch 61/250\n",
      "135/135 [==============================] - 0s 2ms/step - loss: 0.1483 - binary_accuracy: 0.9704\n",
      "Epoch 62/250\n",
      "135/135 [==============================] - 0s 1ms/step - loss: 0.1425 - binary_accuracy: 0.9778\n",
      "Epoch 63/250\n",
      "135/135 [==============================] - 0s 1ms/step - loss: 0.1387 - binary_accuracy: 0.9753\n",
      "Epoch 64/250\n",
      "135/135 [==============================] - 0s 1ms/step - loss: 0.1344 - binary_accuracy: 0.9728\n",
      "Epoch 65/250\n",
      "135/135 [==============================] - 0s 1ms/step - loss: 0.1319 - binary_accuracy: 0.9753\n",
      "Epoch 66/250\n",
      "135/135 [==============================] - 0s 1ms/step - loss: 0.1264 - binary_accuracy: 0.9852\n",
      "Epoch 67/250\n",
      "135/135 [==============================] - 0s 1ms/step - loss: 0.1221 - binary_accuracy: 0.9802\n",
      "Epoch 68/250\n",
      "135/135 [==============================] - 0s 1ms/step - loss: 0.1194 - binary_accuracy: 0.9802\n",
      "Epoch 69/250\n",
      "135/135 [==============================] - 0s 1ms/step - loss: 0.1151 - binary_accuracy: 0.9852\n",
      "Epoch 70/250\n",
      "135/135 [==============================] - 0s 1ms/step - loss: 0.1125 - binary_accuracy: 0.9852\n",
      "Epoch 71/250\n",
      "135/135 [==============================] - 0s 1ms/step - loss: 0.1096 - binary_accuracy: 0.9852\n",
      "Epoch 72/250\n",
      "135/135 [==============================] - 0s 1ms/step - loss: 0.1052 - binary_accuracy: 0.9802\n",
      "Epoch 73/250\n",
      "135/135 [==============================] - 0s 1ms/step - loss: 0.1034 - binary_accuracy: 0.9802\n",
      "Epoch 74/250\n",
      "135/135 [==============================] - 0s 2ms/step - loss: 0.1000 - binary_accuracy: 0.9802\n",
      "Epoch 75/250\n",
      "135/135 [==============================] - 0s 1ms/step - loss: 0.0979 - binary_accuracy: 0.9802\n",
      "Epoch 76/250\n",
      "135/135 [==============================] - 0s 1ms/step - loss: 0.0959 - binary_accuracy: 0.9802\n",
      "Epoch 77/250\n",
      "135/135 [==============================] - 0s 1ms/step - loss: 0.0915 - binary_accuracy: 0.9852\n",
      "Epoch 78/250\n",
      "135/135 [==============================] - 0s 1ms/step - loss: 0.0901 - binary_accuracy: 0.9802\n",
      "Epoch 79/250\n",
      "135/135 [==============================] - 0s 1ms/step - loss: 0.0901 - binary_accuracy: 0.9852\n",
      "Epoch 80/250\n",
      "135/135 [==============================] - 0s 1ms/step - loss: 0.0864 - binary_accuracy: 0.9827\n",
      "Epoch 81/250\n",
      "135/135 [==============================] - 0s 1ms/step - loss: 0.0839 - binary_accuracy: 0.9852\n",
      "Epoch 82/250\n",
      "135/135 [==============================] - 0s 1ms/step - loss: 0.0818 - binary_accuracy: 0.9827\n",
      "Epoch 83/250\n",
      "135/135 [==============================] - 0s 1ms/step - loss: 0.0793 - binary_accuracy: 0.9852\n",
      "Epoch 84/250\n",
      "135/135 [==============================] - 0s 1ms/step - loss: 0.0774 - binary_accuracy: 0.9852\n",
      "Epoch 85/250\n",
      "135/135 [==============================] - 0s 1ms/step - loss: 0.0763 - binary_accuracy: 0.9852\n",
      "Epoch 86/250\n",
      "135/135 [==============================] - 0s 1ms/step - loss: 0.0751 - binary_accuracy: 0.9852\n",
      "Epoch 87/250\n",
      "135/135 [==============================] - 0s 1ms/step - loss: 0.0733 - binary_accuracy: 0.9802\n",
      "Epoch 88/250\n",
      "135/135 [==============================] - 0s 1ms/step - loss: 0.0740 - binary_accuracy: 0.9852\n",
      "Epoch 89/250\n",
      "135/135 [==============================] - 0s 1ms/step - loss: 0.0724 - binary_accuracy: 0.9802\n",
      "Epoch 90/250\n",
      "135/135 [==============================] - 0s 1ms/step - loss: 0.0727 - binary_accuracy: 0.9852\n",
      "Epoch 91/250\n",
      "135/135 [==============================] - 0s 1ms/step - loss: 0.0682 - binary_accuracy: 0.9852\n",
      "Epoch 92/250\n",
      "135/135 [==============================] - 0s 1ms/step - loss: 0.0665 - binary_accuracy: 0.9852\n",
      "Epoch 93/250\n",
      "135/135 [==============================] - 0s 1ms/step - loss: 0.0657 - binary_accuracy: 0.9852\n",
      "Epoch 94/250\n",
      "135/135 [==============================] - 0s 1ms/step - loss: 0.0652 - binary_accuracy: 0.9852\n",
      "Epoch 95/250\n",
      "135/135 [==============================] - 0s 1ms/step - loss: 0.0647 - binary_accuracy: 0.9852\n",
      "Epoch 96/250\n",
      "135/135 [==============================] - 0s 1ms/step - loss: 0.0623 - binary_accuracy: 0.9852\n",
      "Epoch 97/250\n",
      "135/135 [==============================] - 0s 1ms/step - loss: 0.0587 - binary_accuracy: 0.9852\n",
      "Epoch 98/250\n",
      "135/135 [==============================] - 0s 1ms/step - loss: 0.0603 - binary_accuracy: 0.9852\n",
      "Epoch 99/250\n",
      "135/135 [==============================] - 0s 1ms/step - loss: 0.0590 - binary_accuracy: 0.9852\n",
      "Epoch 100/250\n",
      "135/135 [==============================] - 0s 1ms/step - loss: 0.0568 - binary_accuracy: 0.9852\n",
      "Epoch 101/250\n",
      "135/135 [==============================] - 0s 1ms/step - loss: 0.0584 - binary_accuracy: 0.9852\n",
      "Epoch 102/250\n",
      "135/135 [==============================] - 0s 1ms/step - loss: 0.0573 - binary_accuracy: 0.9852\n",
      "Epoch 103/250\n",
      "135/135 [==============================] - 0s 1ms/step - loss: 0.0561 - binary_accuracy: 0.9802\n",
      "Epoch 104/250\n",
      "135/135 [==============================] - 0s 1ms/step - loss: 0.0556 - binary_accuracy: 0.9852\n",
      "Epoch 105/250\n",
      "135/135 [==============================] - 0s 1ms/step - loss: 0.0555 - binary_accuracy: 0.9852\n",
      "Epoch 106/250\n",
      "135/135 [==============================] - 0s 1ms/step - loss: 0.0545 - binary_accuracy: 0.9802\n",
      "Epoch 107/250\n",
      "135/135 [==============================] - 0s 1ms/step - loss: 0.0540 - binary_accuracy: 0.9852\n",
      "Epoch 108/250\n",
      "135/135 [==============================] - 0s 1ms/step - loss: 0.0496 - binary_accuracy: 0.9852\n",
      "Epoch 109/250\n",
      "135/135 [==============================] - 0s 1ms/step - loss: 0.0517 - binary_accuracy: 0.9852\n",
      "Epoch 110/250\n",
      "135/135 [==============================] - 0s 1ms/step - loss: 0.0514 - binary_accuracy: 0.9802\n",
      "Epoch 111/250\n",
      "135/135 [==============================] - 0s 1ms/step - loss: 0.0506 - binary_accuracy: 0.9852\n",
      "Epoch 112/250\n",
      "135/135 [==============================] - 0s 1ms/step - loss: 0.0517 - binary_accuracy: 0.9852\n",
      "Epoch 113/250\n",
      "135/135 [==============================] - 0s 1ms/step - loss: 0.0497 - binary_accuracy: 0.9852\n",
      "Epoch 114/250\n",
      "135/135 [==============================] - 0s 1ms/step - loss: 0.0507 - binary_accuracy: 0.9802\n",
      "Epoch 115/250\n",
      "135/135 [==============================] - 0s 1ms/step - loss: 0.0499 - binary_accuracy: 0.9852\n",
      "Epoch 116/250\n",
      "135/135 [==============================] - 0s 1ms/step - loss: 0.0486 - binary_accuracy: 0.9852\n",
      "Epoch 117/250\n",
      "135/135 [==============================] - 0s 1ms/step - loss: 0.0478 - binary_accuracy: 0.9852\n",
      "Epoch 118/250\n",
      "135/135 [==============================] - 0s 1ms/step - loss: 0.0475 - binary_accuracy: 0.9852\n",
      "Epoch 119/250\n",
      "135/135 [==============================] - 0s 1ms/step - loss: 0.0464 - binary_accuracy: 0.9852\n",
      "Epoch 120/250\n",
      "135/135 [==============================] - 0s 1ms/step - loss: 0.0472 - binary_accuracy: 0.9852\n",
      "Epoch 121/250\n",
      "135/135 [==============================] - 0s 1ms/step - loss: 0.0473 - binary_accuracy: 0.9852\n",
      "Epoch 122/250\n",
      "135/135 [==============================] - 0s 1ms/step - loss: 0.0456 - binary_accuracy: 0.9852\n",
      "Epoch 123/250\n",
      "135/135 [==============================] - 0s 1ms/step - loss: 0.0454 - binary_accuracy: 0.9901\n",
      "Epoch 124/250\n",
      "135/135 [==============================] - 0s 1ms/step - loss: 0.0446 - binary_accuracy: 0.9852\n",
      "Epoch 125/250\n",
      "135/135 [==============================] - 0s 1ms/step - loss: 0.0445 - binary_accuracy: 0.9901\n",
      "Epoch 126/250\n",
      "135/135 [==============================] - 0s 1ms/step - loss: 0.0438 - binary_accuracy: 0.9852\n",
      "Epoch 127/250\n",
      "135/135 [==============================] - 0s 1ms/step - loss: 0.0442 - binary_accuracy: 0.9852\n",
      "Epoch 128/250\n",
      "135/135 [==============================] - 0s 1ms/step - loss: 0.0441 - binary_accuracy: 0.9852\n",
      "Epoch 129/250\n",
      "135/135 [==============================] - 0s 1ms/step - loss: 0.0432 - binary_accuracy: 0.9852\n",
      "Epoch 130/250\n",
      "135/135 [==============================] - 0s 1ms/step - loss: 0.0452 - binary_accuracy: 0.9802\n",
      "Epoch 131/250\n",
      "135/135 [==============================] - 0s 1ms/step - loss: 0.0420 - binary_accuracy: 0.9802\n",
      "Epoch 132/250\n",
      "135/135 [==============================] - 0s 1ms/step - loss: 0.0415 - binary_accuracy: 0.9852\n",
      "Epoch 133/250\n",
      "135/135 [==============================] - 0s 1ms/step - loss: 0.0416 - binary_accuracy: 0.9852\n",
      "Epoch 134/250\n",
      "135/135 [==============================] - 0s 1ms/step - loss: 0.0413 - binary_accuracy: 0.9901\n",
      "Epoch 135/250\n",
      "135/135 [==============================] - 0s 1ms/step - loss: 0.0406 - binary_accuracy: 0.9852\n",
      "Epoch 136/250\n",
      "135/135 [==============================] - 0s 1ms/step - loss: 0.0423 - binary_accuracy: 0.9802\n",
      "Epoch 137/250\n",
      "135/135 [==============================] - 0s 1ms/step - loss: 0.0414 - binary_accuracy: 0.9852\n",
      "Epoch 138/250\n",
      "135/135 [==============================] - 0s 1ms/step - loss: 0.0408 - binary_accuracy: 0.9852\n",
      "Epoch 139/250\n",
      "135/135 [==============================] - 0s 1ms/step - loss: 0.0405 - binary_accuracy: 0.9852\n",
      "Epoch 140/250\n",
      "135/135 [==============================] - 0s 1ms/step - loss: 0.0379 - binary_accuracy: 0.9852\n",
      "Epoch 141/250\n",
      "135/135 [==============================] - 0s 1ms/step - loss: 0.0416 - binary_accuracy: 0.9852\n",
      "Epoch 142/250\n",
      "135/135 [==============================] - 0s 1ms/step - loss: 0.0403 - binary_accuracy: 0.9852\n",
      "Epoch 143/250\n",
      "135/135 [==============================] - 0s 1ms/step - loss: 0.0405 - binary_accuracy: 0.9802\n",
      "Epoch 144/250\n",
      "135/135 [==============================] - 0s 1ms/step - loss: 0.0394 - binary_accuracy: 0.9802\n",
      "Epoch 145/250\n",
      "135/135 [==============================] - 0s 1ms/step - loss: 0.0391 - binary_accuracy: 0.9802\n",
      "Epoch 146/250\n",
      "135/135 [==============================] - 0s 1ms/step - loss: 0.0377 - binary_accuracy: 0.9852\n",
      "Epoch 147/250\n",
      "135/135 [==============================] - 0s 1ms/step - loss: 0.0385 - binary_accuracy: 0.9802\n",
      "Epoch 148/250\n",
      "135/135 [==============================] - 0s 1ms/step - loss: 0.0382 - binary_accuracy: 0.9852\n",
      "Epoch 149/250\n",
      "135/135 [==============================] - 0s 1ms/step - loss: 0.0422 - binary_accuracy: 0.9852\n",
      "Epoch 150/250\n"
     ]
    },
    {
     "name": "stdout",
     "output_type": "stream",
     "text": [
      "135/135 [==============================] - 0s 1ms/step - loss: 0.0377 - binary_accuracy: 0.9852\n",
      "Epoch 151/250\n",
      "135/135 [==============================] - 0s 1ms/step - loss: 0.0384 - binary_accuracy: 0.9802\n",
      "Epoch 152/250\n",
      "135/135 [==============================] - 0s 1ms/step - loss: 0.0380 - binary_accuracy: 0.9852\n",
      "Epoch 153/250\n",
      "135/135 [==============================] - 0s 1ms/step - loss: 0.0370 - binary_accuracy: 0.9852\n",
      "Epoch 154/250\n",
      "135/135 [==============================] - 0s 1ms/step - loss: 0.0376 - binary_accuracy: 0.9852\n",
      "Epoch 155/250\n",
      "135/135 [==============================] - 0s 1ms/step - loss: 0.0372 - binary_accuracy: 0.9852\n",
      "Epoch 156/250\n",
      "135/135 [==============================] - 0s 1ms/step - loss: 0.0372 - binary_accuracy: 0.9852\n",
      "Epoch 157/250\n",
      "135/135 [==============================] - 0s 1ms/step - loss: 0.0374 - binary_accuracy: 0.9852\n",
      "Epoch 158/250\n",
      "135/135 [==============================] - 0s 1ms/step - loss: 0.0373 - binary_accuracy: 0.9852\n",
      "Epoch 159/250\n",
      "135/135 [==============================] - 0s 1ms/step - loss: 0.0359 - binary_accuracy: 0.9852\n",
      "Epoch 160/250\n",
      "135/135 [==============================] - 0s 1ms/step - loss: 0.0365 - binary_accuracy: 0.9852\n",
      "Epoch 161/250\n",
      "135/135 [==============================] - 0s 1ms/step - loss: 0.0359 - binary_accuracy: 0.9852\n",
      "Epoch 162/250\n",
      "135/135 [==============================] - 0s 1ms/step - loss: 0.0361 - binary_accuracy: 0.9852\n",
      "Epoch 163/250\n",
      "135/135 [==============================] - 0s 1ms/step - loss: 0.0356 - binary_accuracy: 0.9852\n",
      "Epoch 164/250\n",
      "135/135 [==============================] - 0s 1ms/step - loss: 0.0353 - binary_accuracy: 0.9852\n",
      "Epoch 165/250\n",
      "135/135 [==============================] - 0s 1ms/step - loss: 0.0347 - binary_accuracy: 0.9852\n",
      "Epoch 166/250\n",
      "135/135 [==============================] - 0s 1ms/step - loss: 0.0355 - binary_accuracy: 0.9852\n",
      "Epoch 167/250\n",
      "135/135 [==============================] - 0s 1ms/step - loss: 0.0349 - binary_accuracy: 0.9901\n",
      "Epoch 168/250\n",
      "135/135 [==============================] - 0s 1ms/step - loss: 0.0350 - binary_accuracy: 0.9852\n",
      "Epoch 169/250\n",
      "135/135 [==============================] - 0s 1ms/step - loss: 0.0346 - binary_accuracy: 0.9901\n",
      "Epoch 170/250\n",
      "135/135 [==============================] - 0s 1ms/step - loss: 0.0354 - binary_accuracy: 0.9852\n",
      "Epoch 171/250\n",
      "135/135 [==============================] - 0s 1ms/step - loss: 0.0346 - binary_accuracy: 0.9852\n",
      "Epoch 172/250\n",
      "135/135 [==============================] - 0s 1ms/step - loss: 0.0371 - binary_accuracy: 0.9802\n",
      "Epoch 173/250\n",
      "135/135 [==============================] - 0s 1ms/step - loss: 0.0339 - binary_accuracy: 0.9852\n",
      "Epoch 174/250\n",
      "135/135 [==============================] - 0s 1ms/step - loss: 0.0335 - binary_accuracy: 0.9852\n",
      "Epoch 175/250\n",
      "135/135 [==============================] - 0s 1ms/step - loss: 0.0342 - binary_accuracy: 0.9901\n",
      "Epoch 176/250\n",
      "135/135 [==============================] - 0s 1ms/step - loss: 0.0345 - binary_accuracy: 0.9852\n",
      "Epoch 177/250\n",
      "135/135 [==============================] - 0s 1ms/step - loss: 0.0348 - binary_accuracy: 0.9852\n",
      "Epoch 178/250\n",
      "135/135 [==============================] - 0s 1ms/step - loss: 0.0340 - binary_accuracy: 0.9852\n",
      "Epoch 179/250\n",
      "135/135 [==============================] - 0s 1ms/step - loss: 0.0326 - binary_accuracy: 0.9852\n",
      "Epoch 180/250\n",
      "135/135 [==============================] - 0s 1ms/step - loss: 0.0350 - binary_accuracy: 0.9852\n",
      "Epoch 181/250\n",
      "135/135 [==============================] - 0s 1ms/step - loss: 0.0360 - binary_accuracy: 0.9852\n",
      "Epoch 182/250\n",
      "135/135 [==============================] - 0s 1ms/step - loss: 0.0337 - binary_accuracy: 0.9901\n",
      "Epoch 183/250\n",
      "135/135 [==============================] - 0s 1ms/step - loss: 0.0341 - binary_accuracy: 0.9802\n",
      "Epoch 184/250\n",
      "135/135 [==============================] - 0s 1ms/step - loss: 0.0343 - binary_accuracy: 0.9901\n",
      "Epoch 185/250\n",
      "135/135 [==============================] - 0s 1ms/step - loss: 0.0349 - binary_accuracy: 0.9852\n",
      "Epoch 186/250\n",
      "135/135 [==============================] - 0s 1ms/step - loss: 0.0320 - binary_accuracy: 0.9901\n",
      "Epoch 187/250\n",
      "135/135 [==============================] - 0s 1ms/step - loss: 0.0327 - binary_accuracy: 0.9852\n",
      "Epoch 188/250\n",
      "135/135 [==============================] - 0s 1ms/step - loss: 0.0351 - binary_accuracy: 0.9852\n",
      "Epoch 189/250\n",
      "135/135 [==============================] - 0s 1ms/step - loss: 0.0332 - binary_accuracy: 0.9901\n",
      "Epoch 190/250\n",
      "135/135 [==============================] - 0s 1ms/step - loss: 0.0323 - binary_accuracy: 0.9901\n",
      "Epoch 191/250\n",
      "135/135 [==============================] - 0s 1ms/step - loss: 0.0327 - binary_accuracy: 0.9901\n",
      "Epoch 192/250\n",
      "135/135 [==============================] - 0s 1ms/step - loss: 0.0328 - binary_accuracy: 0.9852\n",
      "Epoch 193/250\n",
      "135/135 [==============================] - 0s 1ms/step - loss: 0.0343 - binary_accuracy: 0.9852\n",
      "Epoch 194/250\n",
      "135/135 [==============================] - 0s 1ms/step - loss: 0.0313 - binary_accuracy: 0.9901\n",
      "Epoch 195/250\n",
      "135/135 [==============================] - 0s 1ms/step - loss: 0.0316 - binary_accuracy: 0.9901\n",
      "Epoch 196/250\n",
      "135/135 [==============================] - 0s 1ms/step - loss: 0.0340 - binary_accuracy: 0.9901\n",
      "Epoch 197/250\n",
      "135/135 [==============================] - 0s 1ms/step - loss: 0.0323 - binary_accuracy: 0.9901\n",
      "Epoch 198/250\n",
      "135/135 [==============================] - 0s 1ms/step - loss: 0.0319 - binary_accuracy: 0.9852\n",
      "Epoch 199/250\n",
      "135/135 [==============================] - 0s 1ms/step - loss: 0.0328 - binary_accuracy: 0.9852\n",
      "Epoch 200/250\n",
      "135/135 [==============================] - 0s 1ms/step - loss: 0.0311 - binary_accuracy: 0.9901\n",
      "Epoch 201/250\n",
      "135/135 [==============================] - 0s 1ms/step - loss: 0.0321 - binary_accuracy: 0.9901\n",
      "Epoch 202/250\n",
      "135/135 [==============================] - 0s 1ms/step - loss: 0.0313 - binary_accuracy: 0.9852\n",
      "Epoch 203/250\n",
      "135/135 [==============================] - 0s 1ms/step - loss: 0.0314 - binary_accuracy: 0.9852\n",
      "Epoch 204/250\n",
      "135/135 [==============================] - 0s 1ms/step - loss: 0.0312 - binary_accuracy: 0.9852\n",
      "Epoch 205/250\n",
      "135/135 [==============================] - 0s 1ms/step - loss: 0.0328 - binary_accuracy: 0.9802\n",
      "Epoch 206/250\n",
      "135/135 [==============================] - 0s 1ms/step - loss: 0.0309 - binary_accuracy: 0.9901\n",
      "Epoch 207/250\n",
      "135/135 [==============================] - 0s 1ms/step - loss: 0.0310 - binary_accuracy: 0.9852\n",
      "Epoch 208/250\n",
      "135/135 [==============================] - 0s 1ms/step - loss: 0.0322 - binary_accuracy: 0.9852\n",
      "Epoch 209/250\n",
      "135/135 [==============================] - 0s 1ms/step - loss: 0.0309 - binary_accuracy: 0.9901\n",
      "Epoch 210/250\n",
      "135/135 [==============================] - 0s 1ms/step - loss: 0.0315 - binary_accuracy: 0.9852\n",
      "Epoch 211/250\n",
      "135/135 [==============================] - 0s 1ms/step - loss: 0.0312 - binary_accuracy: 0.9852\n",
      "Epoch 212/250\n",
      "135/135 [==============================] - 0s 1ms/step - loss: 0.0312 - binary_accuracy: 0.9901\n",
      "Epoch 213/250\n",
      "135/135 [==============================] - 0s 1ms/step - loss: 0.0304 - binary_accuracy: 0.9901\n",
      "Epoch 214/250\n",
      "135/135 [==============================] - 0s 1ms/step - loss: 0.0323 - binary_accuracy: 0.9901\n",
      "Epoch 215/250\n",
      "135/135 [==============================] - 0s 1ms/step - loss: 0.0308 - binary_accuracy: 0.9901\n",
      "Epoch 216/250\n",
      "135/135 [==============================] - 0s 1ms/step - loss: 0.0303 - binary_accuracy: 0.9852\n",
      "Epoch 217/250\n",
      "135/135 [==============================] - 0s 1ms/step - loss: 0.0298 - binary_accuracy: 0.9901\n",
      "Epoch 218/250\n",
      "135/135 [==============================] - 0s 1ms/step - loss: 0.0303 - binary_accuracy: 0.9901\n",
      "Epoch 219/250\n",
      "135/135 [==============================] - 0s 1ms/step - loss: 0.0309 - binary_accuracy: 0.9901\n",
      "Epoch 220/250\n",
      "135/135 [==============================] - 0s 1ms/step - loss: 0.0325 - binary_accuracy: 0.9852\n",
      "Epoch 221/250\n",
      "135/135 [==============================] - 0s 1ms/step - loss: 0.0298 - binary_accuracy: 0.9901\n",
      "Epoch 222/250\n",
      "135/135 [==============================] - 0s 1ms/step - loss: 0.0302 - binary_accuracy: 0.9901\n",
      "Epoch 223/250\n",
      "135/135 [==============================] - 0s 1ms/step - loss: 0.0310 - binary_accuracy: 0.9901\n",
      "Epoch 224/250\n",
      "135/135 [==============================] - 0s 1ms/step - loss: 0.0300 - binary_accuracy: 0.9901\n",
      "Epoch 225/250\n",
      "135/135 [==============================] - 0s 1ms/step - loss: 0.0311 - binary_accuracy: 0.9901\n",
      "Epoch 226/250\n",
      "135/135 [==============================] - 0s 1ms/step - loss: 0.0329 - binary_accuracy: 0.9901\n",
      "Epoch 227/250\n",
      "135/135 [==============================] - 0s 1ms/step - loss: 0.0316 - binary_accuracy: 0.9901\n",
      "Epoch 228/250\n",
      "135/135 [==============================] - 0s 1ms/step - loss: 0.0328 - binary_accuracy: 0.9852\n",
      "Epoch 229/250\n",
      "135/135 [==============================] - 0s 1ms/step - loss: 0.0307 - binary_accuracy: 0.9852\n",
      "Epoch 230/250\n",
      "135/135 [==============================] - 0s 1ms/step - loss: 0.0289 - binary_accuracy: 0.9901\n",
      "Epoch 231/250\n",
      "135/135 [==============================] - 0s 1ms/step - loss: 0.0297 - binary_accuracy: 0.9901\n",
      "Epoch 232/250\n",
      "135/135 [==============================] - 0s 1ms/step - loss: 0.0299 - binary_accuracy: 0.9852\n",
      "Epoch 233/250\n",
      "135/135 [==============================] - 0s 1ms/step - loss: 0.0300 - binary_accuracy: 0.9852\n",
      "Epoch 234/250\n",
      "135/135 [==============================] - 0s 1ms/step - loss: 0.0293 - binary_accuracy: 0.9901\n",
      "Epoch 235/250\n",
      "135/135 [==============================] - 0s 1ms/step - loss: 0.0299 - binary_accuracy: 0.9901\n",
      "Epoch 236/250\n",
      "135/135 [==============================] - 0s 1ms/step - loss: 0.0292 - binary_accuracy: 0.9901\n",
      "Epoch 237/250\n",
      "135/135 [==============================] - 0s 1ms/step - loss: 0.0299 - binary_accuracy: 0.9901\n",
      "Epoch 238/250\n",
      "135/135 [==============================] - 0s 1ms/step - loss: 0.0294 - binary_accuracy: 0.9901\n",
      "Epoch 239/250\n",
      "135/135 [==============================] - 0s 1ms/step - loss: 0.0286 - binary_accuracy: 0.9901\n",
      "Epoch 240/250\n",
      "135/135 [==============================] - 0s 1ms/step - loss: 0.0310 - binary_accuracy: 0.9901\n",
      "Epoch 241/250\n",
      "135/135 [==============================] - 0s 1ms/step - loss: 0.0296 - binary_accuracy: 0.9901\n",
      "Epoch 242/250\n",
      "135/135 [==============================] - 0s 1ms/step - loss: 0.0301 - binary_accuracy: 0.9852\n",
      "Epoch 243/250\n",
      "135/135 [==============================] - 0s 1ms/step - loss: 0.0285 - binary_accuracy: 0.9901\n",
      "Epoch 244/250\n",
      "135/135 [==============================] - 0s 1ms/step - loss: 0.0285 - binary_accuracy: 0.9901\n",
      "Epoch 245/250\n",
      "135/135 [==============================] - 0s 1ms/step - loss: 0.0289 - binary_accuracy: 0.9901\n",
      "Epoch 246/250\n",
      "135/135 [==============================] - 0s 1ms/step - loss: 0.0282 - binary_accuracy: 0.9901\n",
      "Epoch 247/250\n",
      "135/135 [==============================] - 0s 1ms/step - loss: 0.0285 - binary_accuracy: 0.9901\n",
      "Epoch 248/250\n",
      "135/135 [==============================] - 0s 1ms/step - loss: 0.0281 - binary_accuracy: 0.9901\n",
      "Epoch 249/250\n",
      "135/135 [==============================] - 0s 1ms/step - loss: 0.0292 - binary_accuracy: 0.9852\n",
      "Epoch 250/250\n",
      "135/135 [==============================] - 0s 1ms/step - loss: 0.0292 - binary_accuracy: 0.9901\n"
     ]
    },
    {
     "data": {
      "text/plain": [
       "<keras.callbacks.History at 0x1a32d24f60>"
      ]
     },
     "execution_count": 4,
     "metadata": {},
     "output_type": "execute_result"
    }
   ],
   "source": [
    "# loss = 'mean_squared_error'\n",
    "loss = fuzz.loss_function\n",
    "optimizer = 'adam'\n",
    "metrics = ['binary_accuracy']\n",
    "\n",
    "model = fuzz.model\n",
    "\n",
    "model.compile(loss=loss,\n",
    "              optimizer=optimizer,\n",
    "              metrics=metrics)\n",
    "\n",
    "model.fit(np.array(X_train),\n",
    "          np.array(y_train),\n",
    "          epochs=250,\n",
    "          verbose=1,\n",
    "          batch_size=2)"
   ]
  },
  {
   "cell_type": "code",
   "execution_count": 5,
   "metadata": {},
   "outputs": [
    {
     "data": {
      "text/plain": [
       "[array([[ 6.1073303,  5.8863463,  3.8469965],\n",
       "        [ 2.4748902,  4.0579185,  1.1891739],\n",
       "        [ 6.9911284,  1.0462298,  3.7106006],\n",
       "        [ 3.7091155, -0.3453039,  2.5200057]], dtype=float32),\n",
       " array([[3.9457917, 5.1618943, 2.0746884],\n",
       "        [3.2234733, 3.435901 , 2.1246395],\n",
       "        [2.0414689, 3.5269158, 2.0570922],\n",
       "        [1.4811075, 2.9864326, 1.6324853]], dtype=float32)]"
      ]
     },
     "execution_count": 5,
     "metadata": {},
     "output_type": "execute_result"
    }
   ],
   "source": [
    "fuzz._get_layer_weights('FuzzyRules')"
   ]
  },
  {
   "cell_type": "code",
   "execution_count": 6,
   "metadata": {},
   "outputs": [
    {
     "data": {
      "text/plain": [
       "array([[5. , 3.6, 1.4, 0.2],\n",
       "       [6.3, 2.9, 5.6, 1.8],\n",
       "       [6.6, 3. , 4.4, 1.4],\n",
       "       [4.6, 3.6, 1. , 0.2],\n",
       "       [5.9, 3.2, 4.8, 1.8],\n",
       "       [5.9, 3. , 4.2, 1.5],\n",
       "       [5.7, 3. , 4.2, 1.2],\n",
       "       [6.9, 3.1, 4.9, 1.5],\n",
       "       [4.8, 3. , 1.4, 0.3],\n",
       "       [7.4, 2.8, 6.1, 1.9],\n",
       "       [5.1, 3.5, 1.4, 0.2],\n",
       "       [5.1, 3.3, 1.7, 0.5],\n",
       "       [6.4, 2.7, 5.3, 1.9],\n",
       "       [6.1, 2.9, 4.7, 1.4],\n",
       "       [4.8, 3.1, 1.6, 0.2]])"
      ]
     },
     "execution_count": 6,
     "metadata": {},
     "output_type": "execute_result"
    }
   ],
   "source": [
    "X_test"
   ]
  },
  {
   "cell_type": "code",
   "execution_count": 7,
   "metadata": {},
   "outputs": [
    {
     "data": {
      "text/plain": [
       "array([[1., 0., 0.],\n",
       "       [0., 0., 1.],\n",
       "       [0., 1., 0.],\n",
       "       [1., 0., 0.],\n",
       "       [0., 1., 0.],\n",
       "       [0., 1., 0.],\n",
       "       [0., 1., 0.],\n",
       "       [0., 1., 0.],\n",
       "       [1., 0., 0.],\n",
       "       [0., 0., 1.],\n",
       "       [1., 0., 0.],\n",
       "       [1., 0., 0.],\n",
       "       [0., 0., 1.],\n",
       "       [0., 1., 0.],\n",
       "       [1., 0., 0.]])"
      ]
     },
     "execution_count": 7,
     "metadata": {},
     "output_type": "execute_result"
    }
   ],
   "source": [
    "y_test"
   ]
  },
  {
   "cell_type": "code",
   "execution_count": 8,
   "metadata": {},
   "outputs": [
    {
     "data": {
      "text/plain": [
       "array([[1., 0., 0.],\n",
       "       [0., 0., 1.],\n",
       "       [0., 1., 0.],\n",
       "       [1., 0., 0.],\n",
       "       [0., 0., 1.],\n",
       "       [0., 1., 0.],\n",
       "       [0., 1., 0.],\n",
       "       [0., 1., 0.],\n",
       "       [1., 0., 0.],\n",
       "       [0., 0., 1.],\n",
       "       [1., 0., 0.],\n",
       "       [1., 0., 0.],\n",
       "       [0., 0., 1.],\n",
       "       [0., 1., 0.],\n",
       "       [1., 0., 0.]], dtype=float32)"
      ]
     },
     "execution_count": 8,
     "metadata": {},
     "output_type": "execute_result"
    }
   ],
   "source": [
    "y_pred = model.predict(X_test)\n",
    "y_pred.round()"
   ]
  },
  {
   "cell_type": "code",
   "execution_count": 9,
   "metadata": {},
   "outputs": [
    {
     "data": {
      "text/plain": [
       "array([[ True,  True,  True],\n",
       "       [ True,  True,  True],\n",
       "       [ True,  True,  True],\n",
       "       [ True,  True,  True],\n",
       "       [ True, False, False],\n",
       "       [ True,  True,  True],\n",
       "       [ True,  True,  True],\n",
       "       [ True,  True,  True],\n",
       "       [ True,  True,  True],\n",
       "       [ True,  True,  True],\n",
       "       [ True,  True,  True],\n",
       "       [ True,  True,  True],\n",
       "       [ True,  True,  True],\n",
       "       [ True,  True,  True],\n",
       "       [ True,  True,  True]])"
      ]
     },
     "execution_count": 9,
     "metadata": {},
     "output_type": "execute_result"
    }
   ],
   "source": [
    "acc = y_test == y_pred.round()\n",
    "acc"
   ]
  },
  {
   "cell_type": "code",
   "execution_count": 10,
   "metadata": {},
   "outputs": [
    {
     "data": {
      "text/plain": [
       "0.9555555555555556"
      ]
     },
     "execution_count": 10,
     "metadata": {},
     "output_type": "execute_result"
    }
   ],
   "source": [
    "acc.sum() / acc.size"
   ]
  },
  {
   "cell_type": "markdown",
   "metadata": {},
   "source": [
    "## Model Prediction Results"
   ]
  },
  {
   "cell_type": "code",
   "execution_count": 11,
   "metadata": {},
   "outputs": [
    {
     "name": "stdout",
     "output_type": "stream",
     "text": [
      "15/15 [==============================] - 0s 9ms/step\n",
      "Model Loss: 0.43104896\n",
      "Binary Accuracy: 95.6%\n"
     ]
    }
   ],
   "source": [
    "pred_loss, pred_bin_acc = model.evaluate(X_test, y_test)\n",
    "print('Model Loss: {:0.8f}'.format(pred_loss))\n",
    "print('Binary Accuracy: {:2.1f}%'.format(100*pred_bin_acc))"
   ]
  },
  {
   "cell_type": "code",
   "execution_count": 12,
   "metadata": {},
   "outputs": [
    {
     "data": {
      "text/plain": [
       "['loss', 'binary_accuracy']"
      ]
     },
     "execution_count": 12,
     "metadata": {},
     "output_type": "execute_result"
    }
   ],
   "source": [
    "model.metrics_names"
   ]
  },
  {
   "cell_type": "markdown",
   "metadata": {},
   "source": [
    "## Plot Results"
   ]
  },
  {
   "cell_type": "code",
   "execution_count": 13,
   "metadata": {},
   "outputs": [
    {
     "name": "stderr",
     "output_type": "stream",
     "text": [
      "'c' argument looks like a single numeric RGB or RGBA sequence, which should be avoided as value-mapping will have precedence in case its length matches with 'x' & 'y'.  Please use a 2-D array with a single row if you really want to specify the same RGB or RGBA value for all points.\n"
     ]
    },
    {
     "data": {
      "image/png": "[encoded data removed]",
      "text/plain": [
       "<Figure size 432x288 with 1 Axes>"
      ]
     },
     "metadata": {
      "needs_background": "light"
     },
     "output_type": "display_data"
    }
   ],
   "source": [
    "w = fuzz._get_layer_weights('FuzzyRules')\n",
    "\n",
    "\n",
    "plt.clf()\n",
    "plt.title('Iris')\n",
    "plt.ylabel('x[0]')\n",
    "plt.xlabel('x[1]')\n",
    "plt.scatter([a[0] for a in X_train], [a[1] for a in X_train], c=(0,0,0), alpha=0.5,s=1)\n",
    "for i in range(0,fuzz.neurons):\n",
    "    ellipse = Ellipse((w[0][0][i], w[0][1][i]), w[1][0][i],w[1][1][i], color='r', fill=False)\n",
    "    ax = plt.gca()\n",
    "    ax.add_patch(ellipse)\n",
    "\n",
    "plt.scatter(w[0][0], w[0][1], c=(1,0,0), alpha=0.8,s=15)\n",
    "plt.show()"
   ]
  }
 ],
 "metadata": {
  "kernelspec": {
   "display_name": "Python 3",
   "language": "python",
   "name": "python3"
  },
  "language_info": {
   "codemirror_mode": {
    "name": "ipython",
    "version": 3
   },
   "file_extension": ".py",
   "mimetype": "text/x-python",
   "name": "python",
   "nbconvert_exporter": "python",
   "pygments_lexer": "ipython3",
   "version": "3.6.8"
  }
 },
 "nbformat": 4,
 "nbformat_minor": 1
}
