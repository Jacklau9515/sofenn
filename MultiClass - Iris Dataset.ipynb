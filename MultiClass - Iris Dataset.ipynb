{
 "cells": [
  {
   "cell_type": "markdown",
   "metadata": {
    "collapsed": true
   },
   "source": [
    "# Iris Dataset - SOFENN Example"
   ]
  },
  {
   "cell_type": "markdown",
   "metadata": {},
   "source": [
    "Demonstrate multi-class classification with SOFENN on classic Iris Dataset"
   ]
  },
  {
   "cell_type": "code",
   "execution_count": 1,
   "metadata": {},
   "outputs": [
    {
     "name": "stderr",
     "output_type": "stream",
     "text": [
      "Using TensorFlow backend.\n"
     ]
    }
   ],
   "source": [
    "import numpy as np\n",
    "import random as rnd\n",
    "\n",
    "from sklearn import datasets\n",
    "from sklearn.model_selection import train_test_split\n",
    "\n",
    "import matplotlib.pyplot as plt\n",
    "from matplotlib.patches import Ellipse\n",
    "\n",
    "import keras\n",
    "import keras.backend as K\n",
    "\n",
    "from keras.optimizers import SGD\n",
    "from keras.utils import plot_model\n",
    "from keras.models import Sequential, Model\n",
    "from keras.layers import Dense, Dropout, Activation, Input\n",
    "\n",
    "from sofenn.layers.DefuzzyLayer import DefuzzyLayer\n",
    "from sofenn.layers import FuzzyLayer, NormalizedLayer, WeightedLayer, OutputLayer\n",
    "\n",
    "import os\n",
    "\n",
    "os.environ['KMP_DUPLICATE_LIB_OK']='True'"
   ]
  },
  {
   "cell_type": "code",
   "execution_count": 2,
   "metadata": {
    "scrolled": true
   },
   "outputs": [
    {
     "name": "stdout",
     "output_type": "stream",
     "text": [
      "Epoch 1/100\n",
      "135/135 [==============================] - 2s 15ms/step - loss: 0.6132 - binary_accuracy: 0.6667\n",
      "Epoch 2/100\n",
      "135/135 [==============================] - 0s 2ms/step - loss: 0.5387 - binary_accuracy: 0.7210\n",
      "Epoch 3/100\n",
      "135/135 [==============================] - 0s 2ms/step - loss: 0.4805 - binary_accuracy: 0.7407\n",
      "Epoch 4/100\n",
      "135/135 [==============================] - 0s 2ms/step - loss: 0.4441 - binary_accuracy: 0.7309\n",
      "Epoch 5/100\n",
      "135/135 [==============================] - 0s 2ms/step - loss: 0.4209 - binary_accuracy: 0.7704\n",
      "Epoch 6/100\n",
      "135/135 [==============================] - 0s 2ms/step - loss: 0.4033 - binary_accuracy: 0.8198\n",
      "Epoch 7/100\n",
      "135/135 [==============================] - 0s 2ms/step - loss: 0.3821 - binary_accuracy: 0.8198\n",
      "Epoch 8/100\n",
      "135/135 [==============================] - 0s 2ms/step - loss: 0.3550 - binary_accuracy: 0.8198\n",
      "Epoch 9/100\n",
      "135/135 [==============================] - 0s 2ms/step - loss: 0.3254 - binary_accuracy: 0.8247\n",
      "Epoch 10/100\n",
      "135/135 [==============================] - 0s 2ms/step - loss: 0.2993 - binary_accuracy: 0.8247\n",
      "Epoch 11/100\n",
      "135/135 [==============================] - 0s 2ms/step - loss: 0.2766 - binary_accuracy: 0.8494\n",
      "Epoch 12/100\n",
      "135/135 [==============================] - 0s 2ms/step - loss: 0.2607 - binary_accuracy: 0.8642\n",
      "Epoch 13/100\n",
      "135/135 [==============================] - 0s 2ms/step - loss: 0.2464 - binary_accuracy: 0.8593\n",
      "Epoch 14/100\n",
      "135/135 [==============================] - 0s 2ms/step - loss: 0.2353 - binary_accuracy: 0.8741\n",
      "Epoch 15/100\n",
      "135/135 [==============================] - 0s 2ms/step - loss: 0.2233 - binary_accuracy: 0.8741\n",
      "Epoch 16/100\n",
      "135/135 [==============================] - 0s 2ms/step - loss: 0.2140 - binary_accuracy: 0.8741\n",
      "Epoch 17/100\n",
      "135/135 [==============================] - 0s 2ms/step - loss: 0.2013 - binary_accuracy: 0.8716\n",
      "Epoch 18/100\n",
      "135/135 [==============================] - 0s 2ms/step - loss: 0.1935 - binary_accuracy: 0.8765\n",
      "Epoch 19/100\n",
      "135/135 [==============================] - 0s 2ms/step - loss: 0.1800 - binary_accuracy: 0.8840\n",
      "Epoch 20/100\n",
      "135/135 [==============================] - 0s 2ms/step - loss: 0.1718 - binary_accuracy: 0.9358\n",
      "Epoch 21/100\n",
      "135/135 [==============================] - 0s 2ms/step - loss: 0.1623 - binary_accuracy: 0.9556\n",
      "Epoch 22/100\n",
      "135/135 [==============================] - 0s 2ms/step - loss: 0.1537 - binary_accuracy: 0.9704\n",
      "Epoch 23/100\n",
      "135/135 [==============================] - 0s 2ms/step - loss: 0.1444 - binary_accuracy: 0.9630\n",
      "Epoch 24/100\n",
      "135/135 [==============================] - ETA: 0s - loss: 0.1323 - binary_accuracy: 0.980 - 0s 2ms/step - loss: 0.1380 - binary_accuracy: 0.9728\n",
      "Epoch 25/100\n",
      "135/135 [==============================] - 0s 2ms/step - loss: 0.1305 - binary_accuracy: 0.9778\n",
      "Epoch 26/100\n",
      "135/135 [==============================] - 0s 2ms/step - loss: 0.1235 - binary_accuracy: 0.9753\n",
      "Epoch 27/100\n",
      "135/135 [==============================] - 0s 2ms/step - loss: 0.1161 - binary_accuracy: 0.9778\n",
      "Epoch 28/100\n",
      "135/135 [==============================] - 0s 2ms/step - loss: 0.1106 - binary_accuracy: 0.9753\n",
      "Epoch 29/100\n",
      "135/135 [==============================] - 0s 2ms/step - loss: 0.1055 - binary_accuracy: 0.9728\n",
      "Epoch 30/100\n",
      "135/135 [==============================] - 0s 2ms/step - loss: 0.1001 - binary_accuracy: 0.9802\n",
      "Epoch 31/100\n",
      "135/135 [==============================] - 0s 2ms/step - loss: 0.0963 - binary_accuracy: 0.9802\n",
      "Epoch 32/100\n",
      "135/135 [==============================] - 0s 2ms/step - loss: 0.0918 - binary_accuracy: 0.9827\n",
      "Epoch 33/100\n",
      "135/135 [==============================] - 0s 2ms/step - loss: 0.0875 - binary_accuracy: 0.9827\n",
      "Epoch 34/100\n",
      "135/135 [==============================] - 0s 2ms/step - loss: 0.0845 - binary_accuracy: 0.9827\n",
      "Epoch 35/100\n",
      "135/135 [==============================] - 0s 2ms/step - loss: 0.0812 - binary_accuracy: 0.9778\n",
      "Epoch 36/100\n",
      "135/135 [==============================] - 0s 2ms/step - loss: 0.0776 - binary_accuracy: 0.9802\n",
      "Epoch 37/100\n",
      "135/135 [==============================] - 0s 2ms/step - loss: 0.0753 - binary_accuracy: 0.9802\n",
      "Epoch 38/100\n",
      "135/135 [==============================] - 0s 2ms/step - loss: 0.0723 - binary_accuracy: 0.9827\n",
      "Epoch 39/100\n",
      "135/135 [==============================] - 0s 2ms/step - loss: 0.0698 - binary_accuracy: 0.9827\n",
      "Epoch 40/100\n",
      "135/135 [==============================] - 0s 2ms/step - loss: 0.0674 - binary_accuracy: 0.9852\n",
      "Epoch 41/100\n",
      "135/135 [==============================] - 0s 2ms/step - loss: 0.0645 - binary_accuracy: 0.9852\n",
      "Epoch 42/100\n",
      "135/135 [==============================] - 0s 2ms/step - loss: 0.0636 - binary_accuracy: 0.9852\n",
      "Epoch 43/100\n",
      "135/135 [==============================] - 0s 2ms/step - loss: 0.0605 - binary_accuracy: 0.9827\n",
      "Epoch 44/100\n",
      "135/135 [==============================] - 0s 2ms/step - loss: 0.0610 - binary_accuracy: 0.9877\n",
      "Epoch 45/100\n",
      "135/135 [==============================] - 0s 2ms/step - loss: 0.0588 - binary_accuracy: 0.9827\n",
      "Epoch 46/100\n",
      "135/135 [==============================] - 0s 2ms/step - loss: 0.0584 - binary_accuracy: 0.9778\n",
      "Epoch 47/100\n",
      "135/135 [==============================] - 0s 2ms/step - loss: 0.0552 - binary_accuracy: 0.9852\n",
      "Epoch 48/100\n",
      "135/135 [==============================] - 0s 2ms/step - loss: 0.0542 - binary_accuracy: 0.9827\n",
      "Epoch 49/100\n",
      "135/135 [==============================] - 0s 2ms/step - loss: 0.0522 - binary_accuracy: 0.9852\n",
      "Epoch 50/100\n",
      "135/135 [==============================] - 0s 2ms/step - loss: 0.0521 - binary_accuracy: 0.9852\n",
      "Epoch 51/100\n",
      "135/135 [==============================] - 0s 2ms/step - loss: 0.0505 - binary_accuracy: 0.9877\n",
      "Epoch 52/100\n",
      "135/135 [==============================] - 0s 2ms/step - loss: 0.0498 - binary_accuracy: 0.9827\n",
      "Epoch 53/100\n",
      "135/135 [==============================] - 0s 2ms/step - loss: 0.0482 - binary_accuracy: 0.9852\n",
      "Epoch 54/100\n",
      "135/135 [==============================] - 0s 2ms/step - loss: 0.0489 - binary_accuracy: 0.9827\n",
      "Epoch 55/100\n",
      "135/135 [==============================] - 0s 2ms/step - loss: 0.0474 - binary_accuracy: 0.9852\n",
      "Epoch 56/100\n",
      "135/135 [==============================] - 0s 2ms/step - loss: 0.0468 - binary_accuracy: 0.9852\n",
      "Epoch 57/100\n",
      "135/135 [==============================] - 0s 2ms/step - loss: 0.0458 - binary_accuracy: 0.9852\n",
      "Epoch 58/100\n",
      "135/135 [==============================] - 0s 2ms/step - loss: 0.0455 - binary_accuracy: 0.9901\n",
      "Epoch 59/100\n",
      "135/135 [==============================] - 0s 2ms/step - loss: 0.0439 - binary_accuracy: 0.9877\n",
      "Epoch 60/100\n",
      "135/135 [==============================] - 0s 2ms/step - loss: 0.0440 - binary_accuracy: 0.9852\n",
      "Epoch 61/100\n",
      "135/135 [==============================] - 0s 2ms/step - loss: 0.0428 - binary_accuracy: 0.9852\n",
      "Epoch 62/100\n",
      "135/135 [==============================] - 0s 2ms/step - loss: 0.0422 - binary_accuracy: 0.9852\n",
      "Epoch 63/100\n",
      "135/135 [==============================] - 0s 2ms/step - loss: 0.0422 - binary_accuracy: 0.9877\n",
      "Epoch 64/100\n",
      "135/135 [==============================] - 0s 2ms/step - loss: 0.0413 - binary_accuracy: 0.9852\n",
      "Epoch 65/100\n",
      "135/135 [==============================] - 0s 2ms/step - loss: 0.0418 - binary_accuracy: 0.9877\n",
      "Epoch 66/100\n",
      "135/135 [==============================] - 0s 2ms/step - loss: 0.0400 - binary_accuracy: 0.9852\n",
      "Epoch 67/100\n",
      "135/135 [==============================] - 0s 2ms/step - loss: 0.0397 - binary_accuracy: 0.9852\n",
      "Epoch 68/100\n",
      "135/135 [==============================] - 0s 2ms/step - loss: 0.0387 - binary_accuracy: 0.9877\n",
      "Epoch 69/100\n",
      "135/135 [==============================] - 0s 2ms/step - loss: 0.0411 - binary_accuracy: 0.9827\n",
      "Epoch 70/100\n",
      "135/135 [==============================] - 0s 2ms/step - loss: 0.0402 - binary_accuracy: 0.9877\n",
      "Epoch 71/100\n",
      "135/135 [==============================] - 0s 2ms/step - loss: 0.0397 - binary_accuracy: 0.9827\n",
      "Epoch 72/100\n",
      "135/135 [==============================] - 0s 2ms/step - loss: 0.0375 - binary_accuracy: 0.9877\n",
      "Epoch 73/100\n",
      "135/135 [==============================] - 0s 2ms/step - loss: 0.0385 - binary_accuracy: 0.9901\n",
      "Epoch 74/100\n",
      "135/135 [==============================] - 0s 2ms/step - loss: 0.0365 - binary_accuracy: 0.9852\n",
      "Epoch 75/100\n"
     ]
    },
    {
     "name": "stdout",
     "output_type": "stream",
     "text": [
      "135/135 [==============================] - 0s 2ms/step - loss: 0.0382 - binary_accuracy: 0.9901\n",
      "Epoch 76/100\n",
      "135/135 [==============================] - 0s 2ms/step - loss: 0.0395 - binary_accuracy: 0.9852\n",
      "Epoch 77/100\n",
      "135/135 [==============================] - 0s 2ms/step - loss: 0.0358 - binary_accuracy: 0.9852\n",
      "Epoch 78/100\n",
      "135/135 [==============================] - 0s 2ms/step - loss: 0.0366 - binary_accuracy: 0.9852\n",
      "Epoch 79/100\n",
      "135/135 [==============================] - 0s 2ms/step - loss: 0.0381 - binary_accuracy: 0.9802\n",
      "Epoch 80/100\n",
      "135/135 [==============================] - 0s 2ms/step - loss: 0.0333 - binary_accuracy: 0.9901\n",
      "Epoch 81/100\n",
      "135/135 [==============================] - 0s 2ms/step - loss: 0.0373 - binary_accuracy: 0.9852\n",
      "Epoch 82/100\n",
      "135/135 [==============================] - 0s 2ms/step - loss: 0.0359 - binary_accuracy: 0.9877\n",
      "Epoch 83/100\n",
      "135/135 [==============================] - 0s 2ms/step - loss: 0.0346 - binary_accuracy: 0.9877\n",
      "Epoch 84/100\n",
      "135/135 [==============================] - 0s 2ms/step - loss: 0.0310 - binary_accuracy: 0.9901\n",
      "Epoch 85/100\n",
      "135/135 [==============================] - 0s 2ms/step - loss: 0.0331 - binary_accuracy: 0.9852\n",
      "Epoch 86/100\n",
      "135/135 [==============================] - 0s 2ms/step - loss: 0.0372 - binary_accuracy: 0.9802\n",
      "Epoch 87/100\n",
      "135/135 [==============================] - 0s 2ms/step - loss: 0.0329 - binary_accuracy: 0.9901\n",
      "Epoch 88/100\n",
      "135/135 [==============================] - 0s 2ms/step - loss: 0.0341 - binary_accuracy: 0.9901\n",
      "Epoch 89/100\n",
      "135/135 [==============================] - 0s 2ms/step - loss: 0.0323 - binary_accuracy: 0.9901\n",
      "Epoch 90/100\n",
      "135/135 [==============================] - 0s 2ms/step - loss: 0.0322 - binary_accuracy: 0.9901\n",
      "Epoch 91/100\n",
      "135/135 [==============================] - 0s 2ms/step - loss: 0.0325 - binary_accuracy: 0.9901\n",
      "Epoch 92/100\n",
      "135/135 [==============================] - 0s 2ms/step - loss: 0.0313 - binary_accuracy: 0.9852\n",
      "Epoch 93/100\n",
      "135/135 [==============================] - 0s 2ms/step - loss: 0.0319 - binary_accuracy: 0.9901\n",
      "Epoch 94/100\n",
      "135/135 [==============================] - 0s 2ms/step - loss: 0.0309 - binary_accuracy: 0.9901\n",
      "Epoch 95/100\n",
      "135/135 [==============================] - 0s 2ms/step - loss: 0.0309 - binary_accuracy: 0.9877\n",
      "Epoch 96/100\n",
      "135/135 [==============================] - 0s 2ms/step - loss: 0.0302 - binary_accuracy: 0.9926\n",
      "Epoch 97/100\n",
      "135/135 [==============================] - 0s 2ms/step - loss: 0.0301 - binary_accuracy: 0.9901\n",
      "Epoch 98/100\n",
      "135/135 [==============================] - 0s 2ms/step - loss: 0.0301 - binary_accuracy: 0.9926\n",
      "Epoch 99/100\n",
      "135/135 [==============================] - 0s 2ms/step - loss: 0.0296 - binary_accuracy: 0.9901\n",
      "Epoch 100/100\n",
      "135/135 [==============================] - 0s 2ms/step - loss: 0.0297 - binary_accuracy: 0.9901\n"
     ]
    },
    {
     "data": {
      "text/plain": [
       "<keras.callbacks.History at 0x216ba1477b8>"
      ]
     },
     "execution_count": 2,
     "metadata": {},
     "output_type": "execute_result"
    }
   ],
   "source": [
    "# custom loss function\n",
    "def loss_function(y_true, y_pred):\n",
    "    \"\"\"\n",
    "    Custom loss function\n",
    "\n",
    "    E = exp{-sum[i=1,j; 1/2 * [pred(j) - test(j)]^2]}\n",
    "\n",
    "    Parameters\n",
    "    ==========\n",
    "    y_true : np.array\n",
    "        - true values\n",
    "    y_pred : np.array\n",
    "        - predicted values\n",
    "    \"\"\"\n",
    "    return K.sum(1 / 2 * K.square(y_pred - y_true))\n",
    "\n",
    "# read in iris dataset\n",
    "iris = datasets.load_iris()\n",
    "# create one-hot encoded vector for each class\n",
    "Y=[]\n",
    "for y in iris.target:\n",
    "    tmp = np.zeros(3)\n",
    "    tmp[y] = 1\n",
    "    Y.append(tmp)\n",
    "Y = np.array(Y)\n",
    "    \n",
    "# split to train/test\n",
    "X_train, X_test, y_train, y_test = train_test_split(iris.data, Y, test_size=0.1)\n",
    "\n",
    "# set neurons\n",
    "neurons = 8\n",
    "\n",
    "# get random indexes for initial centers\n",
    "indices = rnd.sample(range(len(X_train)), neurons)\n",
    "\n",
    "# dataset info\n",
    "samples, feats = X_train.shape\n",
    "\n",
    "# create model layers\n",
    "inputs = Input(name='Inputs', shape=(feats,))\n",
    "fuzz = FuzzyLayer(neurons, input_dim=feats,\n",
    "                  initializer_centers=\n",
    "                  lambda x: np.transpose(np.array([X_train[i] for i in indices])))\n",
    "#defuzz = DefuzzyLayer(5, input_dim=neurons)\n",
    "norm = NormalizedLayer(neurons)\n",
    "weights = WeightedLayer(neurons)\n",
    "raw = OutputLayer()\n",
    "pred = Dense(3, activation='softmax')\n",
    "\n",
    "# run through layers\n",
    "phi = fuzz(inputs)\n",
    "psi = norm(phi)\n",
    "f = weights([inputs, psi])\n",
    "out = raw(f)\n",
    "output = pred(out)\n",
    "\n",
    "# define model\n",
    "model = Model(inputs=inputs, outputs=output)\n",
    "\n",
    "# loss = 'mean_squared_error'\n",
    "loss = loss_function\n",
    "optimizer = 'adam'\n",
    "metrics = ['binary_accuracy']\n",
    "\n",
    "model.compile(loss=loss,\n",
    "              optimizer=optimizer,\n",
    "              metrics=metrics)\n",
    "\n",
    "model.fit(np.array(X_train),\n",
    "          np.array(y_train),\n",
    "          epochs=100,\n",
    "          verbose=1,\n",
    "          batch_size=2)"
   ]
  },
  {
   "cell_type": "code",
   "execution_count": 3,
   "metadata": {},
   "outputs": [
    {
     "data": {
      "text/plain": [
       "[]"
      ]
     },
     "execution_count": 3,
     "metadata": {},
     "output_type": "execute_result"
    }
   ],
   "source": [
    "raw.get_weights()"
   ]
  },
  {
   "cell_type": "code",
   "execution_count": 4,
   "metadata": {},
   "outputs": [
    {
     "data": {
      "text/plain": [
       "array([[5.8, 4. , 1.2, 0.2],\n",
       "       [6.4, 2.8, 5.6, 2.2],\n",
       "       [5.5, 2.6, 4.4, 1.2],\n",
       "       [4.9, 2.5, 4.5, 1.7],\n",
       "       [5.6, 3. , 4.1, 1.3],\n",
       "       [5.4, 3.7, 1.5, 0.2],\n",
       "       [6.7, 3.1, 4.7, 1.5],\n",
       "       [5.8, 2.7, 5.1, 1.9],\n",
       "       [5. , 2.3, 3.3, 1. ],\n",
       "       [6.8, 2.8, 4.8, 1.4],\n",
       "       [5.7, 2.6, 3.5, 1. ],\n",
       "       [6.3, 3.3, 6. , 2.5],\n",
       "       [5.7, 3. , 4.2, 1.2],\n",
       "       [5.1, 3.5, 1.4, 0.3],\n",
       "       [6.3, 2.5, 5. , 1.9]])"
      ]
     },
     "execution_count": 4,
     "metadata": {},
     "output_type": "execute_result"
    }
   ],
   "source": [
    "X_test"
   ]
  },
  {
   "cell_type": "code",
   "execution_count": 5,
   "metadata": {},
   "outputs": [
    {
     "data": {
      "text/plain": [
       "array([[1., 0., 0.],\n",
       "       [0., 0., 1.],\n",
       "       [0., 1., 0.],\n",
       "       [0., 0., 1.],\n",
       "       [0., 1., 0.],\n",
       "       [1., 0., 0.],\n",
       "       [0., 1., 0.],\n",
       "       [0., 0., 1.],\n",
       "       [0., 1., 0.],\n",
       "       [0., 1., 0.],\n",
       "       [0., 1., 0.],\n",
       "       [0., 0., 1.],\n",
       "       [0., 1., 0.],\n",
       "       [1., 0., 0.],\n",
       "       [0., 0., 1.]])"
      ]
     },
     "execution_count": 5,
     "metadata": {},
     "output_type": "execute_result"
    }
   ],
   "source": [
    "y_test"
   ]
  },
  {
   "cell_type": "code",
   "execution_count": 6,
   "metadata": {},
   "outputs": [
    {
     "data": {
      "text/plain": [
       "array([[1., 0., 0.],\n",
       "       [0., 0., 1.],\n",
       "       [0., 1., 0.],\n",
       "       [0., 1., 0.],\n",
       "       [0., 1., 0.],\n",
       "       [1., 0., 0.],\n",
       "       [0., 1., 0.],\n",
       "       [0., 0., 1.],\n",
       "       [0., 1., 0.],\n",
       "       [0., 1., 0.],\n",
       "       [0., 1., 0.],\n",
       "       [0., 0., 1.],\n",
       "       [0., 1., 0.],\n",
       "       [1., 0., 0.],\n",
       "       [0., 0., 1.]], dtype=float32)"
      ]
     },
     "execution_count": 6,
     "metadata": {},
     "output_type": "execute_result"
    }
   ],
   "source": [
    "y_pred = model.predict(X_test)\n",
    "y_pred.round()"
   ]
  },
  {
   "cell_type": "code",
   "execution_count": 7,
   "metadata": {},
   "outputs": [
    {
     "data": {
      "text/plain": [
       "array([[ True,  True,  True],\n",
       "       [ True,  True,  True],\n",
       "       [ True,  True,  True],\n",
       "       [ True, False, False],\n",
       "       [ True,  True,  True],\n",
       "       [ True,  True,  True],\n",
       "       [ True,  True,  True],\n",
       "       [ True,  True,  True],\n",
       "       [ True,  True,  True],\n",
       "       [ True,  True,  True],\n",
       "       [ True,  True,  True],\n",
       "       [ True,  True,  True],\n",
       "       [ True,  True,  True],\n",
       "       [ True,  True,  True],\n",
       "       [ True,  True,  True]])"
      ]
     },
     "execution_count": 7,
     "metadata": {},
     "output_type": "execute_result"
    }
   ],
   "source": [
    "acc = y_test == y_pred.round()\n",
    "acc"
   ]
  },
  {
   "cell_type": "code",
   "execution_count": 8,
   "metadata": {},
   "outputs": [
    {
     "data": {
      "text/plain": [
       "0.9555555555555556"
      ]
     },
     "execution_count": 8,
     "metadata": {},
     "output_type": "execute_result"
    }
   ],
   "source": [
    "acc.sum() / acc.size"
   ]
  },
  {
   "cell_type": "markdown",
   "metadata": {},
   "source": [
    "## Model Prediction Results"
   ]
  },
  {
   "cell_type": "code",
   "execution_count": 12,
   "metadata": {},
   "outputs": [
    {
     "name": "stdout",
     "output_type": "stream",
     "text": [
      "15/15 [==============================] - 0s 999us/step\n",
      "Model Loss: 0.99980038\n",
      "Binary Accuracy: 95.6%\n"
     ]
    }
   ],
   "source": [
    "pred_loss, pred_bin_acc = model.evaluate(X_test, y_test)\n",
    "print('Model Loss: {:0.8f}'.format(pred_loss))\n",
    "print('Binary Accuracy: {:2.1f}%'.format(100*pred_bin_acc))"
   ]
  },
  {
   "cell_type": "code",
   "execution_count": 10,
   "metadata": {},
   "outputs": [
    {
     "data": {
      "text/plain": [
       "['loss', 'binary_accuracy']"
      ]
     },
     "execution_count": 10,
     "metadata": {},
     "output_type": "execute_result"
    }
   ],
   "source": [
    "model.metrics_names"
   ]
  },
  {
   "cell_type": "markdown",
   "metadata": {},
   "source": [
    "## Plot Results"
   ]
  },
  {
   "cell_type": "code",
   "execution_count": 11,
   "metadata": {},
   "outputs": [
    {
     "name": "stderr",
     "output_type": "stream",
     "text": [
      "'c' argument looks like a single numeric RGB or RGBA sequence, which should be avoided as value-mapping will have precedence in case its length matches with 'x' & 'y'.  Please use a 2-D array with a single row if you really want to specify the same RGB or RGBA value for all points.\n",
      "'c' argument looks like a single numeric RGB or RGBA sequence, which should be avoided as value-mapping will have precedence in case its length matches with 'x' & 'y'.  Please use a 2-D array with a single row if you really want to specify the same RGB or RGBA value for all points.\n"
     ]
    },
    {
     "data": {
      "image/png": "[encoded data removed]",
      "text/plain": [
       "<Figure size 432x288 with 1 Axes>"
      ]
     },
     "metadata": {
      "needs_background": "light"
     },
     "output_type": "display_data"
    }
   ],
   "source": [
    "w = fuzz.get_weights()\n",
    "\n",
    "\n",
    "plt.clf()\n",
    "plt.title('Iris')\n",
    "plt.ylabel('x[0]')\n",
    "plt.xlabel('x[1]')\n",
    "plt.scatter([a[0] for a in X_train], [a[1] for a in X_train], c=(0,0,0), alpha=0.5,s=1)\n",
    "for i in range(0,neurons):\n",
    "    ellipse = Ellipse((w[0][0][i], w[0][1][i]), w[1][0][i],w[1][1][i], color='r', fill=False)\n",
    "    ax = plt.gca()\n",
    "    ax.add_patch(ellipse)\n",
    "\n",
    "plt.scatter(w[0][0], w[0][1], c=(1,0,0), alpha=0.8,s=15)\n",
    "plt.show()"
   ]
  },
  {
   "cell_type": "code",
   "execution_count": null,
   "metadata": {},
   "outputs": [],
   "source": []
  },
  {
   "cell_type": "code",
   "execution_count": null,
   "metadata": {},
   "outputs": [],
   "source": []
  },
  {
   "cell_type": "code",
   "execution_count": null,
   "metadata": {},
   "outputs": [],
   "source": []
  },
  {
   "cell_type": "code",
   "execution_count": null,
   "metadata": {},
   "outputs": [],
   "source": []
  },
  {
   "cell_type": "code",
   "execution_count": null,
   "metadata": {},
   "outputs": [],
   "source": []
  },
  {
   "cell_type": "code",
   "execution_count": null,
   "metadata": {},
   "outputs": [],
   "source": []
  },
  {
   "cell_type": "code",
   "execution_count": null,
   "metadata": {},
   "outputs": [],
   "source": []
  },
  {
   "cell_type": "code",
   "execution_count": null,
   "metadata": {},
   "outputs": [],
   "source": [
    "import keras\n",
    "from sofenn.layers import FuzzyLayer\n",
    "from sofenn.layers.DefuzzyLayer import DefuzzyLayer\n",
    "from keras.models import Sequential\n",
    "from keras.layers import Dense, Dropout, Activation\n",
    "from keras.optimizers import SGD\n",
    "\n",
    "# Generate dummy data\n",
    "import numpy as np\n",
    "\n",
    "x_train = np.random.normal(5, 1, size=(100, 2))\n",
    "y_train = np.random.normal(5, 15, size=(100, 4))\n",
    "\n",
    "model = Sequential()\n",
    "model.add(Dense(2, activation='sigmoid'))\n",
    "model.add(FuzzyLayer(8))\n",
    "model.add(Dense(8, activation='sigmoid'))\n",
    "model.add(DefuzzyLayer(4))\n",
    "\n",
    "model.compile(loss='logcosh',\n",
    "              optimizer='rmsprop',\n",
    "              metrics=['mae', 'acc'])\n",
    "\n",
    "model.fit(x_train, y_train,\n",
    "          epochs=10000,\n",
    "          verbose=1,\n",
    "          batch_size=100)\n",
    "\n",
    "print(model.predict( np.array([[5, 5]])))\n",
    "print(model.predict( np.array([[5, 15]])))\n",
    "print(model.predict( np.array([[15, 5]])))\n",
    "print(model.predict( np.array([[15, 15]])))"
   ]
  }
 ],
 "metadata": {
  "kernelspec": {
   "display_name": "Python 3",
   "language": "python",
   "name": "python3"
  },
  "language_info": {
   "codemirror_mode": {
    "name": "ipython",
    "version": 3
   },
   "file_extension": ".py",
   "mimetype": "text/x-python",
   "name": "python",
   "nbconvert_exporter": "python",
   "pygments_lexer": "ipython3",
   "version": "3.6.8"
  }
 },
 "nbformat": 4,
 "nbformat_minor": 1
}
