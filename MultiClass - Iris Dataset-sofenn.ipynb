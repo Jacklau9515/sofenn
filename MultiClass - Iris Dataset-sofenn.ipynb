{
 "cells": [
  {
   "cell_type": "markdown",
   "metadata": {
    "collapsed": true
   },
   "source": [
    "# Iris Dataset - SOFENN Example"
   ]
  },
  {
   "cell_type": "markdown",
   "metadata": {},
   "source": [
    "Demonstrate multi-class classification with SOFENN on classic Iris Dataset"
   ]
  },
  {
   "cell_type": "code",
   "execution_count": 1,
   "metadata": {},
   "outputs": [
    {
     "name": "stderr",
     "output_type": "stream",
     "text": [
      "Using TensorFlow backend.\n"
     ]
    }
   ],
   "source": [
    "import numpy as np\n",
    "import random as rnd\n",
    "\n",
    "from sklearn import datasets\n",
    "from sklearn.model_selection import train_test_split\n",
    "\n",
    "import matplotlib.pyplot as plt\n",
    "from matplotlib.patches import Ellipse\n",
    "\n",
    "import keras\n",
    "import keras.backend as K\n",
    "\n",
    "from keras.optimizers import SGD\n",
    "from keras.utils import plot_model\n",
    "from keras.models import Sequential, Model\n",
    "from keras.layers import Dense, Dropout, Activation, Input\n",
    "\n",
    "from sofenn.FuzzyNetwork import FuzzyNetwork\n",
    "from sofenn.layers.DefuzzyLayer import DefuzzyLayer\n",
    "from sofenn.layers import FuzzyLayer, NormalizedLayer, WeightedLayer, OutputLayer\n",
    "\n",
    "import os\n",
    "\n",
    "os.environ['KMP_DUPLICATE_LIB_OK']='True'"
   ]
  },
  {
   "cell_type": "markdown",
   "metadata": {},
   "source": [
    "## Read in and prep Iris Dataset"
   ]
  },
  {
   "cell_type": "code",
   "execution_count": 2,
   "metadata": {
    "scrolled": true
   },
   "outputs": [],
   "source": [
    "# read in iris dataset\n",
    "iris = datasets.load_iris()\n",
    "# create one-hot encoded vector for each class\n",
    "Y = []\n",
    "for y in iris.target:\n",
    "    tmp = np.zeros(3)\n",
    "    tmp[y] = 1\n",
    "    Y.append(tmp)\n",
    "Y = np.array(Y)\n",
    "    \n",
    "# split to train/test\n",
    "X_train, X_test, y_train, y_test = train_test_split(iris.data, Y, test_size=0.1)"
   ]
  },
  {
   "cell_type": "code",
   "execution_count": 3,
   "metadata": {
    "scrolled": true
   },
   "outputs": [
    {
     "name": "stdout",
     "output_type": "stream",
     "text": [
      "BUILDING SOFNN WITH 3 NEURONS\n",
      "__________________________________________________________________________________________________\n",
      "Layer (type)                    Output Shape         Param #     Connected to                     \n",
      "==================================================================================================\n",
      "Inputs (InputLayer)             (None, 4)            0                                            \n",
      "__________________________________________________________________________________________________\n",
      "FuzzyRules (FuzzyLayer)         (None, 3)            24          Inputs[0][0]                     \n",
      "__________________________________________________________________________________________________\n",
      "Normalization (NormalizedLayer) (None, 3)            0           FuzzyRules[0][0]                 \n",
      "__________________________________________________________________________________________________\n",
      "Weights (WeightedLayer)         (None, 3)            15          Inputs[0][0]                     \n",
      "                                                                 Normalization[0][0]              \n",
      "__________________________________________________________________________________________________\n",
      "RawOutput (OutputLayer)         (None, 1)            0           Weights[0][0]                    \n",
      "__________________________________________________________________________________________________\n",
      "dense_1 (Dense)                 (None, 3)            6           RawOutput[0][0]                  \n",
      "==================================================================================================\n",
      "Total params: 45\n",
      "Trainable params: 45\n",
      "Non-trainable params: 0\n",
      "__________________________________________________________________________________________________\n",
      "None\n"
     ]
    }
   ],
   "source": [
    "fuzz = FuzzyNetwork(\n",
    "            X_train, X_test, y_train, y_test,           # data attributes\n",
    "            neurons=3, s_init=4, max_neurons=100,       # initialization parameters\n",
    "            eval_thresh=0.5, ifpart_thresh=0.1354       # evaluation and ifpart threshold\n",
    "            )"
   ]
  },
  {
   "cell_type": "code",
   "execution_count": 4,
   "metadata": {
    "scrolled": true
   },
   "outputs": [
    {
     "name": "stdout",
     "output_type": "stream",
     "text": [
      "Epoch 1/250\n",
      "135/135 [==============================] - 1s 7ms/step - loss: 0.6707 - binary_accuracy: 0.6667\n",
      "Epoch 2/250\n",
      "135/135 [==============================] - 0s 1ms/step - loss: 0.6608 - binary_accuracy: 0.6667\n",
      "Epoch 3/250\n",
      "135/135 [==============================] - 0s 1ms/step - loss: 0.6566 - binary_accuracy: 0.6667\n",
      "Epoch 4/250\n",
      "135/135 [==============================] - 0s 1ms/step - loss: 0.6520 - binary_accuracy: 0.6667\n",
      "Epoch 5/250\n",
      "135/135 [==============================] - 0s 1ms/step - loss: 0.6440 - binary_accuracy: 0.6667\n",
      "Epoch 6/250\n",
      "135/135 [==============================] - 0s 1ms/step - loss: 0.6330 - binary_accuracy: 0.6667\n",
      "Epoch 7/250\n",
      "135/135 [==============================] - 0s 1ms/step - loss: 0.6170 - binary_accuracy: 0.6667\n",
      "Epoch 8/250\n",
      "135/135 [==============================] - 0s 1ms/step - loss: 0.5963 - binary_accuracy: 0.6691\n",
      "Epoch 9/250\n",
      "135/135 [==============================] - 0s 1ms/step - loss: 0.5758 - binary_accuracy: 0.7086\n",
      "Epoch 10/250\n",
      "135/135 [==============================] - 0s 1ms/step - loss: 0.5492 - binary_accuracy: 0.7679\n",
      "Epoch 11/250\n",
      "135/135 [==============================] - 0s 1ms/step - loss: 0.5211 - binary_accuracy: 0.7679\n",
      "Epoch 12/250\n",
      "135/135 [==============================] - 0s 1ms/step - loss: 0.4973 - binary_accuracy: 0.7679\n",
      "Epoch 13/250\n",
      "135/135 [==============================] - 0s 1ms/step - loss: 0.4729 - binary_accuracy: 0.7630\n",
      "Epoch 14/250\n",
      "135/135 [==============================] - 0s 1ms/step - loss: 0.4538 - binary_accuracy: 0.7358\n",
      "Epoch 15/250\n",
      "135/135 [==============================] - 0s 1ms/step - loss: 0.4327 - binary_accuracy: 0.7432\n",
      "Epoch 16/250\n",
      "135/135 [==============================] - 0s 1ms/step - loss: 0.4156 - binary_accuracy: 0.7407\n",
      "Epoch 17/250\n",
      "135/135 [==============================] - 0s 1ms/step - loss: 0.4002 - binary_accuracy: 0.7506\n",
      "Epoch 18/250\n",
      "135/135 [==============================] - 0s 1ms/step - loss: 0.3869 - binary_accuracy: 0.7630\n",
      "Epoch 19/250\n",
      "135/135 [==============================] - 0s 1ms/step - loss: 0.3751 - binary_accuracy: 0.7728\n",
      "Epoch 20/250\n",
      "135/135 [==============================] - 0s 1ms/step - loss: 0.3656 - binary_accuracy: 0.7728\n",
      "Epoch 21/250\n",
      "135/135 [==============================] - 0s 1ms/step - loss: 0.3584 - binary_accuracy: 0.7951\n",
      "Epoch 22/250\n",
      "135/135 [==============================] - 0s 1ms/step - loss: 0.3504 - binary_accuracy: 0.8741\n",
      "Epoch 23/250\n",
      "135/135 [==============================] - 0s 1ms/step - loss: 0.3433 - binary_accuracy: 0.8420\n",
      "Epoch 24/250\n",
      "135/135 [==============================] - 0s 1ms/step - loss: 0.3388 - binary_accuracy: 0.8247\n",
      "Epoch 25/250\n",
      "135/135 [==============================] - 0s 1ms/step - loss: 0.3338 - binary_accuracy: 0.8049\n",
      "Epoch 26/250\n",
      "135/135 [==============================] - 0s 1ms/step - loss: 0.3295 - binary_accuracy: 0.8049\n",
      "Epoch 27/250\n",
      "135/135 [==============================] - 0s 1ms/step - loss: 0.3259 - binary_accuracy: 0.8000\n",
      "Epoch 28/250\n",
      "135/135 [==============================] - 0s 1ms/step - loss: 0.3207 - binary_accuracy: 0.8000\n",
      "Epoch 29/250\n",
      "135/135 [==============================] - 0s 1ms/step - loss: 0.3182 - binary_accuracy: 0.8025\n",
      "Epoch 30/250\n",
      "135/135 [==============================] - 0s 1ms/step - loss: 0.3150 - binary_accuracy: 0.8000\n",
      "Epoch 31/250\n",
      "135/135 [==============================] - 0s 1ms/step - loss: 0.3096 - binary_accuracy: 0.8099\n",
      "Epoch 32/250\n",
      "135/135 [==============================] - 0s 1ms/step - loss: 0.3035 - binary_accuracy: 0.8148\n",
      "Epoch 33/250\n",
      "135/135 [==============================] - 0s 1ms/step - loss: 0.2987 - binary_accuracy: 0.8123\n",
      "Epoch 34/250\n",
      "135/135 [==============================] - 0s 1ms/step - loss: 0.2955 - binary_accuracy: 0.8148\n",
      "Epoch 35/250\n",
      "135/135 [==============================] - 0s 1ms/step - loss: 0.2898 - binary_accuracy: 0.8173\n",
      "Epoch 36/250\n",
      "135/135 [==============================] - 0s 1ms/step - loss: 0.2835 - binary_accuracy: 0.8272\n",
      "Epoch 37/250\n",
      "135/135 [==============================] - 0s 1ms/step - loss: 0.2759 - binary_accuracy: 0.8321\n",
      "Epoch 38/250\n",
      "135/135 [==============================] - 0s 1ms/step - loss: 0.2728 - binary_accuracy: 0.8296\n",
      "Epoch 39/250\n",
      "135/135 [==============================] - 0s 1ms/step - loss: 0.2671 - binary_accuracy: 0.8346\n",
      "Epoch 40/250\n",
      "135/135 [==============================] - 0s 1ms/step - loss: 0.2586 - binary_accuracy: 0.8395\n",
      "Epoch 41/250\n",
      "135/135 [==============================] - 0s 1ms/step - loss: 0.2562 - binary_accuracy: 0.8395\n",
      "Epoch 42/250\n",
      "135/135 [==============================] - 0s 1ms/step - loss: 0.2490 - binary_accuracy: 0.8420\n",
      "Epoch 43/250\n",
      "135/135 [==============================] - 0s 1ms/step - loss: 0.2441 - binary_accuracy: 0.8519\n",
      "Epoch 44/250\n",
      "135/135 [==============================] - 0s 1ms/step - loss: 0.2373 - binary_accuracy: 0.8469\n",
      "Epoch 45/250\n",
      "135/135 [==============================] - 0s 1ms/step - loss: 0.2320 - binary_accuracy: 0.8568\n",
      "Epoch 46/250\n",
      "135/135 [==============================] - 0s 1ms/step - loss: 0.2279 - binary_accuracy: 0.8469\n",
      "Epoch 47/250\n",
      "135/135 [==============================] - 0s 1ms/step - loss: 0.2208 - binary_accuracy: 0.8568\n",
      "Epoch 48/250\n",
      "135/135 [==============================] - 0s 1ms/step - loss: 0.2136 - binary_accuracy: 0.8790\n",
      "Epoch 49/250\n",
      "135/135 [==============================] - 0s 1ms/step - loss: 0.2106 - binary_accuracy: 0.9062\n",
      "Epoch 50/250\n",
      "135/135 [==============================] - 0s 1ms/step - loss: 0.2022 - binary_accuracy: 0.9185\n",
      "Epoch 51/250\n",
      "135/135 [==============================] - 0s 1ms/step - loss: 0.1967 - binary_accuracy: 0.9210\n",
      "Epoch 52/250\n",
      "135/135 [==============================] - 0s 1ms/step - loss: 0.1924 - binary_accuracy: 0.9333\n",
      "Epoch 53/250\n",
      "135/135 [==============================] - 0s 1ms/step - loss: 0.1884 - binary_accuracy: 0.9358\n",
      "Epoch 54/250\n",
      "135/135 [==============================] - 0s 1ms/step - loss: 0.1805 - binary_accuracy: 0.9432\n",
      "Epoch 55/250\n",
      "135/135 [==============================] - 0s 1ms/step - loss: 0.1767 - binary_accuracy: 0.9531\n",
      "Epoch 56/250\n",
      "135/135 [==============================] - 0s 1ms/step - loss: 0.1702 - binary_accuracy: 0.9605\n",
      "Epoch 57/250\n",
      "135/135 [==============================] - 0s 1ms/step - loss: 0.1636 - binary_accuracy: 0.9654\n",
      "Epoch 58/250\n",
      "135/135 [==============================] - 0s 1ms/step - loss: 0.1614 - binary_accuracy: 0.9654\n",
      "Epoch 59/250\n",
      "135/135 [==============================] - 0s 1ms/step - loss: 0.1558 - binary_accuracy: 0.9728\n",
      "Epoch 60/250\n",
      "135/135 [==============================] - 0s 1ms/step - loss: 0.1513 - binary_accuracy: 0.9753\n",
      "Epoch 61/250\n",
      "135/135 [==============================] - 0s 2ms/step - loss: 0.1483 - binary_accuracy: 0.9704\n",
      "Epoch 62/250\n",
      "135/135 [==============================] - 0s 1ms/step - loss: 0.1425 - binary_accuracy: 0.9778\n",
      "Epoch 63/250\n",
      "135/135 [==============================] - 0s 1ms/step - loss: 0.1387 - binary_accuracy: 0.9753\n",
      "Epoch 64/250\n",
      "135/135 [==============================] - 0s 1ms/step - loss: 0.1344 - binary_accuracy: 0.9728\n",
      "Epoch 65/250\n",
      "135/135 [==============================] - 0s 1ms/step - loss: 0.1319 - binary_accuracy: 0.9753\n",
      "Epoch 66/250\n",
      "135/135 [==============================] - 0s 1ms/step - loss: 0.1264 - binary_accuracy: 0.9852\n",
      "Epoch 67/250\n",
      "135/135 [==============================] - 0s 1ms/step - loss: 0.1221 - binary_accuracy: 0.9802\n",
      "Epoch 68/250\n",
      "135/135 [==============================] - 0s 1ms/step - loss: 0.1194 - binary_accuracy: 0.9802\n",
      "Epoch 69/250\n",
      "135/135 [==============================] - 0s 1ms/step - loss: 0.1151 - binary_accuracy: 0.9852\n",
      "Epoch 70/250\n",
      "135/135 [==============================] - 0s 1ms/step - loss: 0.1125 - binary_accuracy: 0.9852\n",
      "Epoch 71/250\n",
      "135/135 [==============================] - 0s 1ms/step - loss: 0.1096 - binary_accuracy: 0.9852\n",
      "Epoch 72/250\n",
      "135/135 [==============================] - 0s 1ms/step - loss: 0.1052 - binary_accuracy: 0.9802\n",
      "Epoch 73/250\n",
      "135/135 [==============================] - 0s 1ms/step - loss: 0.1034 - binary_accuracy: 0.9802\n",
      "Epoch 74/250\n",
      "135/135 [==============================] - 0s 2ms/step - loss: 0.1000 - binary_accuracy: 0.9802\n",
      "Epoch 75/250\n",
      "135/135 [==============================] - 0s 1ms/step - loss: 0.0979 - binary_accuracy: 0.9802\n",
      "Epoch 76/250\n"
     ]
    },
    {
     "name": "stdout",
     "output_type": "stream",
     "text": [
      "135/135 [==============================] - 0s 1ms/step - loss: 0.0959 - binary_accuracy: 0.9802\n",
      "Epoch 77/250\n",
      "135/135 [==============================] - 0s 1ms/step - loss: 0.0915 - binary_accuracy: 0.9852\n",
      "Epoch 78/250\n",
      "135/135 [==============================] - 0s 1ms/step - loss: 0.0901 - binary_accuracy: 0.9802\n",
      "Epoch 79/250\n",
      "135/135 [==============================] - 0s 1ms/step - loss: 0.0901 - binary_accuracy: 0.9852\n",
      "Epoch 80/250\n",
      "135/135 [==============================] - 0s 1ms/step - loss: 0.0864 - binary_accuracy: 0.9827\n",
      "Epoch 81/250\n",
      "135/135 [==============================] - 0s 1ms/step - loss: 0.0839 - binary_accuracy: 0.9852\n",
      "Epoch 82/250\n",
      "135/135 [==============================] - 0s 1ms/step - loss: 0.0818 - binary_accuracy: 0.9827\n",
      "Epoch 83/250\n",
      "135/135 [==============================] - 0s 1ms/step - loss: 0.0793 - binary_accuracy: 0.9852\n",
      "Epoch 84/250\n",
      "135/135 [==============================] - 0s 1ms/step - loss: 0.0774 - binary_accuracy: 0.9852\n",
      "Epoch 85/250\n",
      "135/135 [==============================] - 0s 1ms/step - loss: 0.0763 - binary_accuracy: 0.9852\n",
      "Epoch 86/250\n",
      "135/135 [==============================] - 0s 1ms/step - loss: 0.0751 - binary_accuracy: 0.9852\n",
      "Epoch 87/250\n",
      "135/135 [==============================] - 0s 1ms/step - loss: 0.0733 - binary_accuracy: 0.9802\n",
      "Epoch 88/250\n",
      "135/135 [==============================] - 0s 1ms/step - loss: 0.0740 - binary_accuracy: 0.9852\n",
      "Epoch 89/250\n",
      "135/135 [==============================] - 0s 1ms/step - loss: 0.0724 - binary_accuracy: 0.9802\n",
      "Epoch 90/250\n",
      "135/135 [==============================] - 0s 1ms/step - loss: 0.0727 - binary_accuracy: 0.9852\n",
      "Epoch 91/250\n",
      "135/135 [==============================] - 0s 1ms/step - loss: 0.0682 - binary_accuracy: 0.9852\n",
      "Epoch 92/250\n",
      "135/135 [==============================] - 0s 1ms/step - loss: 0.0665 - binary_accuracy: 0.9852\n",
      "Epoch 93/250\n",
      "135/135 [==============================] - 0s 1ms/step - loss: 0.0657 - binary_accuracy: 0.9852\n",
      "Epoch 94/250\n",
      "135/135 [==============================] - 0s 1ms/step - loss: 0.0652 - binary_accuracy: 0.9852\n",
      "Epoch 95/250\n",
      "135/135 [==============================] - 0s 1ms/step - loss: 0.0647 - binary_accuracy: 0.9852\n",
      "Epoch 96/250\n",
      "135/135 [==============================] - 0s 1ms/step - loss: 0.0623 - binary_accuracy: 0.9852\n",
      "Epoch 97/250\n",
      "135/135 [==============================] - 0s 1ms/step - loss: 0.0587 - binary_accuracy: 0.9852\n",
      "Epoch 98/250\n",
      "135/135 [==============================] - 0s 1ms/step - loss: 0.0603 - binary_accuracy: 0.9852\n",
      "Epoch 99/250\n",
      "135/135 [==============================] - 0s 1ms/step - loss: 0.0590 - binary_accuracy: 0.9852\n",
      "Epoch 100/250\n",
      "135/135 [==============================] - 0s 1ms/step - loss: 0.0568 - binary_accuracy: 0.9852\n",
      "Epoch 101/250\n",
      "135/135 [==============================] - 0s 1ms/step - loss: 0.0584 - binary_accuracy: 0.9852\n",
      "Epoch 102/250\n",
      "135/135 [==============================] - 0s 1ms/step - loss: 0.0573 - binary_accuracy: 0.9852\n",
      "Epoch 103/250\n",
      "135/135 [==============================] - 0s 1ms/step - loss: 0.0561 - binary_accuracy: 0.9802\n",
      "Epoch 104/250\n",
      "135/135 [==============================] - 0s 1ms/step - loss: 0.0556 - binary_accuracy: 0.9852\n",
      "Epoch 105/250\n",
      "135/135 [==============================] - 0s 1ms/step - loss: 0.0555 - binary_accuracy: 0.9852\n",
      "Epoch 106/250\n",
      "135/135 [==============================] - 0s 1ms/step - loss: 0.0545 - binary_accuracy: 0.9802\n",
      "Epoch 107/250\n",
      "135/135 [==============================] - 0s 1ms/step - loss: 0.0540 - binary_accuracy: 0.9852\n",
      "Epoch 108/250\n",
      "135/135 [==============================] - 0s 1ms/step - loss: 0.0496 - binary_accuracy: 0.9852\n",
      "Epoch 109/250\n",
      "135/135 [==============================] - 0s 1ms/step - loss: 0.0517 - binary_accuracy: 0.9852\n",
      "Epoch 110/250\n",
      "135/135 [==============================] - 0s 1ms/step - loss: 0.0514 - binary_accuracy: 0.9802\n",
      "Epoch 111/250\n",
      "135/135 [==============================] - 0s 1ms/step - loss: 0.0506 - binary_accuracy: 0.9852\n",
      "Epoch 112/250\n",
      "135/135 [==============================] - 0s 1ms/step - loss: 0.0517 - binary_accuracy: 0.9852\n",
      "Epoch 113/250\n",
      "135/135 [==============================] - 0s 1ms/step - loss: 0.0497 - binary_accuracy: 0.9852\n",
      "Epoch 114/250\n",
      "135/135 [==============================] - 0s 1ms/step - loss: 0.0507 - binary_accuracy: 0.9802\n",
      "Epoch 115/250\n",
      "135/135 [==============================] - 0s 1ms/step - loss: 0.0499 - binary_accuracy: 0.9852\n",
      "Epoch 116/250\n",
      "135/135 [==============================] - 0s 1ms/step - loss: 0.0486 - binary_accuracy: 0.9852\n",
      "Epoch 117/250\n",
      "135/135 [==============================] - 0s 1ms/step - loss: 0.0478 - binary_accuracy: 0.9852\n",
      "Epoch 118/250\n",
      "135/135 [==============================] - 0s 1ms/step - loss: 0.0475 - binary_accuracy: 0.9852\n",
      "Epoch 119/250\n",
      "135/135 [==============================] - 0s 1ms/step - loss: 0.0464 - binary_accuracy: 0.9852\n",
      "Epoch 120/250\n",
      "135/135 [==============================] - 0s 1ms/step - loss: 0.0472 - binary_accuracy: 0.9852\n",
      "Epoch 121/250\n",
      "135/135 [==============================] - 0s 1ms/step - loss: 0.0473 - binary_accuracy: 0.9852\n",
      "Epoch 122/250\n",
      "135/135 [==============================] - 0s 1ms/step - loss: 0.0456 - binary_accuracy: 0.9852\n",
      "Epoch 123/250\n",
      "135/135 [==============================] - 0s 1ms/step - loss: 0.0454 - binary_accuracy: 0.9901\n",
      "Epoch 124/250\n",
      "135/135 [==============================] - 0s 1ms/step - loss: 0.0446 - binary_accuracy: 0.9852\n",
      "Epoch 125/250\n",
      "135/135 [==============================] - 0s 1ms/step - loss: 0.0445 - binary_accuracy: 0.9901\n",
      "Epoch 126/250\n",
      "135/135 [==============================] - 0s 1ms/step - loss: 0.0438 - binary_accuracy: 0.9852\n",
      "Epoch 127/250\n",
      "135/135 [==============================] - 0s 1ms/step - loss: 0.0442 - binary_accuracy: 0.9852\n",
      "Epoch 128/250\n",
      "135/135 [==============================] - 0s 1ms/step - loss: 0.0441 - binary_accuracy: 0.9852\n",
      "Epoch 129/250\n",
      "135/135 [==============================] - 0s 1ms/step - loss: 0.0432 - binary_accuracy: 0.9852\n",
      "Epoch 130/250\n",
      "135/135 [==============================] - 0s 1ms/step - loss: 0.0452 - binary_accuracy: 0.9802\n",
      "Epoch 131/250\n",
      "135/135 [==============================] - 0s 1ms/step - loss: 0.0420 - binary_accuracy: 0.9802\n",
      "Epoch 132/250\n",
      "135/135 [==============================] - 0s 1ms/step - loss: 0.0415 - binary_accuracy: 0.9852\n",
      "Epoch 133/250\n",
      "135/135 [==============================] - 0s 1ms/step - loss: 0.0416 - binary_accuracy: 0.9852\n",
      "Epoch 134/250\n",
      "135/135 [==============================] - 0s 1ms/step - loss: 0.0413 - binary_accuracy: 0.9901\n",
      "Epoch 135/250\n",
      "135/135 [==============================] - 0s 1ms/step - loss: 0.0406 - binary_accuracy: 0.9852\n",
      "Epoch 136/250\n",
      "135/135 [==============================] - 0s 1ms/step - loss: 0.0423 - binary_accuracy: 0.9802\n",
      "Epoch 137/250\n",
      "135/135 [==============================] - 0s 1ms/step - loss: 0.0414 - binary_accuracy: 0.9852\n",
      "Epoch 138/250\n",
      "135/135 [==============================] - 0s 1ms/step - loss: 0.0408 - binary_accuracy: 0.9852\n",
      "Epoch 139/250\n",
      "135/135 [==============================] - 0s 1ms/step - loss: 0.0405 - binary_accuracy: 0.9852\n",
      "Epoch 140/250\n",
      "135/135 [==============================] - 0s 1ms/step - loss: 0.0379 - binary_accuracy: 0.9852\n",
      "Epoch 141/250\n",
      "135/135 [==============================] - 0s 1ms/step - loss: 0.0416 - binary_accuracy: 0.9852\n",
      "Epoch 142/250\n",
      "135/135 [==============================] - 0s 1ms/step - loss: 0.0403 - binary_accuracy: 0.9852\n",
      "Epoch 143/250\n",
      "135/135 [==============================] - 0s 1ms/step - loss: 0.0405 - binary_accuracy: 0.9802\n",
      "Epoch 144/250\n",
      "135/135 [==============================] - 0s 1ms/step - loss: 0.0394 - binary_accuracy: 0.9802\n",
      "Epoch 145/250\n",
      "135/135 [==============================] - 0s 1ms/step - loss: 0.0391 - binary_accuracy: 0.9802\n",
      "Epoch 146/250\n",
      "135/135 [==============================] - 0s 1ms/step - loss: 0.0377 - binary_accuracy: 0.9852\n",
      "Epoch 147/250\n",
      "135/135 [==============================] - 0s 1ms/step - loss: 0.0385 - binary_accuracy: 0.9802\n",
      "Epoch 148/250\n",
      "135/135 [==============================] - 0s 1ms/step - loss: 0.0382 - binary_accuracy: 0.9852\n",
      "Epoch 149/250\n",
      "135/135 [==============================] - 0s 1ms/step - loss: 0.0422 - binary_accuracy: 0.9852\n",
      "Epoch 150/250\n"
     ]
    },
    {
     "name": "stdout",
     "output_type": "stream",
     "text": [
      "135/135 [==============================] - 0s 1ms/step - loss: 0.0377 - binary_accuracy: 0.9852\n",
      "Epoch 151/250\n",
      "135/135 [==============================] - 0s 1ms/step - loss: 0.0384 - binary_accuracy: 0.9802\n",
      "Epoch 152/250\n",
      "135/135 [==============================] - 0s 1ms/step - loss: 0.0380 - binary_accuracy: 0.9852\n",
      "Epoch 153/250\n",
      "135/135 [==============================] - 0s 1ms/step - loss: 0.0370 - binary_accuracy: 0.9852\n",
      "Epoch 154/250\n",
      "135/135 [==============================] - 0s 1ms/step - loss: 0.0376 - binary_accuracy: 0.9852\n",
      "Epoch 155/250\n",
      "135/135 [==============================] - 0s 1ms/step - loss: 0.0372 - binary_accuracy: 0.9852\n",
      "Epoch 156/250\n",
      "135/135 [==============================] - 0s 1ms/step - loss: 0.0372 - binary_accuracy: 0.9852\n",
      "Epoch 157/250\n",
      "135/135 [==============================] - 0s 1ms/step - loss: 0.0374 - binary_accuracy: 0.9852\n",
      "Epoch 158/250\n",
      "135/135 [==============================] - 0s 1ms/step - loss: 0.0373 - binary_accuracy: 0.9852\n",
      "Epoch 159/250\n",
      "135/135 [==============================] - 0s 1ms/step - loss: 0.0359 - binary_accuracy: 0.9852\n",
      "Epoch 160/250\n",
      "135/135 [==============================] - 0s 1ms/step - loss: 0.0365 - binary_accuracy: 0.9852\n",
      "Epoch 161/250\n",
      "135/135 [==============================] - 0s 1ms/step - loss: 0.0359 - binary_accuracy: 0.9852\n",
      "Epoch 162/250\n",
      "135/135 [==============================] - 0s 1ms/step - loss: 0.0361 - binary_accuracy: 0.9852\n",
      "Epoch 163/250\n",
      "135/135 [==============================] - 0s 1ms/step - loss: 0.0356 - binary_accuracy: 0.9852\n",
      "Epoch 164/250\n",
      "135/135 [==============================] - 0s 1ms/step - loss: 0.0353 - binary_accuracy: 0.9852\n",
      "Epoch 165/250\n",
      "135/135 [==============================] - 0s 1ms/step - loss: 0.0347 - binary_accuracy: 0.9852\n",
      "Epoch 166/250\n",
      "135/135 [==============================] - 0s 1ms/step - loss: 0.0355 - binary_accuracy: 0.9852\n",
      "Epoch 167/250\n",
      "135/135 [==============================] - 0s 1ms/step - loss: 0.0349 - binary_accuracy: 0.9901\n",
      "Epoch 168/250\n",
      "135/135 [==============================] - 0s 1ms/step - loss: 0.0350 - binary_accuracy: 0.9852\n",
      "Epoch 169/250\n",
      "135/135 [==============================] - 0s 1ms/step - loss: 0.0346 - binary_accuracy: 0.9901\n",
      "Epoch 170/250\n",
      "135/135 [==============================] - 0s 1ms/step - loss: 0.0354 - binary_accuracy: 0.9852\n",
      "Epoch 171/250\n",
      "135/135 [==============================] - 0s 1ms/step - loss: 0.0346 - binary_accuracy: 0.9852\n",
      "Epoch 172/250\n",
      "135/135 [==============================] - 0s 1ms/step - loss: 0.0371 - binary_accuracy: 0.9802\n",
      "Epoch 173/250\n",
      "135/135 [==============================] - 0s 1ms/step - loss: 0.0339 - binary_accuracy: 0.9852\n",
      "Epoch 174/250\n",
      "135/135 [==============================] - 0s 1ms/step - loss: 0.0335 - binary_accuracy: 0.9852\n",
      "Epoch 175/250\n",
      "135/135 [==============================] - 0s 1ms/step - loss: 0.0342 - binary_accuracy: 0.9901\n",
      "Epoch 176/250\n",
      "135/135 [==============================] - 0s 1ms/step - loss: 0.0345 - binary_accuracy: 0.9852\n",
      "Epoch 177/250\n",
      "135/135 [==============================] - 0s 1ms/step - loss: 0.0348 - binary_accuracy: 0.9852\n",
      "Epoch 178/250\n",
      "135/135 [==============================] - 0s 1ms/step - loss: 0.0340 - binary_accuracy: 0.9852\n",
      "Epoch 179/250\n",
      "135/135 [==============================] - 0s 1ms/step - loss: 0.0326 - binary_accuracy: 0.9852\n",
      "Epoch 180/250\n",
      "135/135 [==============================] - 0s 1ms/step - loss: 0.0350 - binary_accuracy: 0.9852\n",
      "Epoch 181/250\n",
      "135/135 [==============================] - 0s 1ms/step - loss: 0.0360 - binary_accuracy: 0.9852\n",
      "Epoch 182/250\n",
      "135/135 [==============================] - 0s 1ms/step - loss: 0.0337 - binary_accuracy: 0.9901\n",
      "Epoch 183/250\n",
      "135/135 [==============================] - 0s 1ms/step - loss: 0.0341 - binary_accuracy: 0.9802\n",
      "Epoch 184/250\n",
      "135/135 [==============================] - 0s 1ms/step - loss: 0.0343 - binary_accuracy: 0.9901\n",
      "Epoch 185/250\n",
      "135/135 [==============================] - 0s 1ms/step - loss: 0.0349 - binary_accuracy: 0.9852\n",
      "Epoch 186/250\n",
      "135/135 [==============================] - 0s 1ms/step - loss: 0.0320 - binary_accuracy: 0.9901\n",
      "Epoch 187/250\n",
      "135/135 [==============================] - 0s 1ms/step - loss: 0.0327 - binary_accuracy: 0.9852\n",
      "Epoch 188/250\n",
      "135/135 [==============================] - 0s 1ms/step - loss: 0.0351 - binary_accuracy: 0.9852\n",
      "Epoch 189/250\n",
      "135/135 [==============================] - 0s 1ms/step - loss: 0.0332 - binary_accuracy: 0.9901\n",
      "Epoch 190/250\n",
      "135/135 [==============================] - 0s 1ms/step - loss: 0.0323 - binary_accuracy: 0.9901\n",
      "Epoch 191/250\n",
      "135/135 [==============================] - 0s 1ms/step - loss: 0.0327 - binary_accuracy: 0.9901\n",
      "Epoch 192/250\n",
      "135/135 [==============================] - 0s 1ms/step - loss: 0.0328 - binary_accuracy: 0.9852\n",
      "Epoch 193/250\n",
      "135/135 [==============================] - 0s 1ms/step - loss: 0.0343 - binary_accuracy: 0.9852\n",
      "Epoch 194/250\n",
      "135/135 [==============================] - 0s 1ms/step - loss: 0.0313 - binary_accuracy: 0.9901\n",
      "Epoch 195/250\n",
      "135/135 [==============================] - 0s 1ms/step - loss: 0.0316 - binary_accuracy: 0.9901\n",
      "Epoch 196/250\n",
      "135/135 [==============================] - 0s 1ms/step - loss: 0.0340 - binary_accuracy: 0.9901\n",
      "Epoch 197/250\n",
      "135/135 [==============================] - 0s 1ms/step - loss: 0.0323 - binary_accuracy: 0.9901\n",
      "Epoch 198/250\n",
      "135/135 [==============================] - 0s 1ms/step - loss: 0.0319 - binary_accuracy: 0.9852\n",
      "Epoch 199/250\n",
      "135/135 [==============================] - 0s 1ms/step - loss: 0.0328 - binary_accuracy: 0.9852\n",
      "Epoch 200/250\n",
      "135/135 [==============================] - 0s 1ms/step - loss: 0.0311 - binary_accuracy: 0.9901\n",
      "Epoch 201/250\n",
      "135/135 [==============================] - 0s 1ms/step - loss: 0.0321 - binary_accuracy: 0.9901\n",
      "Epoch 202/250\n",
      "135/135 [==============================] - 0s 1ms/step - loss: 0.0313 - binary_accuracy: 0.9852\n",
      "Epoch 203/250\n",
      "135/135 [==============================] - 0s 1ms/step - loss: 0.0314 - binary_accuracy: 0.9852\n",
      "Epoch 204/250\n",
      "135/135 [==============================] - 0s 1ms/step - loss: 0.0312 - binary_accuracy: 0.9852\n",
      "Epoch 205/250\n",
      "135/135 [==============================] - 0s 1ms/step - loss: 0.0328 - binary_accuracy: 0.9802\n",
      "Epoch 206/250\n",
      "135/135 [==============================] - 0s 1ms/step - loss: 0.0309 - binary_accuracy: 0.9901\n",
      "Epoch 207/250\n",
      "135/135 [==============================] - 0s 1ms/step - loss: 0.0310 - binary_accuracy: 0.9852\n",
      "Epoch 208/250\n",
      "135/135 [==============================] - 0s 1ms/step - loss: 0.0322 - binary_accuracy: 0.9852\n",
      "Epoch 209/250\n",
      "135/135 [==============================] - 0s 1ms/step - loss: 0.0309 - binary_accuracy: 0.9901\n",
      "Epoch 210/250\n",
      "135/135 [==============================] - 0s 1ms/step - loss: 0.0315 - binary_accuracy: 0.9852\n",
      "Epoch 211/250\n",
      "135/135 [==============================] - 0s 1ms/step - loss: 0.0312 - binary_accuracy: 0.9852\n",
      "Epoch 212/250\n",
      "135/135 [==============================] - 0s 1ms/step - loss: 0.0312 - binary_accuracy: 0.9901\n",
      "Epoch 213/250\n",
      "135/135 [==============================] - 0s 1ms/step - loss: 0.0304 - binary_accuracy: 0.9901\n",
      "Epoch 214/250\n",
      "135/135 [==============================] - 0s 1ms/step - loss: 0.0323 - binary_accuracy: 0.9901\n",
      "Epoch 215/250\n",
      "135/135 [==============================] - 0s 1ms/step - loss: 0.0308 - binary_accuracy: 0.9901\n",
      "Epoch 216/250\n",
      "135/135 [==============================] - 0s 1ms/step - loss: 0.0303 - binary_accuracy: 0.9852\n",
      "Epoch 217/250\n",
      "135/135 [==============================] - 0s 1ms/step - loss: 0.0298 - binary_accuracy: 0.9901\n",
      "Epoch 218/250\n",
      "135/135 [==============================] - 0s 1ms/step - loss: 0.0303 - binary_accuracy: 0.9901\n",
      "Epoch 219/250\n",
      "135/135 [==============================] - 0s 1ms/step - loss: 0.0309 - binary_accuracy: 0.9901\n",
      "Epoch 220/250\n",
      "135/135 [==============================] - 0s 1ms/step - loss: 0.0325 - binary_accuracy: 0.9852\n",
      "Epoch 221/250\n",
      "135/135 [==============================] - 0s 1ms/step - loss: 0.0298 - binary_accuracy: 0.9901\n",
      "Epoch 222/250\n",
      "135/135 [==============================] - 0s 1ms/step - loss: 0.0302 - binary_accuracy: 0.9901\n",
      "Epoch 223/250\n",
      "135/135 [==============================] - 0s 1ms/step - loss: 0.0310 - binary_accuracy: 0.9901\n",
      "Epoch 224/250\n"
     ]
    },
    {
     "name": "stdout",
     "output_type": "stream",
     "text": [
      "135/135 [==============================] - 0s 1ms/step - loss: 0.0300 - binary_accuracy: 0.9901\n",
      "Epoch 225/250\n",
      "135/135 [==============================] - 0s 1ms/step - loss: 0.0311 - binary_accuracy: 0.9901\n",
      "Epoch 226/250\n",
      "135/135 [==============================] - 0s 1ms/step - loss: 0.0329 - binary_accuracy: 0.9901\n",
      "Epoch 227/250\n",
      "135/135 [==============================] - 0s 1ms/step - loss: 0.0316 - binary_accuracy: 0.9901\n",
      "Epoch 228/250\n",
      "135/135 [==============================] - 0s 1ms/step - loss: 0.0328 - binary_accuracy: 0.9852\n",
      "Epoch 229/250\n",
      "135/135 [==============================] - 0s 1ms/step - loss: 0.0307 - binary_accuracy: 0.9852\n",
      "Epoch 230/250\n",
      "135/135 [==============================] - 0s 1ms/step - loss: 0.0289 - binary_accuracy: 0.9901\n",
      "Epoch 231/250\n",
      "135/135 [==============================] - 0s 1ms/step - loss: 0.0297 - binary_accuracy: 0.9901\n",
      "Epoch 232/250\n",
      "135/135 [==============================] - 0s 1ms/step - loss: 0.0299 - binary_accuracy: 0.9852\n",
      "Epoch 233/250\n",
      "135/135 [==============================] - 0s 1ms/step - loss: 0.0300 - binary_accuracy: 0.9852\n",
      "Epoch 234/250\n",
      "135/135 [==============================] - 0s 1ms/step - loss: 0.0293 - binary_accuracy: 0.9901\n",
      "Epoch 235/250\n",
      "135/135 [==============================] - 0s 1ms/step - loss: 0.0299 - binary_accuracy: 0.9901\n",
      "Epoch 236/250\n",
      "135/135 [==============================] - 0s 1ms/step - loss: 0.0292 - binary_accuracy: 0.9901\n",
      "Epoch 237/250\n",
      "135/135 [==============================] - 0s 1ms/step - loss: 0.0299 - binary_accuracy: 0.9901\n",
      "Epoch 238/250\n",
      "135/135 [==============================] - 0s 1ms/step - loss: 0.0294 - binary_accuracy: 0.9901\n",
      "Epoch 239/250\n",
      "135/135 [==============================] - 0s 1ms/step - loss: 0.0286 - binary_accuracy: 0.9901\n",
      "Epoch 240/250\n",
      "135/135 [==============================] - 0s 1ms/step - loss: 0.0310 - binary_accuracy: 0.9901\n",
      "Epoch 241/250\n",
      "135/135 [==============================] - 0s 1ms/step - loss: 0.0296 - binary_accuracy: 0.9901\n",
      "Epoch 242/250\n",
      "135/135 [==============================] - 0s 1ms/step - loss: 0.0301 - binary_accuracy: 0.9852\n",
      "Epoch 243/250\n",
      "135/135 [==============================] - 0s 1ms/step - loss: 0.0285 - binary_accuracy: 0.9901\n",
      "Epoch 244/250\n",
      "135/135 [==============================] - 0s 1ms/step - loss: 0.0285 - binary_accuracy: 0.9901\n",
      "Epoch 245/250\n",
      "135/135 [==============================] - 0s 1ms/step - loss: 0.0289 - binary_accuracy: 0.9901\n",
      "Epoch 246/250\n",
      "135/135 [==============================] - 0s 1ms/step - loss: 0.0282 - binary_accuracy: 0.9901\n",
      "Epoch 247/250\n",
      "135/135 [==============================] - 0s 1ms/step - loss: 0.0285 - binary_accuracy: 0.9901\n",
      "Epoch 248/250\n",
      "135/135 [==============================] - 0s 1ms/step - loss: 0.0281 - binary_accuracy: 0.9901\n",
      "Epoch 249/250\n",
      "135/135 [==============================] - 0s 1ms/step - loss: 0.0292 - binary_accuracy: 0.9852\n",
      "Epoch 250/250\n",
      "135/135 [==============================] - 0s 1ms/step - loss: 0.0292 - binary_accuracy: 0.9901\n"
     ]
    },
    {
     "data": {
      "text/plain": [
       "<keras.callbacks.History at 0x1a32d24f60>"
      ]
     },
     "execution_count": 4,
     "metadata": {},
     "output_type": "execute_result"
    }
   ],
   "source": [
    "# loss = 'mean_squared_error'\n",
    "loss = fuzz.loss_function\n",
    "optimizer = 'adam'\n",
    "metrics = ['binary_accuracy']\n",
    "\n",
    "model = fuzz.model\n",
    "\n",
    "model.compile(loss=loss,\n",
    "              optimizer=optimizer,\n",
    "              metrics=metrics)\n",
    "\n",
    "model.fit(np.array(X_train),\n",
    "          np.array(y_train),\n",
    "          epochs=250,\n",
    "          verbose=1,\n",
    "          batch_size=2)"
   ]
  },
  {
   "cell_type": "code",
   "execution_count": 5,
   "metadata": {},
   "outputs": [
    {
     "data": {
      "text/plain": [
       "[array([[ 6.1073303,  5.8863463,  3.8469965],\n",
       "        [ 2.4748902,  4.0579185,  1.1891739],\n",
       "        [ 6.9911284,  1.0462298,  3.7106006],\n",
       "        [ 3.7091155, -0.3453039,  2.5200057]], dtype=float32),\n",
       " array([[3.9457917, 5.1618943, 2.0746884],\n",
       "        [3.2234733, 3.435901 , 2.1246395],\n",
       "        [2.0414689, 3.5269158, 2.0570922],\n",
       "        [1.4811075, 2.9864326, 1.6324853]], dtype=float32)]"
      ]
     },
     "execution_count": 5,
     "metadata": {},
     "output_type": "execute_result"
    }
   ],
   "source": [
    "fuzz._get_layer_weights('FuzzyRules')"
   ]
  },
  {
   "cell_type": "code",
   "execution_count": 6,
   "metadata": {},
   "outputs": [
    {
     "data": {
      "text/plain": [
       "array([[5. , 3.6, 1.4, 0.2],\n",
       "       [6.3, 2.9, 5.6, 1.8],\n",
       "       [6.6, 3. , 4.4, 1.4],\n",
       "       [4.6, 3.6, 1. , 0.2],\n",
       "       [5.9, 3.2, 4.8, 1.8],\n",
       "       [5.9, 3. , 4.2, 1.5],\n",
       "       [5.7, 3. , 4.2, 1.2],\n",
       "       [6.9, 3.1, 4.9, 1.5],\n",
       "       [4.8, 3. , 1.4, 0.3],\n",
       "       [7.4, 2.8, 6.1, 1.9],\n",
       "       [5.1, 3.5, 1.4, 0.2],\n",
       "       [5.1, 3.3, 1.7, 0.5],\n",
       "       [6.4, 2.7, 5.3, 1.9],\n",
       "       [6.1, 2.9, 4.7, 1.4],\n",
       "       [4.8, 3.1, 1.6, 0.2]])"
      ]
     },
     "execution_count": 6,
     "metadata": {},
     "output_type": "execute_result"
    }
   ],
   "source": [
    "X_test"
   ]
  },
  {
   "cell_type": "code",
   "execution_count": 7,
   "metadata": {},
   "outputs": [
    {
     "data": {
      "text/plain": [
       "array([[1., 0., 0.],\n",
       "       [0., 0., 1.],\n",
       "       [0., 1., 0.],\n",
       "       [1., 0., 0.],\n",
       "       [0., 1., 0.],\n",
       "       [0., 1., 0.],\n",
       "       [0., 1., 0.],\n",
       "       [0., 1., 0.],\n",
       "       [1., 0., 0.],\n",
       "       [0., 0., 1.],\n",
       "       [1., 0., 0.],\n",
       "       [1., 0., 0.],\n",
       "       [0., 0., 1.],\n",
       "       [0., 1., 0.],\n",
       "       [1., 0., 0.]])"
      ]
     },
     "execution_count": 7,
     "metadata": {},
     "output_type": "execute_result"
    }
   ],
   "source": [
    "y_test"
   ]
  },
  {
   "cell_type": "code",
   "execution_count": 8,
   "metadata": {},
   "outputs": [
    {
     "data": {
      "text/plain": [
       "array([[1., 0., 0.],\n",
       "       [0., 0., 1.],\n",
       "       [0., 1., 0.],\n",
       "       [1., 0., 0.],\n",
       "       [0., 0., 1.],\n",
       "       [0., 1., 0.],\n",
       "       [0., 1., 0.],\n",
       "       [0., 1., 0.],\n",
       "       [1., 0., 0.],\n",
       "       [0., 0., 1.],\n",
       "       [1., 0., 0.],\n",
       "       [1., 0., 0.],\n",
       "       [0., 0., 1.],\n",
       "       [0., 1., 0.],\n",
       "       [1., 0., 0.]], dtype=float32)"
      ]
     },
     "execution_count": 8,
     "metadata": {},
     "output_type": "execute_result"
    }
   ],
   "source": [
    "y_pred = model.predict(X_test)\n",
    "y_pred.round()"
   ]
  },
  {
   "cell_type": "code",
   "execution_count": 9,
   "metadata": {},
   "outputs": [
    {
     "data": {
      "text/plain": [
       "array([[ True,  True,  True],\n",
       "       [ True,  True,  True],\n",
       "       [ True,  True,  True],\n",
       "       [ True,  True,  True],\n",
       "       [ True, False, False],\n",
       "       [ True,  True,  True],\n",
       "       [ True,  True,  True],\n",
       "       [ True,  True,  True],\n",
       "       [ True,  True,  True],\n",
       "       [ True,  True,  True],\n",
       "       [ True,  True,  True],\n",
       "       [ True,  True,  True],\n",
       "       [ True,  True,  True],\n",
       "       [ True,  True,  True],\n",
       "       [ True,  True,  True]])"
      ]
     },
     "execution_count": 9,
     "metadata": {},
     "output_type": "execute_result"
    }
   ],
   "source": [
    "acc = y_test == y_pred.round()\n",
    "acc"
   ]
  },
  {
   "cell_type": "code",
   "execution_count": 10,
   "metadata": {},
   "outputs": [
    {
     "data": {
      "text/plain": [
       "0.9555555555555556"
      ]
     },
     "execution_count": 10,
     "metadata": {},
     "output_type": "execute_result"
    }
   ],
   "source": [
    "acc.sum() / acc.size"
   ]
  },
  {
   "cell_type": "markdown",
   "metadata": {},
   "source": [
    "## Model Prediction Results"
   ]
  },
  {
   "cell_type": "code",
   "execution_count": 11,
   "metadata": {},
   "outputs": [
    {
     "name": "stdout",
     "output_type": "stream",
     "text": [
      "15/15 [==============================] - 0s 9ms/step\n",
      "Model Loss: 0.43104896\n",
      "Binary Accuracy: 95.6%\n"
     ]
    }
   ],
   "source": [
    "pred_loss, pred_bin_acc = model.evaluate(X_test, y_test)\n",
    "print('Model Loss: {:0.8f}'.format(pred_loss))\n",
    "print('Binary Accuracy: {:2.1f}%'.format(100*pred_bin_acc))"
   ]
  },
  {
   "cell_type": "code",
   "execution_count": 12,
   "metadata": {},
   "outputs": [
    {
     "data": {
      "text/plain": [
       "['loss', 'binary_accuracy']"
      ]
     },
     "execution_count": 12,
     "metadata": {},
     "output_type": "execute_result"
    }
   ],
   "source": [
    "model.metrics_names"
   ]
  },
  {
   "cell_type": "markdown",
   "metadata": {},
   "source": [
    "## Plot Results"
   ]
  },
  {
   "cell_type": "code",
   "execution_count": 13,
   "metadata": {},
   "outputs": [
    {
     "name": "stderr",
     "output_type": "stream",
     "text": [
      "'c' argument looks like a single numeric RGB or RGBA sequence, which should be avoided as value-mapping will have precedence in case its length matches with 'x' & 'y'.  Please use a 2-D array with a single row if you really want to specify the same RGB or RGBA value for all points.\n"
     ]
    },
    {
     "data": {
      "image/png": "[encoded data removed]",
      "text/plain": [
       "<Figure size 432x288 with 1 Axes>"
      ]
     },
     "metadata": {
      "needs_background": "light"
     },
     "output_type": "display_data"
    }
   ],
   "source": [
    "w = fuzz._get_layer_weights('FuzzyRules')\n",
    "\n",
    "\n",
    "plt.clf()\n",
    "plt.title('Iris')\n",
    "plt.ylabel('x[0]')\n",
    "plt.xlabel('x[1]')\n",
    "plt.scatter([a[0] for a in X_train], [a[1] for a in X_train], c=(0,0,0), alpha=0.5,s=1)\n",
    "for i in range(0,fuzz.neurons):\n",
    "    ellipse = Ellipse((w[0][0][i], w[0][1][i]), w[1][0][i],w[1][1][i], color='r', fill=False)\n",
    "    ax = plt.gca()\n",
    "    ax.add_patch(ellipse)\n",
    "\n",
    "plt.scatter(w[0][0], w[0][1], c=(1,0,0), alpha=0.8,s=15)\n",
    "plt.show()"
   ]
  }
 ],
 "metadata": {
  "kernelspec": {
   "display_name": "Python 3",
   "language": "python",
   "name": "python3"
  },
  "language_info": {
   "codemirror_mode": {
    "name": "ipython",
    "version": 3
   },
   "file_extension": ".py",
   "mimetype": "text/x-python",
   "name": "python",
   "nbconvert_exporter": "python",
   "pygments_lexer": "ipython3",
   "version": "3.6.8"
  }
 },
 "nbformat": 4,
 "nbformat_minor": 1
}
