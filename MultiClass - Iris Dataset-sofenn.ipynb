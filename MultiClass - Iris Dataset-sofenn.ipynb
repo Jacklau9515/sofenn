{
 "cells": [
  {
   "cell_type": "markdown",
   "metadata": {
    "collapsed": true
   },
   "source": [
    "# Iris Dataset - SOFENN Example"
   ]
  },
  {
   "cell_type": "markdown",
   "metadata": {},
   "source": [
    "Demonstrate multi-class classification with SOFENN on classic Iris Dataset"
   ]
  },
  {
   "cell_type": "code",
   "execution_count": 1,
   "metadata": {},
   "outputs": [
    {
     "name": "stderr",
     "output_type": "stream",
     "text": [
      "Using TensorFlow backend.\n"
     ]
    }
   ],
   "source": [
    "import numpy as np\n",
    "import random as rnd\n",
    "\n",
    "from sklearn import datasets\n",
    "from sklearn.model_selection import train_test_split\n",
    "\n",
    "import matplotlib.pyplot as plt\n",
    "from matplotlib.patches import Ellipse\n",
    "\n",
    "import keras\n",
    "import keras.backend as K\n",
    "\n",
    "from keras.optimizers import SGD\n",
    "from keras.utils import plot_model\n",
    "from keras.models import Sequential, Model\n",
    "from keras.layers import Dense, Dropout, Activation, Input\n",
    "\n",
    "from sofenn.FuzzyNetwork import FuzzyNetwork\n",
    "from sofenn.layers.DefuzzyLayer import DefuzzyLayer\n",
    "from sofenn.layers import FuzzyLayer, NormalizedLayer, WeightedLayer, OutputLayer\n",
    "\n",
    "import os\n",
    "\n",
    "os.environ['KMP_DUPLICATE_LIB_OK']='True'"
   ]
  },
  {
   "cell_type": "markdown",
   "metadata": {},
   "source": [
    "## Read in and prep Iris Dataset"
   ]
  },
  {
   "cell_type": "code",
   "execution_count": 2,
   "metadata": {
    "scrolled": true
   },
   "outputs": [],
   "source": [
    "# read in iris dataset\n",
    "iris = datasets.load_iris()\n",
    "# create one-hot encoded vector for each class\n",
    "Y = []\n",
    "for y in iris.target:\n",
    "    tmp = np.zeros(3)\n",
    "    tmp[y] = 1\n",
    "    Y.append(tmp)\n",
    "Y = np.array(Y)\n",
    "    \n",
    "# split to train/test\n",
    "X_train, X_test, y_train, y_test = train_test_split(iris.data, Y, test_size=0.1)"
   ]
  },
  {
   "cell_type": "code",
   "execution_count": 3,
   "metadata": {
    "scrolled": true
   },
   "outputs": [
    {
     "name": "stdout",
     "output_type": "stream",
     "text": [
      "BUILDING SOFNN WITH 3 NEURONS\n",
      "__________________________________________________________________________________________________\n",
      "Layer (type)                    Output Shape         Param #     Connected to                     \n",
      "==================================================================================================\n",
      "Inputs (InputLayer)             (None, 4)            0                                            \n",
      "__________________________________________________________________________________________________\n",
      "FuzzyRules (FuzzyLayer)         (None, 3)            24          Inputs[0][0]                     \n",
      "__________________________________________________________________________________________________\n",
      "Normalization (NormalizedLayer) (None, 3)            0           FuzzyRules[0][0]                 \n",
      "__________________________________________________________________________________________________\n",
      "Weights (WeightedLayer)         (None, 3)            15          Inputs[0][0]                     \n",
      "                                                                 Normalization[0][0]              \n",
      "__________________________________________________________________________________________________\n",
      "RawOutput (OutputLayer)         (None, 1)            0           Weights[0][0]                    \n",
      "__________________________________________________________________________________________________\n",
      "dense_1 (Dense)                 (None, 3)            6           RawOutput[0][0]                  \n",
      "==================================================================================================\n",
      "Total params: 45\n",
      "Trainable params: 45\n",
      "Non-trainable params: 0\n",
      "__________________________________________________________________________________________________\n",
      "None\n"
     ]
    }
   ],
   "source": [
    "fuzz = FuzzyNetwork(\n",
    "            X_train, X_test, y_train, y_test,           # data attributes\n",
    "            neurons=3, s_init=4, max_neurons=100,       # initialization parameters\n",
    "            eval_thresh=0.5, ifpart_thresh=0.1354       # evaluation and ifpart threshold\n",
    "            )"
   ]
  },
  {
   "cell_type": "code",
   "execution_count": 4,
   "metadata": {
    "scrolled": true
   },
   "outputs": [
    {
     "name": "stdout",
     "output_type": "stream",
     "text": [
      "Epoch 1/100\n",
      "135/135 [==============================] - 1s 6ms/step - loss: 0.6540 - binary_accuracy: 0.6667\n",
      "Epoch 2/100\n",
      "135/135 [==============================] - 0s 2ms/step - loss: 0.6332 - binary_accuracy: 0.6667\n",
      "Epoch 3/100\n",
      "135/135 [==============================] - 0s 2ms/step - loss: 0.6106 - binary_accuracy: 0.6667\n",
      "Epoch 4/100\n",
      "135/135 [==============================] - 0s 2ms/step - loss: 0.5841 - binary_accuracy: 0.6765\n",
      "Epoch 5/100\n",
      "135/135 [==============================] - 0s 2ms/step - loss: 0.5496 - binary_accuracy: 0.6914\n",
      "Epoch 6/100\n",
      "135/135 [==============================] - 0s 2ms/step - loss: 0.5125 - binary_accuracy: 0.7309\n",
      "Epoch 7/100\n",
      "135/135 [==============================] - 0s 2ms/step - loss: 0.4688 - binary_accuracy: 0.8148\n",
      "Epoch 8/100\n",
      "135/135 [==============================] - 0s 2ms/step - loss: 0.4282 - binary_accuracy: 0.8667\n",
      "Epoch 9/100\n",
      "135/135 [==============================] - 0s 2ms/step - loss: 0.3904 - binary_accuracy: 0.8691\n",
      "Epoch 10/100\n",
      "135/135 [==============================] - 0s 2ms/step - loss: 0.3591 - binary_accuracy: 0.8642\n",
      "Epoch 11/100\n",
      "135/135 [==============================] - 0s 2ms/step - loss: 0.3390 - binary_accuracy: 0.8667\n",
      "Epoch 12/100\n",
      "135/135 [==============================] - 0s 2ms/step - loss: 0.3213 - binary_accuracy: 0.8667\n",
      "Epoch 13/100\n",
      "135/135 [==============================] - 0s 2ms/step - loss: 0.3085 - binary_accuracy: 0.8617\n",
      "Epoch 14/100\n",
      "135/135 [==============================] - 0s 2ms/step - loss: 0.2965 - binary_accuracy: 0.8568\n",
      "Epoch 15/100\n",
      "135/135 [==============================] - 0s 2ms/step - loss: 0.2861 - binary_accuracy: 0.8593\n",
      "Epoch 16/100\n",
      "135/135 [==============================] - 0s 2ms/step - loss: 0.2786 - binary_accuracy: 0.8543\n",
      "Epoch 17/100\n",
      "135/135 [==============================] - 0s 2ms/step - loss: 0.2695 - binary_accuracy: 0.8617\n",
      "Epoch 18/100\n",
      "135/135 [==============================] - 0s 2ms/step - loss: 0.2599 - binary_accuracy: 0.8593\n",
      "Epoch 19/100\n",
      "135/135 [==============================] - 0s 2ms/step - loss: 0.2536 - binary_accuracy: 0.8617\n",
      "Epoch 20/100\n",
      "135/135 [==============================] - 0s 2ms/step - loss: 0.2470 - binary_accuracy: 0.8593\n",
      "Epoch 21/100\n",
      "135/135 [==============================] - 0s 2ms/step - loss: 0.2399 - binary_accuracy: 0.8568\n",
      "Epoch 22/100\n",
      "135/135 [==============================] - 0s 2ms/step - loss: 0.2335 - binary_accuracy: 0.8617\n",
      "Epoch 23/100\n",
      "135/135 [==============================] - 0s 2ms/step - loss: 0.2262 - binary_accuracy: 0.8593\n",
      "Epoch 24/100\n",
      "135/135 [==============================] - 0s 2ms/step - loss: 0.2177 - binary_accuracy: 0.8617\n",
      "Epoch 25/100\n",
      "135/135 [==============================] - 0s 2ms/step - loss: 0.2132 - binary_accuracy: 0.8840\n",
      "Epoch 26/100\n",
      "135/135 [==============================] - 0s 2ms/step - loss: 0.2061 - binary_accuracy: 0.9086\n",
      "Epoch 27/100\n",
      "135/135 [==============================] - 0s 2ms/step - loss: 0.2005 - binary_accuracy: 0.9235\n",
      "Epoch 28/100\n",
      "135/135 [==============================] - 0s 2ms/step - loss: 0.1946 - binary_accuracy: 0.9432\n",
      "Epoch 29/100\n",
      "135/135 [==============================] - 0s 2ms/step - loss: 0.1884 - binary_accuracy: 0.9457\n",
      "Epoch 30/100\n",
      "135/135 [==============================] - 0s 2ms/step - loss: 0.1816 - binary_accuracy: 0.9531\n",
      "Epoch 31/100\n",
      "135/135 [==============================] - 0s 2ms/step - loss: 0.1740 - binary_accuracy: 0.9605\n",
      "Epoch 32/100\n",
      "135/135 [==============================] - 0s 2ms/step - loss: 0.1706 - binary_accuracy: 0.9630\n",
      "Epoch 33/100\n",
      "135/135 [==============================] - 0s 2ms/step - loss: 0.1662 - binary_accuracy: 0.9605\n",
      "Epoch 34/100\n",
      "135/135 [==============================] - 0s 2ms/step - loss: 0.1592 - binary_accuracy: 0.9630\n",
      "Epoch 35/100\n",
      "135/135 [==============================] - 0s 2ms/step - loss: 0.1574 - binary_accuracy: 0.9728\n",
      "Epoch 36/100\n",
      "135/135 [==============================] - 0s 2ms/step - loss: 0.1496 - binary_accuracy: 0.9753\n",
      "Epoch 37/100\n",
      "135/135 [==============================] - 0s 2ms/step - loss: 0.1450 - binary_accuracy: 0.9778\n",
      "Epoch 38/100\n",
      "135/135 [==============================] - 0s 2ms/step - loss: 0.1402 - binary_accuracy: 0.9802\n",
      "Epoch 39/100\n",
      "135/135 [==============================] - 0s 2ms/step - loss: 0.1358 - binary_accuracy: 0.9753\n",
      "Epoch 40/100\n",
      "135/135 [==============================] - 0s 2ms/step - loss: 0.1321 - binary_accuracy: 0.9778\n",
      "Epoch 41/100\n",
      "135/135 [==============================] - 0s 2ms/step - loss: 0.1274 - binary_accuracy: 0.9778\n",
      "Epoch 42/100\n",
      "135/135 [==============================] - 0s 2ms/step - loss: 0.1245 - binary_accuracy: 0.9753\n",
      "Epoch 43/100\n",
      "135/135 [==============================] - 0s 2ms/step - loss: 0.1197 - binary_accuracy: 0.9778\n",
      "Epoch 44/100\n",
      "135/135 [==============================] - 0s 2ms/step - loss: 0.1161 - binary_accuracy: 0.9802\n",
      "Epoch 45/100\n",
      "135/135 [==============================] - 0s 2ms/step - loss: 0.1123 - binary_accuracy: 0.9778\n",
      "Epoch 46/100\n",
      "135/135 [==============================] - 0s 2ms/step - loss: 0.1082 - binary_accuracy: 0.9778\n",
      "Epoch 47/100\n",
      "135/135 [==============================] - 0s 2ms/step - loss: 0.1057 - binary_accuracy: 0.9802\n",
      "Epoch 48/100\n",
      "135/135 [==============================] - 0s 2ms/step - loss: 0.1036 - binary_accuracy: 0.9827\n",
      "Epoch 49/100\n",
      "135/135 [==============================] - 0s 2ms/step - loss: 0.0996 - binary_accuracy: 0.9802\n",
      "Epoch 50/100\n",
      "135/135 [==============================] - 0s 2ms/step - loss: 0.0967 - binary_accuracy: 0.9827\n",
      "Epoch 51/100\n",
      "135/135 [==============================] - 0s 2ms/step - loss: 0.0943 - binary_accuracy: 0.9827\n",
      "Epoch 52/100\n",
      "135/135 [==============================] - 0s 2ms/step - loss: 0.0933 - binary_accuracy: 0.9827\n",
      "Epoch 53/100\n",
      "135/135 [==============================] - 0s 2ms/step - loss: 0.0908 - binary_accuracy: 0.9802\n",
      "Epoch 54/100\n",
      "135/135 [==============================] - 0s 2ms/step - loss: 0.0887 - binary_accuracy: 0.9827\n",
      "Epoch 55/100\n",
      "135/135 [==============================] - 0s 2ms/step - loss: 0.0844 - binary_accuracy: 0.9802\n",
      "Epoch 56/100\n",
      "135/135 [==============================] - 0s 2ms/step - loss: 0.0823 - binary_accuracy: 0.9802\n",
      "Epoch 57/100\n",
      "135/135 [==============================] - 0s 2ms/step - loss: 0.0783 - binary_accuracy: 0.9852\n",
      "Epoch 58/100\n",
      "135/135 [==============================] - 0s 2ms/step - loss: 0.0802 - binary_accuracy: 0.9778\n",
      "Epoch 59/100\n",
      "135/135 [==============================] - 0s 2ms/step - loss: 0.0769 - binary_accuracy: 0.9877\n",
      "Epoch 60/100\n",
      "135/135 [==============================] - 0s 2ms/step - loss: 0.0758 - binary_accuracy: 0.9827\n",
      "Epoch 61/100\n",
      "135/135 [==============================] - 0s 2ms/step - loss: 0.0736 - binary_accuracy: 0.9827\n",
      "Epoch 62/100\n",
      "135/135 [==============================] - 0s 2ms/step - loss: 0.0736 - binary_accuracy: 0.9852\n",
      "Epoch 63/100\n",
      "135/135 [==============================] - 0s 2ms/step - loss: 0.0697 - binary_accuracy: 0.9827\n",
      "Epoch 64/100\n",
      "135/135 [==============================] - 0s 2ms/step - loss: 0.0684 - binary_accuracy: 0.9827\n",
      "Epoch 65/100\n",
      "135/135 [==============================] - 0s 2ms/step - loss: 0.0671 - binary_accuracy: 0.9877\n",
      "Epoch 66/100\n",
      "135/135 [==============================] - 0s 2ms/step - loss: 0.0662 - binary_accuracy: 0.9802\n",
      "Epoch 67/100\n",
      "135/135 [==============================] - 0s 2ms/step - loss: 0.0663 - binary_accuracy: 0.9852\n",
      "Epoch 68/100\n",
      "135/135 [==============================] - 0s 2ms/step - loss: 0.0619 - binary_accuracy: 0.9827\n",
      "Epoch 69/100\n",
      "135/135 [==============================] - 0s 2ms/step - loss: 0.0621 - binary_accuracy: 0.9901\n",
      "Epoch 70/100\n",
      "135/135 [==============================] - 0s 2ms/step - loss: 0.0606 - binary_accuracy: 0.9901\n",
      "Epoch 71/100\n",
      "135/135 [==============================] - 0s 2ms/step - loss: 0.0617 - binary_accuracy: 0.9901\n",
      "Epoch 72/100\n",
      "135/135 [==============================] - 0s 2ms/step - loss: 0.0594 - binary_accuracy: 0.9901\n",
      "Epoch 73/100\n",
      "135/135 [==============================] - 0s 2ms/step - loss: 0.0593 - binary_accuracy: 0.9802\n",
      "Epoch 74/100\n",
      "135/135 [==============================] - 0s 2ms/step - loss: 0.0565 - binary_accuracy: 0.9877\n",
      "Epoch 75/100\n",
      "135/135 [==============================] - 0s 2ms/step - loss: 0.0572 - binary_accuracy: 0.9901\n",
      "Epoch 76/100\n"
     ]
    },
    {
     "name": "stdout",
     "output_type": "stream",
     "text": [
      "135/135 [==============================] - 0s 2ms/step - loss: 0.0545 - binary_accuracy: 0.9877\n",
      "Epoch 77/100\n",
      "135/135 [==============================] - 0s 2ms/step - loss: 0.0555 - binary_accuracy: 0.9901\n",
      "Epoch 78/100\n",
      "135/135 [==============================] - 0s 2ms/step - loss: 0.0539 - binary_accuracy: 0.9926\n",
      "Epoch 79/100\n",
      "135/135 [==============================] - 0s 2ms/step - loss: 0.0517 - binary_accuracy: 0.9926\n",
      "Epoch 80/100\n",
      "135/135 [==============================] - 0s 2ms/step - loss: 0.0535 - binary_accuracy: 0.9852\n",
      "Epoch 81/100\n",
      "135/135 [==============================] - 0s 2ms/step - loss: 0.0507 - binary_accuracy: 0.9926\n",
      "Epoch 82/100\n",
      "135/135 [==============================] - 0s 2ms/step - loss: 0.0499 - binary_accuracy: 0.9901\n",
      "Epoch 83/100\n",
      "135/135 [==============================] - 0s 2ms/step - loss: 0.0492 - binary_accuracy: 0.9852\n",
      "Epoch 84/100\n",
      "135/135 [==============================] - 0s 2ms/step - loss: 0.0485 - binary_accuracy: 0.9951\n",
      "Epoch 85/100\n",
      "135/135 [==============================] - 0s 2ms/step - loss: 0.0489 - binary_accuracy: 0.9877\n",
      "Epoch 86/100\n",
      "135/135 [==============================] - 0s 2ms/step - loss: 0.0488 - binary_accuracy: 0.9926\n",
      "Epoch 87/100\n",
      "135/135 [==============================] - 0s 2ms/step - loss: 0.0475 - binary_accuracy: 0.9852\n",
      "Epoch 88/100\n",
      "135/135 [==============================] - 0s 2ms/step - loss: 0.0461 - binary_accuracy: 0.9951\n",
      "Epoch 89/100\n",
      "135/135 [==============================] - 0s 2ms/step - loss: 0.0463 - binary_accuracy: 0.9926\n",
      "Epoch 90/100\n",
      "135/135 [==============================] - 0s 2ms/step - loss: 0.0449 - binary_accuracy: 0.9877\n",
      "Epoch 91/100\n",
      "135/135 [==============================] - 0s 2ms/step - loss: 0.0443 - binary_accuracy: 0.9951\n",
      "Epoch 92/100\n",
      "135/135 [==============================] - 0s 2ms/step - loss: 0.0447 - binary_accuracy: 0.9877\n",
      "Epoch 93/100\n",
      "135/135 [==============================] - 0s 2ms/step - loss: 0.0445 - binary_accuracy: 0.9951\n",
      "Epoch 94/100\n",
      "135/135 [==============================] - 0s 2ms/step - loss: 0.0431 - binary_accuracy: 0.9951\n",
      "Epoch 95/100\n",
      "135/135 [==============================] - 0s 2ms/step - loss: 0.0428 - binary_accuracy: 0.9951\n",
      "Epoch 96/100\n",
      "135/135 [==============================] - 0s 2ms/step - loss: 0.0418 - binary_accuracy: 0.9951\n",
      "Epoch 97/100\n",
      "135/135 [==============================] - 0s 2ms/step - loss: 0.0429 - binary_accuracy: 0.9951\n",
      "Epoch 98/100\n",
      "135/135 [==============================] - 0s 2ms/step - loss: 0.0417 - binary_accuracy: 0.9951\n",
      "Epoch 99/100\n",
      "135/135 [==============================] - 0s 2ms/step - loss: 0.0409 - binary_accuracy: 0.9951\n",
      "Epoch 100/100\n",
      "135/135 [==============================] - 0s 2ms/step - loss: 0.0410 - binary_accuracy: 0.9951\n"
     ]
    },
    {
     "data": {
      "text/plain": [
       "<keras.callbacks.History at 0x1bf23d0df98>"
      ]
     },
     "execution_count": 4,
     "metadata": {},
     "output_type": "execute_result"
    }
   ],
   "source": [
    "# loss = 'mean_squared_error'\n",
    "loss = fuzz.loss_function\n",
    "optimizer = 'adam'\n",
    "metrics = ['binary_accuracy']\n",
    "\n",
    "model = fuzz.model\n",
    "\n",
    "model.compile(loss=loss,\n",
    "              optimizer=optimizer,\n",
    "              metrics=metrics)\n",
    "\n",
    "model.fit(np.array(X_train),\n",
    "          np.array(y_train),\n",
    "          epochs=100,\n",
    "          verbose=1,\n",
    "          batch_size=2)"
   ]
  },
  {
   "cell_type": "code",
   "execution_count": 5,
   "metadata": {},
   "outputs": [
    {
     "data": {
      "text/plain": [
       "[array([[5.6995015 , 4.7779703 , 5.5343995 ],\n",
       "        [2.1975784 , 1.1596644 , 3.3564818 ],\n",
       "        [6.4449143 , 5.516678  , 2.9120948 ],\n",
       "        [3.4819925 , 2.9508488 , 0.07196105]], dtype=float32),\n",
       " array([[4.505382 , 2.0640275, 3.9112537],\n",
       "        [3.1161067, 1.5880816, 4.0525255],\n",
       "        [2.7242184, 2.9396074, 3.2612011],\n",
       "        [2.355557 , 2.4860349, 2.46095  ]], dtype=float32)]"
      ]
     },
     "execution_count": 5,
     "metadata": {},
     "output_type": "execute_result"
    }
   ],
   "source": [
    "fuzz._get_layer_weights('FuzzyRules')"
   ]
  },
  {
   "cell_type": "code",
   "execution_count": 6,
   "metadata": {},
   "outputs": [
    {
     "data": {
      "text/plain": [
       "array([[6. , 2.2, 5. , 1.5],\n",
       "       [5. , 3.4, 1.5, 0.2],\n",
       "       [5. , 3.6, 1.4, 0.2],\n",
       "       [5.1, 3.8, 1.5, 0.3],\n",
       "       [6.7, 3. , 5.2, 2.3],\n",
       "       [5. , 3.5, 1.3, 0.3],\n",
       "       [6.2, 2.9, 4.3, 1.3],\n",
       "       [6.7, 3.3, 5.7, 2.1],\n",
       "       [6.3, 2.8, 5.1, 1.5],\n",
       "       [6. , 3. , 4.8, 1.8],\n",
       "       [4.9, 3.1, 1.5, 0.1],\n",
       "       [6.4, 2.7, 5.3, 1.9],\n",
       "       [5. , 3.2, 1.2, 0.2],\n",
       "       [4.8, 3.1, 1.6, 0.2],\n",
       "       [6.4, 2.8, 5.6, 2.2]])"
      ]
     },
     "execution_count": 6,
     "metadata": {},
     "output_type": "execute_result"
    }
   ],
   "source": [
    "X_test"
   ]
  },
  {
   "cell_type": "code",
   "execution_count": 7,
   "metadata": {},
   "outputs": [
    {
     "data": {
      "text/plain": [
       "array([[0., 0., 1.],\n",
       "       [1., 0., 0.],\n",
       "       [1., 0., 0.],\n",
       "       [1., 0., 0.],\n",
       "       [0., 0., 1.],\n",
       "       [1., 0., 0.],\n",
       "       [0., 1., 0.],\n",
       "       [0., 0., 1.],\n",
       "       [0., 0., 1.],\n",
       "       [0., 0., 1.],\n",
       "       [1., 0., 0.],\n",
       "       [0., 0., 1.],\n",
       "       [1., 0., 0.],\n",
       "       [1., 0., 0.],\n",
       "       [0., 0., 1.]])"
      ]
     },
     "execution_count": 7,
     "metadata": {},
     "output_type": "execute_result"
    }
   ],
   "source": [
    "y_test"
   ]
  },
  {
   "cell_type": "code",
   "execution_count": 8,
   "metadata": {},
   "outputs": [
    {
     "data": {
      "text/plain": [
       "array([[0., 0., 1.],\n",
       "       [1., 0., 0.],\n",
       "       [1., 0., 0.],\n",
       "       [1., 0., 0.],\n",
       "       [0., 0., 1.],\n",
       "       [1., 0., 0.],\n",
       "       [0., 1., 0.],\n",
       "       [0., 0., 1.],\n",
       "       [0., 1., 0.],\n",
       "       [0., 0., 0.],\n",
       "       [1., 0., 0.],\n",
       "       [0., 0., 1.],\n",
       "       [1., 0., 0.],\n",
       "       [1., 0., 0.],\n",
       "       [0., 0., 1.]], dtype=float32)"
      ]
     },
     "execution_count": 8,
     "metadata": {},
     "output_type": "execute_result"
    }
   ],
   "source": [
    "y_pred = model.predict(X_test)\n",
    "y_pred.round()"
   ]
  },
  {
   "cell_type": "code",
   "execution_count": 9,
   "metadata": {},
   "outputs": [
    {
     "data": {
      "text/plain": [
       "array([[ True,  True,  True],\n",
       "       [ True,  True,  True],\n",
       "       [ True,  True,  True],\n",
       "       [ True,  True,  True],\n",
       "       [ True,  True,  True],\n",
       "       [ True,  True,  True],\n",
       "       [ True,  True,  True],\n",
       "       [ True,  True,  True],\n",
       "       [ True, False, False],\n",
       "       [ True,  True, False],\n",
       "       [ True,  True,  True],\n",
       "       [ True,  True,  True],\n",
       "       [ True,  True,  True],\n",
       "       [ True,  True,  True],\n",
       "       [ True,  True,  True]])"
      ]
     },
     "execution_count": 9,
     "metadata": {},
     "output_type": "execute_result"
    }
   ],
   "source": [
    "acc = y_test == y_pred.round()\n",
    "acc"
   ]
  },
  {
   "cell_type": "code",
   "execution_count": 10,
   "metadata": {},
   "outputs": [
    {
     "data": {
      "text/plain": [
       "0.9333333333333333"
      ]
     },
     "execution_count": 10,
     "metadata": {},
     "output_type": "execute_result"
    }
   ],
   "source": [
    "acc.sum() / acc.size"
   ]
  },
  {
   "cell_type": "markdown",
   "metadata": {},
   "source": [
    "## Model Prediction Results"
   ]
  },
  {
   "cell_type": "code",
   "execution_count": 11,
   "metadata": {},
   "outputs": [
    {
     "name": "stdout",
     "output_type": "stream",
     "text": [
      "15/15 [==============================] - 0s 6ms/step\n",
      "Model Loss: 0.71911895\n",
      "Binary Accuracy: 93.3%\n"
     ]
    }
   ],
   "source": [
    "pred_loss, pred_bin_acc = model.evaluate(X_test, y_test)\n",
    "print('Model Loss: {:0.8f}'.format(pred_loss))\n",
    "print('Binary Accuracy: {:2.1f}%'.format(100*pred_bin_acc))"
   ]
  },
  {
   "cell_type": "code",
   "execution_count": 12,
   "metadata": {},
   "outputs": [
    {
     "data": {
      "text/plain": [
       "['loss', 'binary_accuracy']"
      ]
     },
     "execution_count": 12,
     "metadata": {},
     "output_type": "execute_result"
    }
   ],
   "source": [
    "model.metrics_names"
   ]
  },
  {
   "cell_type": "markdown",
   "metadata": {},
   "source": [
    "## Plot Results"
   ]
  },
  {
   "cell_type": "code",
   "execution_count": 13,
   "metadata": {},
   "outputs": [
    {
     "name": "stderr",
     "output_type": "stream",
     "text": [
      "'c' argument looks like a single numeric RGB or RGBA sequence, which should be avoided as value-mapping will have precedence in case its length matches with 'x' & 'y'.  Please use a 2-D array with a single row if you really want to specify the same RGB or RGBA value for all points.\n"
     ]
    },
    {
     "data": {
      "image/png": "[encoded data removed]",
      "text/plain": [
       "<Figure size 432x288 with 1 Axes>"
      ]
     },
     "metadata": {
      "needs_background": "light"
     },
     "output_type": "display_data"
    }
   ],
   "source": [
    "w = fuzz._get_layer_weights('FuzzyRules')\n",
    "\n",
    "\n",
    "plt.clf()\n",
    "plt.title('Iris')\n",
    "plt.ylabel('x[0]')\n",
    "plt.xlabel('x[1]')\n",
    "plt.scatter([a[0] for a in X_train], [a[1] for a in X_train], c=(0,0,0), alpha=0.5,s=1)\n",
    "for i in range(0,fuzz.neurons):\n",
    "    ellipse = Ellipse((w[0][0][i], w[0][1][i]), w[1][0][i],w[1][1][i], color='r', fill=False)\n",
    "    ax = plt.gca()\n",
    "    ax.add_patch(ellipse)\n",
    "\n",
    "plt.scatter(w[0][0], w[0][1], c=(1,0,0), alpha=0.8,s=15)\n",
    "plt.show()"
   ]
  }
 ],
 "metadata": {
  "kernelspec": {
   "display_name": "Python 3",
   "language": "python",
   "name": "python3"
  },
  "language_info": {
   "codemirror_mode": {
    "name": "ipython",
    "version": 3
   },
   "file_extension": ".py",
   "mimetype": "text/x-python",
   "name": "python",
   "nbconvert_exporter": "python",
   "pygments_lexer": "ipython3",
   "version": "3.6.8"
  }
 },
 "nbformat": 4,
 "nbformat_minor": 1
}
