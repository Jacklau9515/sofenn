{
 "cells": [
  {
   "cell_type": "markdown",
   "metadata": {
    "collapsed": true
   },
   "source": [
    "# Iris Dataset - SOFENN Example"
   ]
  },
  {
   "cell_type": "markdown",
   "metadata": {},
   "source": [
    "Demonstrate multi-class classification with SOFENN on classic Iris Dataset"
   ]
  },
  {
   "cell_type": "code",
   "execution_count": 1,
   "metadata": {},
   "outputs": [
    {
     "name": "stderr",
     "output_type": "stream",
     "text": [
      "Using TensorFlow backend.\n"
     ]
    }
   ],
   "source": [
    "import numpy as np\n",
    "import random as rnd\n",
    "\n",
    "from sklearn import datasets\n",
    "from sklearn.model_selection import train_test_split\n",
    "\n",
    "import matplotlib.pyplot as plt\n",
    "from matplotlib.patches import Ellipse\n",
    "\n",
    "import keras\n",
    "import keras.backend as K\n",
    "\n",
    "from keras.optimizers import SGD\n",
    "from keras.utils import plot_model\n",
    "from keras.models import Sequential, Model\n",
    "from keras.layers import Dense, Dropout, Activation, Input\n",
    "\n",
    "from sofenn.layers.DefuzzyLayer import DefuzzyLayer\n",
    "from sofenn.layers import FuzzyLayer, NormalizedLayer, WeightedLayer, OutputLayer\n",
    "\n",
    "import os\n",
    "\n",
    "os.environ['KMP_DUPLICATE_LIB_OK']='True'"
   ]
  },
  {
   "cell_type": "code",
   "execution_count": 31,
   "metadata": {
    "scrolled": true
   },
   "outputs": [
    {
     "name": "stdout",
     "output_type": "stream",
     "text": [
      "Epoch 1/100\n",
      "135/135 [==============================] - 1s 4ms/step - loss: 0.5858 - binary_accuracy: 0.6667\n",
      "Epoch 2/100\n",
      "135/135 [==============================] - 0s 2ms/step - loss: 0.4765 - binary_accuracy: 0.7975\n",
      "Epoch 3/100\n",
      "135/135 [==============================] - 0s 2ms/step - loss: 0.3929 - binary_accuracy: 0.8494\n",
      "Epoch 4/100\n",
      "135/135 [==============================] - 0s 2ms/step - loss: 0.3408 - binary_accuracy: 0.8494\n",
      "Epoch 5/100\n",
      "135/135 [==============================] - 0s 2ms/step - loss: 0.3101 - binary_accuracy: 0.8469\n",
      "Epoch 6/100\n",
      "135/135 [==============================] - 0s 2ms/step - loss: 0.2886 - binary_accuracy: 0.8568\n",
      "Epoch 7/100\n",
      "135/135 [==============================] - 0s 2ms/step - loss: 0.2709 - binary_accuracy: 0.8568\n",
      "Epoch 8/100\n",
      "135/135 [==============================] - 0s 2ms/step - loss: 0.2530 - binary_accuracy: 0.8593\n",
      "Epoch 9/100\n",
      "135/135 [==============================] - 0s 2ms/step - loss: 0.2407 - binary_accuracy: 0.8716\n",
      "Epoch 10/100\n",
      "135/135 [==============================] - 0s 2ms/step - loss: 0.2259 - binary_accuracy: 0.8765\n",
      "Epoch 11/100\n",
      "135/135 [==============================] - 0s 2ms/step - loss: 0.2151 - binary_accuracy: 0.8790\n",
      "Epoch 12/100\n",
      "135/135 [==============================] - 0s 2ms/step - loss: 0.2039 - binary_accuracy: 0.8815\n",
      "Epoch 13/100\n",
      "135/135 [==============================] - 0s 2ms/step - loss: 0.1906 - binary_accuracy: 0.8840\n",
      "Epoch 14/100\n",
      "135/135 [==============================] - 0s 2ms/step - loss: 0.1827 - binary_accuracy: 0.8840\n",
      "Epoch 15/100\n",
      "135/135 [==============================] - 0s 2ms/step - loss: 0.1760 - binary_accuracy: 0.8864\n",
      "Epoch 16/100\n",
      "135/135 [==============================] - 0s 2ms/step - loss: 0.1673 - binary_accuracy: 0.8840\n",
      "Epoch 17/100\n",
      "135/135 [==============================] - 0s 2ms/step - loss: 0.1596 - binary_accuracy: 0.8938\n",
      "Epoch 18/100\n",
      "135/135 [==============================] - 0s 2ms/step - loss: 0.1509 - binary_accuracy: 0.9556\n",
      "Epoch 19/100\n",
      "135/135 [==============================] - 0s 2ms/step - loss: 0.1451 - binary_accuracy: 0.9778\n",
      "Epoch 20/100\n",
      "135/135 [==============================] - 0s 2ms/step - loss: 0.1395 - binary_accuracy: 0.9778\n",
      "Epoch 21/100\n",
      "135/135 [==============================] - 0s 2ms/step - loss: 0.1325 - binary_accuracy: 0.9827\n",
      "Epoch 22/100\n",
      "135/135 [==============================] - 0s 2ms/step - loss: 0.1259 - binary_accuracy: 0.9827\n",
      "Epoch 23/100\n",
      "135/135 [==============================] - 0s 2ms/step - loss: 0.1203 - binary_accuracy: 0.9827\n",
      "Epoch 24/100\n",
      "135/135 [==============================] - 0s 2ms/step - loss: 0.1153 - binary_accuracy: 0.9827\n",
      "Epoch 25/100\n",
      "135/135 [==============================] - 0s 2ms/step - loss: 0.1101 - binary_accuracy: 0.9852\n",
      "Epoch 26/100\n",
      "135/135 [==============================] - 0s 2ms/step - loss: 0.1050 - binary_accuracy: 0.9802\n",
      "Epoch 27/100\n",
      "135/135 [==============================] - 0s 2ms/step - loss: 0.1023 - binary_accuracy: 0.9778\n",
      "Epoch 28/100\n",
      "135/135 [==============================] - 0s 2ms/step - loss: 0.0968 - binary_accuracy: 0.9827\n",
      "Epoch 29/100\n",
      "135/135 [==============================] - 0s 2ms/step - loss: 0.0931 - binary_accuracy: 0.9802\n",
      "Epoch 30/100\n",
      "135/135 [==============================] - 0s 2ms/step - loss: 0.0894 - binary_accuracy: 0.9753\n",
      "Epoch 31/100\n",
      "135/135 [==============================] - 0s 2ms/step - loss: 0.0869 - binary_accuracy: 0.9802\n",
      "Epoch 32/100\n",
      "135/135 [==============================] - 0s 2ms/step - loss: 0.0827 - binary_accuracy: 0.9753\n",
      "Epoch 33/100\n",
      "135/135 [==============================] - 0s 2ms/step - loss: 0.0793 - binary_accuracy: 0.9802\n",
      "Epoch 34/100\n",
      "135/135 [==============================] - 0s 2ms/step - loss: 0.0771 - binary_accuracy: 0.9778\n",
      "Epoch 35/100\n",
      "135/135 [==============================] - 0s 2ms/step - loss: 0.0749 - binary_accuracy: 0.9753\n",
      "Epoch 36/100\n",
      "135/135 [==============================] - 0s 2ms/step - loss: 0.0723 - binary_accuracy: 0.9778\n",
      "Epoch 37/100\n",
      "135/135 [==============================] - 0s 2ms/step - loss: 0.0698 - binary_accuracy: 0.9753\n",
      "Epoch 38/100\n",
      "135/135 [==============================] - 0s 2ms/step - loss: 0.0667 - binary_accuracy: 0.9802\n",
      "Epoch 39/100\n",
      "135/135 [==============================] - 0s 2ms/step - loss: 0.0647 - binary_accuracy: 0.9802\n",
      "Epoch 40/100\n",
      "135/135 [==============================] - 0s 2ms/step - loss: 0.0631 - binary_accuracy: 0.9753\n",
      "Epoch 41/100\n",
      "135/135 [==============================] - 0s 2ms/step - loss: 0.0587 - binary_accuracy: 0.9753\n",
      "Epoch 42/100\n",
      "135/135 [==============================] - 0s 2ms/step - loss: 0.0600 - binary_accuracy: 0.9753\n",
      "Epoch 43/100\n",
      "135/135 [==============================] - 0s 2ms/step - loss: 0.0568 - binary_accuracy: 0.9753\n",
      "Epoch 44/100\n",
      "135/135 [==============================] - 0s 2ms/step - loss: 0.0567 - binary_accuracy: 0.9802\n",
      "Epoch 45/100\n",
      "135/135 [==============================] - 0s 2ms/step - loss: 0.0533 - binary_accuracy: 0.9802\n",
      "Epoch 46/100\n",
      "135/135 [==============================] - 0s 2ms/step - loss: 0.0547 - binary_accuracy: 0.9802\n",
      "Epoch 47/100\n",
      "135/135 [==============================] - 0s 2ms/step - loss: 0.0528 - binary_accuracy: 0.9852\n",
      "Epoch 48/100\n",
      "135/135 [==============================] - 0s 2ms/step - loss: 0.0514 - binary_accuracy: 0.9901\n",
      "Epoch 49/100\n",
      "135/135 [==============================] - 0s 2ms/step - loss: 0.0500 - binary_accuracy: 0.9852\n",
      "Epoch 50/100\n",
      "135/135 [==============================] - 0s 2ms/step - loss: 0.0487 - binary_accuracy: 0.9852\n",
      "Epoch 51/100\n",
      "135/135 [==============================] - 0s 2ms/step - loss: 0.0479 - binary_accuracy: 0.9901\n",
      "Epoch 52/100\n",
      "135/135 [==============================] - 0s 2ms/step - loss: 0.0471 - binary_accuracy: 0.9901\n",
      "Epoch 53/100\n",
      "135/135 [==============================] - 0s 2ms/step - loss: 0.0462 - binary_accuracy: 0.9901\n",
      "Epoch 54/100\n",
      "135/135 [==============================] - 0s 2ms/step - loss: 0.0447 - binary_accuracy: 0.9901\n",
      "Epoch 55/100\n",
      "135/135 [==============================] - 0s 2ms/step - loss: 0.0448 - binary_accuracy: 0.9901\n",
      "Epoch 56/100\n",
      "135/135 [==============================] - 0s 2ms/step - loss: 0.0441 - binary_accuracy: 0.9901\n",
      "Epoch 57/100\n",
      "135/135 [==============================] - 0s 2ms/step - loss: 0.0424 - binary_accuracy: 0.9901\n",
      "Epoch 58/100\n",
      "135/135 [==============================] - 0s 2ms/step - loss: 0.0417 - binary_accuracy: 0.9901\n",
      "Epoch 59/100\n",
      "135/135 [==============================] - 0s 2ms/step - loss: 0.0423 - binary_accuracy: 0.9852\n",
      "Epoch 60/100\n",
      "135/135 [==============================] - 0s 2ms/step - loss: 0.0416 - binary_accuracy: 0.9852\n",
      "Epoch 61/100\n",
      "135/135 [==============================] - 0s 2ms/step - loss: 0.0404 - binary_accuracy: 0.9901\n",
      "Epoch 62/100\n",
      "135/135 [==============================] - 0s 2ms/step - loss: 0.0389 - binary_accuracy: 0.9852\n",
      "Epoch 63/100\n",
      "135/135 [==============================] - 0s 2ms/step - loss: 0.0403 - binary_accuracy: 0.9901\n",
      "Epoch 64/100\n",
      "135/135 [==============================] - 0s 2ms/step - loss: 0.0373 - binary_accuracy: 0.9901\n",
      "Epoch 65/100\n",
      "135/135 [==============================] - ETA: 0s - loss: 0.0299 - binary_accuracy: 0.994 - 0s 2ms/step - loss: 0.0365 - binary_accuracy: 0.9901\n",
      "Epoch 66/100\n",
      "135/135 [==============================] - 0s 2ms/step - loss: 0.0367 - binary_accuracy: 0.9901\n",
      "Epoch 67/100\n",
      "135/135 [==============================] - 0s 2ms/step - loss: 0.0356 - binary_accuracy: 0.9901\n",
      "Epoch 68/100\n",
      "135/135 [==============================] - 0s 2ms/step - loss: 0.0364 - binary_accuracy: 0.9852\n",
      "Epoch 69/100\n",
      "135/135 [==============================] - 0s 2ms/step - loss: 0.0350 - binary_accuracy: 0.9901\n",
      "Epoch 70/100\n",
      "135/135 [==============================] - 0s 2ms/step - loss: 0.0342 - binary_accuracy: 0.9901\n",
      "Epoch 71/100\n",
      "135/135 [==============================] - 0s 2ms/step - loss: 0.0343 - binary_accuracy: 0.9901\n",
      "Epoch 72/100\n",
      "135/135 [==============================] - 0s 2ms/step - loss: 0.0336 - binary_accuracy: 0.9901\n",
      "Epoch 73/100\n",
      "135/135 [==============================] - 0s 2ms/step - loss: 0.0345 - binary_accuracy: 0.9901\n",
      "Epoch 74/100\n",
      "135/135 [==============================] - 0s 2ms/step - loss: 0.0324 - binary_accuracy: 0.9901\n",
      "Epoch 75/100\n"
     ]
    },
    {
     "name": "stdout",
     "output_type": "stream",
     "text": [
      "135/135 [==============================] - 0s 2ms/step - loss: 0.0325 - binary_accuracy: 0.9901\n",
      "Epoch 76/100\n",
      "135/135 [==============================] - 0s 2ms/step - loss: 0.0315 - binary_accuracy: 0.9901\n",
      "Epoch 77/100\n",
      "135/135 [==============================] - 0s 2ms/step - loss: 0.0329 - binary_accuracy: 0.9852\n",
      "Epoch 78/100\n",
      "135/135 [==============================] - 0s 2ms/step - loss: 0.0324 - binary_accuracy: 0.9901\n",
      "Epoch 79/100\n",
      "135/135 [==============================] - 0s 2ms/step - loss: 0.0314 - binary_accuracy: 0.9901\n",
      "Epoch 80/100\n",
      "135/135 [==============================] - 0s 2ms/step - loss: 0.0314 - binary_accuracy: 0.9901\n",
      "Epoch 81/100\n",
      "135/135 [==============================] - 0s 2ms/step - loss: 0.0303 - binary_accuracy: 0.9901\n",
      "Epoch 82/100\n",
      "135/135 [==============================] - 0s 2ms/step - loss: 0.0298 - binary_accuracy: 0.9901\n",
      "Epoch 83/100\n",
      "135/135 [==============================] - 0s 2ms/step - loss: 0.0300 - binary_accuracy: 0.9901\n",
      "Epoch 84/100\n",
      "135/135 [==============================] - 0s 2ms/step - loss: 0.0299 - binary_accuracy: 0.9901\n",
      "Epoch 85/100\n",
      "135/135 [==============================] - 0s 2ms/step - loss: 0.0302 - binary_accuracy: 0.9901\n",
      "Epoch 86/100\n",
      "135/135 [==============================] - 0s 2ms/step - loss: 0.0294 - binary_accuracy: 0.9901\n",
      "Epoch 87/100\n",
      "135/135 [==============================] - 0s 2ms/step - loss: 0.0290 - binary_accuracy: 0.9901\n",
      "Epoch 88/100\n",
      "135/135 [==============================] - 0s 2ms/step - loss: 0.0296 - binary_accuracy: 0.9852\n",
      "Epoch 89/100\n",
      "135/135 [==============================] - 0s 2ms/step - loss: 0.0295 - binary_accuracy: 0.9901\n",
      "Epoch 90/100\n",
      "135/135 [==============================] - 0s 2ms/step - loss: 0.0292 - binary_accuracy: 0.9852\n",
      "Epoch 91/100\n",
      "135/135 [==============================] - 0s 2ms/step - loss: 0.0281 - binary_accuracy: 0.9901\n",
      "Epoch 92/100\n",
      "135/135 [==============================] - 0s 2ms/step - loss: 0.0293 - binary_accuracy: 0.9901\n",
      "Epoch 93/100\n",
      "135/135 [==============================] - 0s 2ms/step - loss: 0.0286 - binary_accuracy: 0.9901\n",
      "Epoch 94/100\n",
      "135/135 [==============================] - 0s 2ms/step - loss: 0.0317 - binary_accuracy: 0.9852\n",
      "Epoch 95/100\n",
      "135/135 [==============================] - 0s 2ms/step - loss: 0.0276 - binary_accuracy: 0.9901\n",
      "Epoch 96/100\n",
      "135/135 [==============================] - 0s 2ms/step - loss: 0.0279 - binary_accuracy: 0.9901\n",
      "Epoch 97/100\n",
      "135/135 [==============================] - 0s 2ms/step - loss: 0.0282 - binary_accuracy: 0.9901\n",
      "Epoch 98/100\n",
      "135/135 [==============================] - 0s 2ms/step - loss: 0.0277 - binary_accuracy: 0.9901\n",
      "Epoch 99/100\n",
      "135/135 [==============================] - 0s 2ms/step - loss: 0.0269 - binary_accuracy: 0.9901\n",
      "Epoch 100/100\n",
      "135/135 [==============================] - 0s 2ms/step - loss: 0.0272 - binary_accuracy: 0.9901\n"
     ]
    },
    {
     "data": {
      "text/plain": [
       "<keras.callbacks.History at 0x21fd85e92b0>"
      ]
     },
     "execution_count": 31,
     "metadata": {},
     "output_type": "execute_result"
    }
   ],
   "source": [
    "# custom loss function\n",
    "def loss_function(y_true, y_pred):\n",
    "    \"\"\"\n",
    "    Custom loss function\n",
    "\n",
    "    E = exp{-sum[i=1,j; 1/2 * [pred(j) - test(j)]^2]}\n",
    "\n",
    "    Parameters\n",
    "    ==========\n",
    "    y_true : np.array\n",
    "        - true values\n",
    "    y_pred : np.array\n",
    "        - predicted values\n",
    "    \"\"\"\n",
    "    return K.sum(1 / 2 * K.square(y_pred - y_true))\n",
    "\n",
    "# read in iris dataset\n",
    "iris = datasets.load_iris()\n",
    "# create one-hot encoded vector for each class\n",
    "Y=[]\n",
    "for y in iris.target:\n",
    "    tmp = np.zeros(3)\n",
    "    tmp[y] = 1\n",
    "    Y.append(tmp)\n",
    "Y = np.array(Y)\n",
    "    \n",
    "# split to train/test\n",
    "X_train, X_test, y_train, y_test = train_test_split(iris.data, Y, test_size=0.1)\n",
    "\n",
    "# set neurons\n",
    "neurons = 8\n",
    "\n",
    "# get random indexes for initial centers\n",
    "indices = rnd.sample(range(len(X_train)), neurons)\n",
    "\n",
    "# dataset info\n",
    "samples, feats = X_train.shape\n",
    "\n",
    "# create model layers\n",
    "inputs = Input(name='Inputs', shape=(feats,))\n",
    "fuzz = FuzzyLayer(neurons, input_dim=feats,\n",
    "                  initializer_centers=\n",
    "                  lambda x: np.transpose(np.array([X_train[i] for i in indices])))\n",
    "#defuzz = DefuzzyLayer(5, input_dim=neurons)\n",
    "norm = NormalizedLayer(neurons)\n",
    "weights = WeightedLayer(neurons)\n",
    "raw = OutputLayer()\n",
    "pred = Dense(3, activation='softmax')\n",
    "\n",
    "# run through layers\n",
    "phi = fuzz(inputs)\n",
    "psi = norm(phi)\n",
    "f = weights([inputs, psi])\n",
    "out = raw(f)\n",
    "output = pred(out)\n",
    "\n",
    "# define model\n",
    "model = Model(inputs=inputs, outputs=output)\n",
    "\n",
    "# loss = 'mean_squared_error'\n",
    "loss = loss_function\n",
    "optimizer = 'adam'\n",
    "metrics = ['binary_accuracy']\n",
    "\n",
    "model.compile(loss=loss,\n",
    "              optimizer=optimizer,\n",
    "              metrics=metrics)\n",
    "\n",
    "model.fit(np.array(X_train),\n",
    "          np.array(y_train),\n",
    "          epochs=100,\n",
    "          verbose=1,\n",
    "          batch_size=2)"
   ]
  },
  {
   "cell_type": "code",
   "execution_count": 32,
   "metadata": {},
   "outputs": [
    {
     "data": {
      "text/plain": [
       "[]"
      ]
     },
     "execution_count": 32,
     "metadata": {},
     "output_type": "execute_result"
    }
   ],
   "source": [
    "raw.get_weights()"
   ]
  },
  {
   "cell_type": "code",
   "execution_count": 33,
   "metadata": {},
   "outputs": [
    {
     "data": {
      "text/plain": [
       "array([[4.4, 3.2, 1.3, 0.2],\n",
       "       [6. , 2.2, 5. , 1.5],\n",
       "       [5. , 2. , 3.5, 1. ],\n",
       "       [6.7, 3.1, 4.4, 1.4],\n",
       "       [6.7, 2.5, 5.8, 1.8],\n",
       "       [6.1, 3. , 4.9, 1.8],\n",
       "       [6.6, 2.9, 4.6, 1.3],\n",
       "       [6.2, 2.2, 4.5, 1.5],\n",
       "       [5.8, 2.7, 4.1, 1. ],\n",
       "       [5.1, 3.8, 1.6, 0.2],\n",
       "       [6.3, 3.3, 6. , 2.5],\n",
       "       [6.1, 3. , 4.6, 1.4],\n",
       "       [5.9, 3. , 5.1, 1.8],\n",
       "       [5.5, 2.4, 3.7, 1. ],\n",
       "       [5.8, 4. , 1.2, 0.2]])"
      ]
     },
     "execution_count": 33,
     "metadata": {},
     "output_type": "execute_result"
    }
   ],
   "source": [
    "X_test"
   ]
  },
  {
   "cell_type": "code",
   "execution_count": 34,
   "metadata": {},
   "outputs": [
    {
     "data": {
      "text/plain": [
       "array([[1., 0., 0.],\n",
       "       [0., 0., 1.],\n",
       "       [0., 1., 0.],\n",
       "       [0., 1., 0.],\n",
       "       [0., 0., 1.],\n",
       "       [0., 0., 1.],\n",
       "       [0., 1., 0.],\n",
       "       [0., 1., 0.],\n",
       "       [0., 1., 0.],\n",
       "       [1., 0., 0.],\n",
       "       [0., 0., 1.],\n",
       "       [0., 1., 0.],\n",
       "       [0., 0., 1.],\n",
       "       [0., 1., 0.],\n",
       "       [1., 0., 0.]])"
      ]
     },
     "execution_count": 34,
     "metadata": {},
     "output_type": "execute_result"
    }
   ],
   "source": [
    "y_test"
   ]
  },
  {
   "cell_type": "code",
   "execution_count": 38,
   "metadata": {},
   "outputs": [
    {
     "data": {
      "text/plain": [
       "array([[1., 0., 0.],\n",
       "       [0., 1., 0.],\n",
       "       [0., 1., 0.],\n",
       "       [0., 1., 0.],\n",
       "       [0., 0., 1.],\n",
       "       [0., 0., 1.],\n",
       "       [0., 1., 0.],\n",
       "       [0., 1., 0.],\n",
       "       [0., 1., 0.],\n",
       "       [1., 0., 0.],\n",
       "       [0., 0., 1.],\n",
       "       [0., 1., 0.],\n",
       "       [0., 0., 1.],\n",
       "       [0., 1., 0.],\n",
       "       [1., 0., 0.]], dtype=float32)"
      ]
     },
     "execution_count": 38,
     "metadata": {},
     "output_type": "execute_result"
    }
   ],
   "source": [
    "y_pred = model.predict(X_test)\n",
    "y_pred.round()"
   ]
  },
  {
   "cell_type": "code",
   "execution_count": 48,
   "metadata": {},
   "outputs": [
    {
     "data": {
      "text/plain": [
       "array([[ True,  True,  True],\n",
       "       [ True, False, False],\n",
       "       [ True,  True,  True],\n",
       "       [ True,  True,  True],\n",
       "       [ True,  True,  True],\n",
       "       [ True,  True,  True],\n",
       "       [ True,  True,  True],\n",
       "       [ True,  True,  True],\n",
       "       [ True,  True,  True],\n",
       "       [ True,  True,  True],\n",
       "       [ True,  True,  True],\n",
       "       [ True,  True,  True],\n",
       "       [ True,  True,  True],\n",
       "       [ True,  True,  True],\n",
       "       [ True,  True,  True]])"
      ]
     },
     "execution_count": 48,
     "metadata": {},
     "output_type": "execute_result"
    }
   ],
   "source": [
    "acc = y_test == y_pred.round()\n",
    "acc"
   ]
  },
  {
   "cell_type": "code",
   "execution_count": 50,
   "metadata": {},
   "outputs": [
    {
     "data": {
      "text/plain": [
       "0.9555555555555556"
      ]
     },
     "execution_count": 50,
     "metadata": {},
     "output_type": "execute_result"
    }
   ],
   "source": [
    "acc.sum() / acc.size"
   ]
  },
  {
   "cell_type": "markdown",
   "metadata": {},
   "source": [
    "## Model Prediction Results"
   ]
  },
  {
   "cell_type": "code",
   "execution_count": 40,
   "metadata": {},
   "outputs": [
    {
     "name": "stdout",
     "output_type": "stream",
     "text": [
      "15/15 [==============================] - 0s 7ms/step\n",
      "Model Loss:  0.48733985\n",
      "Binary Accuracy: 95.6%\n"
     ]
    }
   ],
   "source": [
    "pred_loss, pred_bin_acc = model.evaluate(X_test, y_test)\n",
    "print('Model Loss:  {:0.8f}'.format(pred_loss))\n",
    "print('Binary Accuracy: {:2.1f}%'.format(100*pred_bin_acc))"
   ]
  },
  {
   "cell_type": "code",
   "execution_count": 41,
   "metadata": {},
   "outputs": [
    {
     "data": {
      "text/plain": [
       "['loss', 'binary_accuracy']"
      ]
     },
     "execution_count": 41,
     "metadata": {},
     "output_type": "execute_result"
    }
   ],
   "source": [
    "model.metrics_names"
   ]
  },
  {
   "cell_type": "markdown",
   "metadata": {},
   "source": [
    "## Plot Results"
   ]
  },
  {
   "cell_type": "code",
   "execution_count": 51,
   "metadata": {},
   "outputs": [
    {
     "name": "stderr",
     "output_type": "stream",
     "text": [
      "'c' argument looks like a single numeric RGB or RGBA sequence, which should be avoided as value-mapping will have precedence in case its length matches with 'x' & 'y'.  Please use a 2-D array with a single row if you really want to specify the same RGB or RGBA value for all points.\n",
      "'c' argument looks like a single numeric RGB or RGBA sequence, which should be avoided as value-mapping will have precedence in case its length matches with 'x' & 'y'.  Please use a 2-D array with a single row if you really want to specify the same RGB or RGBA value for all points.\n"
     ]
    },
    {
     "data": {
      "image/png": "[encoded data removed]",
      "text/plain": [
       "<Figure size 432x288 with 1 Axes>"
      ]
     },
     "metadata": {
      "needs_background": "light"
     },
     "output_type": "display_data"
    }
   ],
   "source": [
    "w = fuzz.get_weights()\n",
    "\n",
    "\n",
    "plt.clf()\n",
    "plt.title('Iris')\n",
    "plt.ylabel('x[0]')\n",
    "plt.xlabel('x[1]')\n",
    "plt.scatter([a[0] for a in X_train], [a[1] for a in X_train], c=(0,0,0), alpha=0.5,s=1)\n",
    "for i in range(0,neurons):\n",
    "    ellipse = Ellipse((w[0][0][i], w[0][1][i]), w[1][0][i],w[1][1][i], color='r', fill=False)\n",
    "    ax = plt.gca()\n",
    "    ax.add_patch(ellipse)\n",
    "\n",
    "plt.scatter(w[0][0], w[0][1], c=(1,0,0), alpha=0.8,s=15)\n",
    "plt.show()"
   ]
  },
  {
   "cell_type": "code",
   "execution_count": null,
   "metadata": {},
   "outputs": [],
   "source": []
  },
  {
   "cell_type": "code",
   "execution_count": null,
   "metadata": {},
   "outputs": [],
   "source": []
  },
  {
   "cell_type": "code",
   "execution_count": null,
   "metadata": {},
   "outputs": [],
   "source": []
  },
  {
   "cell_type": "code",
   "execution_count": null,
   "metadata": {},
   "outputs": [],
   "source": []
  },
  {
   "cell_type": "code",
   "execution_count": null,
   "metadata": {},
   "outputs": [],
   "source": []
  },
  {
   "cell_type": "code",
   "execution_count": null,
   "metadata": {},
   "outputs": [],
   "source": []
  },
  {
   "cell_type": "code",
   "execution_count": null,
   "metadata": {},
   "outputs": [],
   "source": []
  },
  {
   "cell_type": "code",
   "execution_count": null,
   "metadata": {},
   "outputs": [],
   "source": [
    "import keras\n",
    "from sofenn.layers import FuzzyLayer\n",
    "from sofenn.layers.DefuzzyLayer import DefuzzyLayer\n",
    "from keras.models import Sequential\n",
    "from keras.layers import Dense, Dropout, Activation\n",
    "from keras.optimizers import SGD\n",
    "\n",
    "# Generate dummy data\n",
    "import numpy as np\n",
    "\n",
    "x_train = np.random.normal(5, 1, size=(100, 2))\n",
    "y_train = np.random.normal(5, 15, size=(100, 4))\n",
    "\n",
    "model = Sequential()\n",
    "model.add(Dense(2, activation='sigmoid'))\n",
    "model.add(FuzzyLayer(8))\n",
    "model.add(Dense(8, activation='sigmoid'))\n",
    "model.add(DefuzzyLayer(4))\n",
    "\n",
    "model.compile(loss='logcosh',\n",
    "              optimizer='rmsprop',\n",
    "              metrics=['mae', 'acc'])\n",
    "\n",
    "model.fit(x_train, y_train,\n",
    "          epochs=10000,\n",
    "          verbose=1,\n",
    "          batch_size=100)\n",
    "\n",
    "print(model.predict( np.array([[5, 5]])))\n",
    "print(model.predict( np.array([[5, 15]])))\n",
    "print(model.predict( np.array([[15, 5]])))\n",
    "print(model.predict( np.array([[15, 15]])))"
   ]
  }
 ],
 "metadata": {
  "kernelspec": {
   "display_name": "Python 3",
   "language": "python",
   "name": "python3"
  }
 },
 "nbformat": 4,
 "nbformat_minor": 1
}
