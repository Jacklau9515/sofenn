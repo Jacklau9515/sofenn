{
 "cells": [
  {
   "cell_type": "markdown",
   "metadata": {
    "collapsed": true
   },
   "source": [
    "# Iris Dataset - SOFENN Example"
   ]
  },
  {
   "cell_type": "markdown",
   "metadata": {},
   "source": [
    "Demonstrate multi-class classification with SOFENN on classic Iris Dataset"
   ]
  },
  {
   "cell_type": "code",
   "execution_count": 1,
   "metadata": {},
   "outputs": [
    {
     "name": "stderr",
     "output_type": "stream",
     "text": [
      "Using TensorFlow backend.\n"
     ]
    }
   ],
   "source": [
    "import numpy as np\n",
    "import random as rnd\n",
    "\n",
    "from sklearn import datasets\n",
    "from sklearn.model_selection import train_test_split\n",
    "\n",
    "import matplotlib.pyplot as plt\n",
    "from matplotlib.patches import Ellipse\n",
    "\n",
    "import keras\n",
    "import keras.backend as K\n",
    "\n",
    "from keras.optimizers import SGD\n",
    "from keras.utils import plot_model\n",
    "from keras.models import Sequential, Model\n",
    "from keras.layers import Dense, Dropout, Activation, Input\n",
    "\n",
    "from sofenn.FuzzyNetwork import FuzzyNetwork\n",
    "#from sofenn.layers.DefuzzyLayer import DefuzzyLayer\n",
    "from sofenn.layers import FuzzyLayer, NormalizedLayer, WeightedLayer, OutputLayer\n",
    "\n",
    "import os\n",
    "\n",
    "os.environ['KMP_DUPLICATE_LIB_OK']='True'"
   ]
  },
  {
   "cell_type": "markdown",
   "metadata": {},
   "source": [
    "## Read in and prep Iris Dataset"
   ]
  },
  {
   "cell_type": "code",
   "execution_count": 2,
   "metadata": {
    "scrolled": true
   },
   "outputs": [],
   "source": [
    "# read in iris dataset\n",
    "iris = datasets.load_iris()\n",
    "# create one-hot encoded vector for each class\n",
    "Y = []\n",
    "for y in iris.target:\n",
    "    tmp = np.zeros(3)\n",
    "    tmp[y] = 1\n",
    "    Y.append(tmp)\n",
    "Y = np.array(Y)\n",
    "    \n",
    "# split to train/test\n",
    "X_train, X_test, y_train, y_test = train_test_split(iris.data, Y, test_size=0.1)"
   ]
  },
  {
   "cell_type": "code",
   "execution_count": 3,
   "metadata": {
    "scrolled": true
   },
   "outputs": [
    {
     "name": "stdout",
     "output_type": "stream",
     "text": [
      "Building Fuzzy Network with 3 neurons...\n",
      "WARNING:tensorflow:From /miniconda3/envs/sofenn/lib/python3.6/site-packages/tensorflow/python/framework/op_def_library.py:263: colocate_with (from tensorflow.python.framework.ops) is deprecated and will be removed in a future version.\n",
      "Instructions for updating:\n",
      "Colocations handled automatically by placer.\n",
      "...Model successfully built!\n"
     ]
    }
   ],
   "source": [
    "fuzz = FuzzyNetwork(\n",
    "            X_train, X_test, y_train, y_test,           # data attributes\n",
    "            neurons=3, max_neurons=100,                 # initialization parameters\n",
    "            eval_thresh=0.5, ifpart_thresh=0.1354       # evaluation and ifpart threshold\n",
    "            )"
   ]
  },
  {
   "cell_type": "code",
   "execution_count": 4,
   "metadata": {},
   "outputs": [
    {
     "name": "stdout",
     "output_type": "stream",
     "text": [
      "__________________________________________________________________________________________________\n",
      "Layer (type)                    Output Shape         Param #     Connected to                     \n",
      "==================================================================================================\n",
      "Inputs (InputLayer)             (None, 4)            0                                            \n",
      "__________________________________________________________________________________________________\n",
      "FuzzyRules (FuzzyLayer)         (None, 3)            24          Inputs[0][0]                     \n",
      "__________________________________________________________________________________________________\n",
      "Normalization (NormalizedLayer) (None, 3)            0           FuzzyRules[0][0]                 \n",
      "__________________________________________________________________________________________________\n",
      "Weights (WeightedLayer)         (None, 3)            15          Inputs[0][0]                     \n",
      "                                                                 Normalization[0][0]              \n",
      "__________________________________________________________________________________________________\n",
      "RawOutput (OutputLayer)         (None, 1)            0           Weights[0][0]                    \n",
      "__________________________________________________________________________________________________\n",
      "Softmax (Dense)                 (None, 3)            6           RawOutput[0][0]                  \n",
      "==================================================================================================\n",
      "Total params: 45\n",
      "Trainable params: 45\n",
      "Non-trainable params: 0\n",
      "__________________________________________________________________________________________________\n",
      "None\n"
     ]
    }
   ],
   "source": [
    "fuzz.compile_model()"
   ]
  },
  {
   "cell_type": "code",
   "execution_count": 5,
   "metadata": {},
   "outputs": [
    {
     "name": "stdout",
     "output_type": "stream",
     "text": [
      "Training model...\n",
      "WARNING:tensorflow:From /miniconda3/envs/sofenn/lib/python3.6/site-packages/tensorflow/python/ops/math_ops.py:3066: to_int32 (from tensorflow.python.ops.math_ops) is deprecated and will be removed in a future version.\n",
      "Instructions for updating:\n",
      "Use tf.cast instead.\n",
      "Epoch 1/150\n",
      "135/135 [==============================] - 1s 6ms/step - loss: 10.2425 - binary_accuracy: 0.6667\n",
      "Epoch 2/150\n",
      "135/135 [==============================] - 0s 96us/step - loss: 10.2381 - binary_accuracy: 0.6667\n",
      "Epoch 3/150\n",
      "135/135 [==============================] - 0s 90us/step - loss: 10.2342 - binary_accuracy: 0.6667\n",
      "Epoch 4/150\n",
      "135/135 [==============================] - 0s 86us/step - loss: 10.2291 - binary_accuracy: 0.6667\n",
      "Epoch 5/150\n",
      "135/135 [==============================] - 0s 88us/step - loss: 10.2264 - binary_accuracy: 0.6667\n",
      "Epoch 6/150\n",
      "135/135 [==============================] - 0s 89us/step - loss: 10.2160 - binary_accuracy: 0.6667\n",
      "Epoch 7/150\n",
      "135/135 [==============================] - 0s 87us/step - loss: 10.2151 - binary_accuracy: 0.6667\n",
      "Epoch 8/150\n",
      "135/135 [==============================] - 0s 84us/step - loss: 10.2126 - binary_accuracy: 0.6667\n",
      "Epoch 9/150\n",
      "135/135 [==============================] - 0s 91us/step - loss: 10.2106 - binary_accuracy: 0.6667\n",
      "Epoch 10/150\n",
      "135/135 [==============================] - 0s 86us/step - loss: 10.2077 - binary_accuracy: 0.6667\n",
      "Epoch 11/150\n",
      "135/135 [==============================] - 0s 88us/step - loss: 10.1974 - binary_accuracy: 0.6667\n",
      "Epoch 12/150\n",
      "135/135 [==============================] - 0s 85us/step - loss: 10.1989 - binary_accuracy: 0.6667\n",
      "Epoch 13/150\n",
      "135/135 [==============================] - 0s 86us/step - loss: 10.1961 - binary_accuracy: 0.6667\n",
      "Epoch 14/150\n",
      "135/135 [==============================] - 0s 88us/step - loss: 10.1895 - binary_accuracy: 0.6667\n",
      "Epoch 15/150\n",
      "135/135 [==============================] - 0s 112us/step - loss: 10.1867 - binary_accuracy: 0.6667\n",
      "Epoch 16/150\n",
      "135/135 [==============================] - 0s 90us/step - loss: 10.1801 - binary_accuracy: 0.6667\n",
      "Epoch 17/150\n",
      "135/135 [==============================] - 0s 99us/step - loss: 10.1741 - binary_accuracy: 0.6667\n",
      "Epoch 18/150\n",
      "135/135 [==============================] - 0s 98us/step - loss: 10.1753 - binary_accuracy: 0.6667\n",
      "Epoch 19/150\n",
      "135/135 [==============================] - 0s 92us/step - loss: 10.1632 - binary_accuracy: 0.6667\n",
      "Epoch 20/150\n",
      "135/135 [==============================] - 0s 88us/step - loss: 10.1507 - binary_accuracy: 0.6667\n",
      "Epoch 21/150\n",
      "135/135 [==============================] - 0s 84us/step - loss: 10.1330 - binary_accuracy: 0.6667\n",
      "Epoch 22/150\n",
      "135/135 [==============================] - 0s 89us/step - loss: 10.1178 - binary_accuracy: 0.6667\n",
      "Epoch 23/150\n",
      "135/135 [==============================] - 0s 84us/step - loss: 10.1036 - binary_accuracy: 0.6667\n",
      "Epoch 24/150\n",
      "135/135 [==============================] - 0s 86us/step - loss: 10.0804 - binary_accuracy: 0.6667\n",
      "Epoch 25/150\n",
      "135/135 [==============================] - 0s 84us/step - loss: 10.0462 - binary_accuracy: 0.6667\n",
      "Epoch 26/150\n",
      "135/135 [==============================] - 0s 89us/step - loss: 10.0326 - binary_accuracy: 0.6667\n",
      "Epoch 27/150\n",
      "135/135 [==============================] - 0s 84us/step - loss: 9.9973 - binary_accuracy: 0.6667\n",
      "Epoch 28/150\n",
      "135/135 [==============================] - 0s 85us/step - loss: 9.9691 - binary_accuracy: 0.6667\n",
      "Epoch 29/150\n",
      "135/135 [==============================] - 0s 84us/step - loss: 9.9131 - binary_accuracy: 0.6667\n",
      "Epoch 30/150\n",
      "135/135 [==============================] - 0s 89us/step - loss: 9.8699 - binary_accuracy: 0.6667\n",
      "Epoch 31/150\n",
      "135/135 [==============================] - 0s 84us/step - loss: 9.8349 - binary_accuracy: 0.6667\n",
      "Epoch 32/150\n",
      "135/135 [==============================] - 0s 85us/step - loss: 9.7850 - binary_accuracy: 0.6667\n",
      "Epoch 33/150\n",
      "135/135 [==============================] - 0s 86us/step - loss: 9.7261 - binary_accuracy: 0.6667\n",
      "Epoch 34/150\n",
      "135/135 [==============================] - 0s 91us/step - loss: 9.6668 - binary_accuracy: 0.6667\n",
      "Epoch 35/150\n",
      "135/135 [==============================] - 0s 92us/step - loss: 9.6218 - binary_accuracy: 0.6667\n",
      "Epoch 36/150\n",
      "135/135 [==============================] - 0s 101us/step - loss: 9.5494 - binary_accuracy: 0.6667\n",
      "Epoch 37/150\n",
      "135/135 [==============================] - 0s 92us/step - loss: 9.4957 - binary_accuracy: 0.6667\n",
      "Epoch 38/150\n",
      "135/135 [==============================] - 0s 84us/step - loss: 9.4052 - binary_accuracy: 0.6667\n",
      "Epoch 39/150\n",
      "135/135 [==============================] - 0s 86us/step - loss: 9.3580 - binary_accuracy: 0.6667\n",
      "Epoch 40/150\n",
      "135/135 [==============================] - 0s 87us/step - loss: 9.2801 - binary_accuracy: 0.6667\n",
      "Epoch 41/150\n",
      "135/135 [==============================] - 0s 88us/step - loss: 9.1960 - binary_accuracy: 0.6667\n",
      "Epoch 42/150\n",
      "135/135 [==============================] - 0s 88us/step - loss: 9.1087 - binary_accuracy: 0.6667\n",
      "Epoch 43/150\n",
      "135/135 [==============================] - 0s 86us/step - loss: 9.0374 - binary_accuracy: 0.6667\n",
      "Epoch 44/150\n",
      "135/135 [==============================] - 0s 84us/step - loss: 8.9668 - binary_accuracy: 0.6667\n",
      "Epoch 45/150\n",
      "135/135 [==============================] - 0s 88us/step - loss: 8.8409 - binary_accuracy: 0.6667\n",
      "Epoch 46/150\n",
      "135/135 [==============================] - 0s 92us/step - loss: 8.7655 - binary_accuracy: 0.6691\n",
      "Epoch 47/150\n",
      "135/135 [==============================] - 0s 91us/step - loss: 8.6897 - binary_accuracy: 0.6790\n",
      "Epoch 48/150\n",
      "135/135 [==============================] - 0s 86us/step - loss: 8.5857 - binary_accuracy: 0.6988\n",
      "Epoch 49/150\n",
      "135/135 [==============================] - 0s 88us/step - loss: 8.5082 - binary_accuracy: 0.7358\n",
      "Epoch 50/150\n",
      "135/135 [==============================] - 0s 86us/step - loss: 8.3443 - binary_accuracy: 0.7630\n",
      "Epoch 51/150\n",
      "135/135 [==============================] - 0s 87us/step - loss: 8.2959 - binary_accuracy: 0.7802\n",
      "Epoch 52/150\n",
      "135/135 [==============================] - 0s 101us/step - loss: 8.1126 - binary_accuracy: 0.7852\n",
      "Epoch 53/150\n",
      "135/135 [==============================] - 0s 87us/step - loss: 8.1156 - binary_accuracy: 0.7827\n",
      "Epoch 54/150\n",
      "135/135 [==============================] - 0s 106us/step - loss: 7.9224 - binary_accuracy: 0.7827\n",
      "Epoch 55/150\n",
      "135/135 [==============================] - 0s 88us/step - loss: 7.8863 - binary_accuracy: 0.7827\n",
      "Epoch 56/150\n",
      "135/135 [==============================] - 0s 87us/step - loss: 7.8029 - binary_accuracy: 0.7827\n",
      "Epoch 57/150\n",
      "135/135 [==============================] - 0s 90us/step - loss: 7.7446 - binary_accuracy: 0.7827\n",
      "Epoch 58/150\n",
      "135/135 [==============================] - 0s 88us/step - loss: 7.5664 - binary_accuracy: 0.7827\n",
      "Epoch 59/150\n",
      "135/135 [==============================] - 0s 83us/step - loss: 7.5860 - binary_accuracy: 0.7802\n",
      "Epoch 60/150\n",
      "135/135 [==============================] - 0s 90us/step - loss: 7.3369 - binary_accuracy: 0.7802\n",
      "Epoch 61/150\n",
      "135/135 [==============================] - 0s 94us/step - loss: 7.2297 - binary_accuracy: 0.7802\n",
      "Epoch 62/150\n",
      "135/135 [==============================] - 0s 101us/step - loss: 7.1730 - binary_accuracy: 0.7802\n",
      "Epoch 63/150\n",
      "135/135 [==============================] - 0s 159us/step - loss: 7.1158 - binary_accuracy: 0.7802\n",
      "Epoch 64/150\n",
      "135/135 [==============================] - 0s 120us/step - loss: 6.9830 - binary_accuracy: 0.7802\n",
      "Epoch 65/150\n",
      "135/135 [==============================] - 0s 92us/step - loss: 6.9228 - binary_accuracy: 0.7827\n",
      "Epoch 66/150\n",
      "135/135 [==============================] - 0s 90us/step - loss: 6.7723 - binary_accuracy: 0.7827\n",
      "Epoch 67/150\n",
      "135/135 [==============================] - 0s 90us/step - loss: 6.7283 - binary_accuracy: 0.7827\n",
      "Epoch 68/150\n",
      "135/135 [==============================] - 0s 87us/step - loss: 6.6748 - binary_accuracy: 0.7827\n",
      "Epoch 69/150\n",
      "135/135 [==============================] - 0s 88us/step - loss: 6.4991 - binary_accuracy: 0.7852\n",
      "Epoch 70/150\n",
      "135/135 [==============================] - 0s 88us/step - loss: 6.4751 - binary_accuracy: 0.7852\n",
      "Epoch 71/150\n",
      "135/135 [==============================] - 0s 90us/step - loss: 6.2639 - binary_accuracy: 0.7852\n",
      "Epoch 72/150\n"
     ]
    },
    {
     "name": "stdout",
     "output_type": "stream",
     "text": [
      "135/135 [==============================] - 0s 88us/step - loss: 6.2541 - binary_accuracy: 0.7852\n",
      "Epoch 73/150\n",
      "135/135 [==============================] - 0s 92us/step - loss: 6.0583 - binary_accuracy: 0.7852\n",
      "Epoch 74/150\n",
      "135/135 [==============================] - 0s 87us/step - loss: 6.0292 - binary_accuracy: 0.7852\n",
      "Epoch 75/150\n",
      "135/135 [==============================] - 0s 85us/step - loss: 6.0035 - binary_accuracy: 0.7926\n",
      "Epoch 76/150\n",
      "135/135 [==============================] - 0s 86us/step - loss: 5.8729 - binary_accuracy: 0.7975\n",
      "Epoch 77/150\n",
      "135/135 [==============================] - 0s 86us/step - loss: 5.8461 - binary_accuracy: 0.8198\n",
      "Epoch 78/150\n",
      "135/135 [==============================] - 0s 99us/step - loss: 5.7158 - binary_accuracy: 0.8420\n",
      "Epoch 79/150\n",
      "135/135 [==============================] - 0s 89us/step - loss: 5.6720 - binary_accuracy: 0.8617\n",
      "Epoch 80/150\n",
      "135/135 [==============================] - 0s 86us/step - loss: 5.6597 - binary_accuracy: 0.8716\n",
      "Epoch 81/150\n",
      "135/135 [==============================] - 0s 87us/step - loss: 5.4828 - binary_accuracy: 0.8765\n",
      "Epoch 82/150\n",
      "135/135 [==============================] - 0s 95us/step - loss: 5.4770 - binary_accuracy: 0.8815\n",
      "Epoch 83/150\n",
      "135/135 [==============================] - 0s 85us/step - loss: 5.3602 - binary_accuracy: 0.8815\n",
      "Epoch 84/150\n",
      "135/135 [==============================] - 0s 89us/step - loss: 5.4329 - binary_accuracy: 0.8716\n",
      "Epoch 85/150\n",
      "135/135 [==============================] - 0s 84us/step - loss: 5.2093 - binary_accuracy: 0.8691\n",
      "Epoch 86/150\n",
      "135/135 [==============================] - 0s 89us/step - loss: 5.3168 - binary_accuracy: 0.8642\n",
      "Epoch 87/150\n",
      "135/135 [==============================] - 0s 85us/step - loss: 5.1942 - binary_accuracy: 0.8617\n",
      "Epoch 88/150\n",
      "135/135 [==============================] - 0s 87us/step - loss: 5.1215 - binary_accuracy: 0.8568\n",
      "Epoch 89/150\n",
      "135/135 [==============================] - 0s 88us/step - loss: 5.0944 - binary_accuracy: 0.8494\n",
      "Epoch 90/150\n",
      "135/135 [==============================] - 0s 86us/step - loss: 5.1372 - binary_accuracy: 0.8494\n",
      "Epoch 91/150\n",
      "135/135 [==============================] - 0s 85us/step - loss: 5.1037 - binary_accuracy: 0.8519\n",
      "Epoch 92/150\n",
      "135/135 [==============================] - 0s 100us/step - loss: 5.0016 - binary_accuracy: 0.8494\n",
      "Epoch 93/150\n",
      "135/135 [==============================] - 0s 98us/step - loss: 4.9514 - binary_accuracy: 0.8494\n",
      "Epoch 94/150\n",
      "135/135 [==============================] - 0s 88us/step - loss: 5.0222 - binary_accuracy: 0.8494\n",
      "Epoch 95/150\n",
      "135/135 [==============================] - 0s 86us/step - loss: 4.8857 - binary_accuracy: 0.8469\n",
      "Epoch 96/150\n",
      "135/135 [==============================] - 0s 83us/step - loss: 4.9166 - binary_accuracy: 0.8444\n",
      "Epoch 97/150\n",
      "135/135 [==============================] - 0s 87us/step - loss: 4.8476 - binary_accuracy: 0.8444\n",
      "Epoch 98/150\n",
      "135/135 [==============================] - 0s 88us/step - loss: 4.8139 - binary_accuracy: 0.8420\n",
      "Epoch 99/150\n",
      "135/135 [==============================] - 0s 85us/step - loss: 4.8226 - binary_accuracy: 0.8420\n",
      "Epoch 100/150\n",
      "135/135 [==============================] - 0s 88us/step - loss: 4.6863 - binary_accuracy: 0.8420\n",
      "Epoch 101/150\n",
      "135/135 [==============================] - 0s 89us/step - loss: 4.7331 - binary_accuracy: 0.8420\n",
      "Epoch 102/150\n",
      "135/135 [==============================] - 0s 83us/step - loss: 4.6987 - binary_accuracy: 0.8420\n",
      "Epoch 103/150\n",
      "135/135 [==============================] - 0s 88us/step - loss: 4.6944 - binary_accuracy: 0.8395\n",
      "Epoch 104/150\n",
      "135/135 [==============================] - 0s 89us/step - loss: 4.7332 - binary_accuracy: 0.8370\n",
      "Epoch 105/150\n",
      "135/135 [==============================] - 0s 89us/step - loss: 4.7054 - binary_accuracy: 0.8420\n",
      "Epoch 106/150\n",
      "135/135 [==============================] - 0s 88us/step - loss: 4.6578 - binary_accuracy: 0.8420\n",
      "Epoch 107/150\n",
      "135/135 [==============================] - 0s 83us/step - loss: 4.5573 - binary_accuracy: 0.8395\n",
      "Epoch 108/150\n",
      "135/135 [==============================] - 0s 92us/step - loss: 4.5786 - binary_accuracy: 0.8395\n",
      "Epoch 109/150\n",
      "135/135 [==============================] - 0s 89us/step - loss: 4.6590 - binary_accuracy: 0.8395\n",
      "Epoch 110/150\n",
      "135/135 [==============================] - 0s 89us/step - loss: 4.6476 - binary_accuracy: 0.8420\n",
      "Epoch 111/150\n",
      "135/135 [==============================] - 0s 92us/step - loss: 4.4569 - binary_accuracy: 0.8420\n",
      "Epoch 112/150\n",
      "135/135 [==============================] - 0s 91us/step - loss: 4.5443 - binary_accuracy: 0.8420\n",
      "Epoch 113/150\n",
      "135/135 [==============================] - 0s 89us/step - loss: 4.4238 - binary_accuracy: 0.8444\n",
      "Epoch 114/150\n",
      "135/135 [==============================] - 0s 89us/step - loss: 4.4523 - binary_accuracy: 0.8444\n",
      "Epoch 115/150\n",
      "135/135 [==============================] - 0s 89us/step - loss: 4.3812 - binary_accuracy: 0.8444\n",
      "Epoch 116/150\n",
      "135/135 [==============================] - 0s 89us/step - loss: 4.4617 - binary_accuracy: 0.8444\n",
      "Epoch 117/150\n",
      "135/135 [==============================] - 0s 87us/step - loss: 4.4307 - binary_accuracy: 0.8444\n",
      "Epoch 118/150\n",
      "135/135 [==============================] - 0s 89us/step - loss: 4.4097 - binary_accuracy: 0.8444\n",
      "Epoch 119/150\n",
      "135/135 [==============================] - 0s 85us/step - loss: 4.3314 - binary_accuracy: 0.8444\n",
      "Epoch 120/150\n",
      "135/135 [==============================] - 0s 87us/step - loss: 4.3062 - binary_accuracy: 0.8444\n",
      "Epoch 121/150\n",
      "135/135 [==============================] - 0s 88us/step - loss: 4.3930 - binary_accuracy: 0.8444\n",
      "Epoch 122/150\n",
      "135/135 [==============================] - 0s 86us/step - loss: 4.3033 - binary_accuracy: 0.8444\n",
      "Epoch 123/150\n",
      "135/135 [==============================] - 0s 88us/step - loss: 4.2952 - binary_accuracy: 0.8444\n",
      "Epoch 124/150\n",
      "135/135 [==============================] - 0s 91us/step - loss: 4.2695 - binary_accuracy: 0.8469\n",
      "Epoch 125/150\n",
      "135/135 [==============================] - 0s 87us/step - loss: 4.4108 - binary_accuracy: 0.8469\n",
      "Epoch 126/150\n",
      "135/135 [==============================] - 0s 94us/step - loss: 4.3077 - binary_accuracy: 0.8494\n",
      "Epoch 127/150\n",
      "135/135 [==============================] - 0s 91us/step - loss: 4.1339 - binary_accuracy: 0.8494\n",
      "Epoch 128/150\n",
      "135/135 [==============================] - 0s 85us/step - loss: 4.2893 - binary_accuracy: 0.8494\n",
      "Epoch 129/150\n",
      "135/135 [==============================] - 0s 90us/step - loss: 4.1504 - binary_accuracy: 0.8494\n",
      "Epoch 130/150\n",
      "135/135 [==============================] - 0s 93us/step - loss: 4.2112 - binary_accuracy: 0.8494\n",
      "Epoch 131/150\n",
      "135/135 [==============================] - 0s 105us/step - loss: 4.0524 - binary_accuracy: 0.8494\n",
      "Epoch 132/150\n",
      "135/135 [==============================] - 0s 92us/step - loss: 4.1294 - binary_accuracy: 0.8494\n",
      "Epoch 133/150\n",
      "135/135 [==============================] - 0s 91us/step - loss: 4.1394 - binary_accuracy: 0.8494\n",
      "Epoch 134/150\n",
      "135/135 [==============================] - 0s 89us/step - loss: 3.9734 - binary_accuracy: 0.8494\n",
      "Epoch 135/150\n",
      "135/135 [==============================] - 0s 85us/step - loss: 4.0917 - binary_accuracy: 0.8494\n",
      "Epoch 136/150\n",
      "135/135 [==============================] - 0s 87us/step - loss: 3.9857 - binary_accuracy: 0.8494\n",
      "Epoch 137/150\n",
      "135/135 [==============================] - 0s 97us/step - loss: 4.0817 - binary_accuracy: 0.8494\n",
      "Epoch 138/150\n",
      "135/135 [==============================] - 0s 88us/step - loss: 3.9836 - binary_accuracy: 0.8494\n",
      "Epoch 139/150\n",
      "135/135 [==============================] - 0s 83us/step - loss: 4.0516 - binary_accuracy: 0.8494\n",
      "Epoch 140/150\n",
      "135/135 [==============================] - 0s 85us/step - loss: 4.0198 - binary_accuracy: 0.8469\n",
      "Epoch 141/150\n",
      "135/135 [==============================] - 0s 89us/step - loss: 3.9973 - binary_accuracy: 0.8469\n",
      "Epoch 142/150\n",
      "135/135 [==============================] - 0s 88us/step - loss: 3.9861 - binary_accuracy: 0.8494\n",
      "Epoch 143/150\n",
      "135/135 [==============================] - 0s 85us/step - loss: 3.9963 - binary_accuracy: 0.8494\n",
      "Epoch 144/150\n",
      "135/135 [==============================] - 0s 86us/step - loss: 3.9781 - binary_accuracy: 0.8494\n",
      "Epoch 145/150\n",
      "135/135 [==============================] - 0s 85us/step - loss: 3.9755 - binary_accuracy: 0.8494\n",
      "Epoch 146/150\n"
     ]
    },
    {
     "name": "stdout",
     "output_type": "stream",
     "text": [
      "135/135 [==============================] - 0s 87us/step - loss: 3.8225 - binary_accuracy: 0.8494\n",
      "Epoch 147/150\n",
      "135/135 [==============================] - 0s 88us/step - loss: 3.9018 - binary_accuracy: 0.8494\n",
      "Epoch 148/150\n",
      "135/135 [==============================] - 0s 85us/step - loss: 3.8810 - binary_accuracy: 0.8494\n",
      "Epoch 149/150\n",
      "135/135 [==============================] - 0s 84us/step - loss: 3.9082 - binary_accuracy: 0.8494\n",
      "Epoch 150/150\n",
      "135/135 [==============================] - 0s 86us/step - loss: 3.8210 - binary_accuracy: 0.8494\n"
     ]
    }
   ],
   "source": [
    "fuzz.train_model(epochs=150)"
   ]
  },
  {
   "cell_type": "code",
   "execution_count": 6,
   "metadata": {},
   "outputs": [
    {
     "data": {
      "text/plain": [
       "[array([[ 4.7115602 ,  7.350304  ,  7.3522696 ],\n",
       "        [ 3.5791569 ,  2.2561195 ,  2.4162953 ],\n",
       "        [ 0.97646433,  5.095808  ,  6.1063    ],\n",
       "        [-0.34150302,  2.126984  ,  2.9629242 ]], dtype=float32),\n",
       " array([[3.659446 , 3.1875765, 3.1675599],\n",
       "        [3.5217423, 3.2211118, 3.1556978],\n",
       "        [3.3473587, 3.1853492, 3.0836565],\n",
       "        [3.277446 , 3.108519 , 2.9653413]], dtype=float32)]"
      ]
     },
     "execution_count": 6,
     "metadata": {},
     "output_type": "execute_result"
    }
   ],
   "source": [
    "fuzz._get_layer_weights('FuzzyRules')"
   ]
  },
  {
   "cell_type": "code",
   "execution_count": 7,
   "metadata": {},
   "outputs": [
    {
     "data": {
      "text/plain": [
       "array([[5.7, 2.6, 3.5, 1. ],\n",
       "       [5. , 2.3, 3.3, 1. ],\n",
       "       [5.7, 2.5, 5. , 2. ],\n",
       "       [5.8, 2.7, 5.1, 1.9],\n",
       "       [6.3, 3.3, 4.7, 1.6],\n",
       "       [4.5, 2.3, 1.3, 0.3],\n",
       "       [5.8, 2.7, 4.1, 1. ],\n",
       "       [6.4, 3.2, 4.5, 1.5],\n",
       "       [6.8, 3. , 5.5, 2.1],\n",
       "       [6. , 2.2, 5. , 1.5],\n",
       "       [6.4, 3.1, 5.5, 1.8],\n",
       "       [5. , 3.6, 1.4, 0.2],\n",
       "       [5.7, 2.8, 4.1, 1.3],\n",
       "       [7.9, 3.8, 6.4, 2. ],\n",
       "       [6.7, 3. , 5. , 1.7]])"
      ]
     },
     "execution_count": 7,
     "metadata": {},
     "output_type": "execute_result"
    }
   ],
   "source": [
    "X_test"
   ]
  },
  {
   "cell_type": "code",
   "execution_count": 8,
   "metadata": {},
   "outputs": [
    {
     "data": {
      "text/plain": [
       "array([[0., 1., 0.],\n",
       "       [0., 1., 0.],\n",
       "       [0., 0., 1.],\n",
       "       [0., 0., 1.],\n",
       "       [0., 1., 0.],\n",
       "       [1., 0., 0.],\n",
       "       [0., 1., 0.],\n",
       "       [0., 1., 0.],\n",
       "       [0., 0., 1.],\n",
       "       [0., 0., 1.],\n",
       "       [0., 0., 1.],\n",
       "       [1., 0., 0.],\n",
       "       [0., 1., 0.],\n",
       "       [0., 0., 1.],\n",
       "       [0., 1., 0.]])"
      ]
     },
     "execution_count": 8,
     "metadata": {},
     "output_type": "execute_result"
    }
   ],
   "source": [
    "y_test"
   ]
  },
  {
   "cell_type": "code",
   "execution_count": 9,
   "metadata": {},
   "outputs": [
    {
     "data": {
      "text/plain": [
       "array([[0., 0., 0.],\n",
       "       [0., 0., 0.],\n",
       "       [0., 0., 1.],\n",
       "       [0., 0., 1.],\n",
       "       [0., 0., 1.],\n",
       "       [1., 0., 0.],\n",
       "       [0., 0., 0.],\n",
       "       [0., 0., 1.],\n",
       "       [0., 0., 1.],\n",
       "       [0., 0., 1.],\n",
       "       [0., 0., 1.],\n",
       "       [1., 0., 0.],\n",
       "       [0., 0., 0.],\n",
       "       [0., 0., 1.],\n",
       "       [0., 0., 1.]], dtype=float32)"
      ]
     },
     "execution_count": 9,
     "metadata": {},
     "output_type": "execute_result"
    }
   ],
   "source": [
    "y_pred = fuzz.model.predict(X_test)\n",
    "y_pred.round()"
   ]
  },
  {
   "cell_type": "code",
   "execution_count": 10,
   "metadata": {},
   "outputs": [
    {
     "data": {
      "text/plain": [
       "array([[ True, False,  True],\n",
       "       [ True, False,  True],\n",
       "       [ True,  True,  True],\n",
       "       [ True,  True,  True],\n",
       "       [ True, False, False],\n",
       "       [ True,  True,  True],\n",
       "       [ True, False,  True],\n",
       "       [ True, False, False],\n",
       "       [ True,  True,  True],\n",
       "       [ True,  True,  True],\n",
       "       [ True,  True,  True],\n",
       "       [ True,  True,  True],\n",
       "       [ True, False,  True],\n",
       "       [ True,  True,  True],\n",
       "       [ True, False, False]])"
      ]
     },
     "execution_count": 10,
     "metadata": {},
     "output_type": "execute_result"
    }
   ],
   "source": [
    "acc = y_test == y_pred.round()\n",
    "acc"
   ]
  },
  {
   "cell_type": "code",
   "execution_count": 11,
   "metadata": {},
   "outputs": [
    {
     "data": {
      "text/plain": [
       "0.7777777777777778"
      ]
     },
     "execution_count": 11,
     "metadata": {},
     "output_type": "execute_result"
    }
   ],
   "source": [
    "acc.sum() / acc.size"
   ]
  },
  {
   "cell_type": "markdown",
   "metadata": {},
   "source": [
    "## Model Prediction Results"
   ]
  },
  {
   "cell_type": "code",
   "execution_count": 12,
   "metadata": {},
   "outputs": [
    {
     "name": "stdout",
     "output_type": "stream",
     "text": [
      "15/15 [==============================] - 0s 8ms/step\n",
      "Model Loss: 2.78251386\n",
      "Binary Accuracy: 77.8%\n"
     ]
    }
   ],
   "source": [
    "pred_loss, pred_bin_acc = fuzz.model.evaluate(X_test, y_test)\n",
    "print('Model Loss: {:0.8f}'.format(pred_loss))\n",
    "print('Binary Accuracy: {:2.1f}%'.format(100*pred_bin_acc))"
   ]
  },
  {
   "cell_type": "code",
   "execution_count": 13,
   "metadata": {},
   "outputs": [
    {
     "data": {
      "text/plain": [
       "['loss', 'binary_accuracy']"
      ]
     },
     "execution_count": 13,
     "metadata": {},
     "output_type": "execute_result"
    }
   ],
   "source": [
    "fuzz.model.metrics_names"
   ]
  },
  {
   "cell_type": "markdown",
   "metadata": {},
   "source": [
    "## Plot Results"
   ]
  },
  {
   "cell_type": "code",
   "execution_count": 14,
   "metadata": {},
   "outputs": [
    {
     "name": "stderr",
     "output_type": "stream",
     "text": [
      "'c' argument looks like a single numeric RGB or RGBA sequence, which should be avoided as value-mapping will have precedence in case its length matches with 'x' & 'y'.  Please use a 2-D array with a single row if you really want to specify the same RGB or RGBA value for all points.\n"
     ]
    },
    {
     "data": {
      "image/png": "[encoded data removed]",
      "text/plain": [
       "<Figure size 432x288 with 1 Axes>"
      ]
     },
     "metadata": {
      "needs_background": "light"
     },
     "output_type": "display_data"
    }
   ],
   "source": [
    "w = fuzz._get_layer_weights('FuzzyRules')\n",
    "\n",
    "\n",
    "plt.clf()\n",
    "plt.title('Iris')\n",
    "plt.ylabel('x[0]')\n",
    "plt.xlabel('x[1]')\n",
    "plt.scatter([a[0] for a in X_train], [a[1] for a in X_train], c=(0,0,0), alpha=0.5,s=1)\n",
    "for i in range(0,fuzz.neurons):\n",
    "    ellipse = Ellipse((w[0][0][i], w[0][1][i]), w[1][0][i],w[1][1][i], color='r', fill=False)\n",
    "    ax = plt.gca()\n",
    "    ax.add_patch(ellipse)\n",
    "\n",
    "plt.scatter(w[0][0], w[0][1], c=(1,0,0), alpha=0.8,s=15)\n",
    "plt.show()"
   ]
  }
 ],
 "metadata": {
  "kernelspec": {
   "display_name": "Python 3",
   "language": "python",
   "name": "python3"
  },
  "language_info": {
   "codemirror_mode": {
    "name": "ipython",
    "version": 3
   },
   "file_extension": ".py",
   "mimetype": "text/x-python",
   "name": "python",
   "nbconvert_exporter": "python",
   "pygments_lexer": "ipython3",
   "version": "3.6.8"
  }
 },
 "nbformat": 4,
 "nbformat_minor": 1
}
