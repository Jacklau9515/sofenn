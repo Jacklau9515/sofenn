{
 "cells": [
  {
   "cell_type": "markdown",
   "metadata": {
    "collapsed": true
   },
   "source": [
    "# Iris Dataset - SOFENN Example"
   ]
  },
  {
   "cell_type": "markdown",
   "metadata": {},
   "source": [
    "Demonstrate multi-class classification with SOFENN on classic Iris Dataset"
   ]
  },
  {
   "cell_type": "code",
   "execution_count": 1,
   "metadata": {},
   "outputs": [
    {
     "name": "stderr",
     "output_type": "stream",
     "text": [
      "Using TensorFlow backend.\n"
     ]
    }
   ],
   "source": [
    "import numpy as np\n",
    "import random as rnd\n",
    "\n",
    "from sklearn import datasets\n",
    "from sklearn.metrics import mean_absolute_error\n",
    "from sklearn.model_selection import train_test_split\n",
    "\n",
    "import matplotlib.pyplot as plt\n",
    "from matplotlib.patches import Ellipse\n",
    "\n",
    "import keras\n",
    "import keras.backend as K\n",
    "\n",
    "from keras.optimizers import SGD\n",
    "from keras.utils import plot_model\n",
    "from keras.models import Sequential, Model\n",
    "from keras.layers import Dense, Dropout, Activation, Input\n",
    "\n",
    "from sofenn.FuzzyNetwork import FuzzyNetwork\n",
    "#from sofenn.layers.DefuzzyLayer import DefuzzyLayer\n",
    "from sofenn.layers import FuzzyLayer, NormalizedLayer, WeightedLayer, OutputLayer\n",
    "\n",
    "import os\n",
    "\n",
    "os.environ['KMP_DUPLICATE_LIB_OK']='True'"
   ]
  },
  {
   "cell_type": "markdown",
   "metadata": {},
   "source": [
    "## Read in and prep Iris Dataset"
   ]
  },
  {
   "cell_type": "code",
   "execution_count": 2,
   "metadata": {
    "scrolled": true
   },
   "outputs": [],
   "source": [
    "# read in iris dataset\n",
    "iris = datasets.load_iris()\n",
    "# create one-hot encoded vector for each class\n",
    "Y = []\n",
    "for y in iris.target:\n",
    "    tmp = np.zeros(3)\n",
    "    tmp[y] = 1\n",
    "    Y.append(tmp)\n",
    "Y = np.array(Y)\n",
    "    \n",
    "# split to train/test\n",
    "X_train, X_test, y_train, y_test = train_test_split(iris.data, Y, test_size=0.1)"
   ]
  },
  {
   "cell_type": "code",
   "execution_count": 3,
   "metadata": {
    "scrolled": true
   },
   "outputs": [
    {
     "name": "stdout",
     "output_type": "stream",
     "text": [
      "Building Fuzzy Network with 3 neurons...\n",
      "WARNING:tensorflow:From /miniconda3/envs/sofenn/lib/python3.6/site-packages/tensorflow/python/framework/op_def_library.py:263: colocate_with (from tensorflow.python.framework.ops) is deprecated and will be removed in a future version.\n",
      "Instructions for updating:\n",
      "Colocations handled automatically by placer.\n",
      "...Model successfully built!\n"
     ]
    }
   ],
   "source": [
    "fuzz = FuzzyNetwork(\n",
    "            X_train, X_test, y_train, y_test,           # data attributes\n",
    "            neurons=3, max_neurons=100,                 # initialization parameters\n",
    "            eval_thresh=0.5, ifpart_thresh=0.1354       # evaluation and ifpart threshold\n",
    "            )"
   ]
  },
  {
   "cell_type": "code",
   "execution_count": 4,
   "metadata": {},
   "outputs": [
    {
     "name": "stdout",
     "output_type": "stream",
     "text": [
      "Compiling model...\n",
      "__________________________________________________________________________________________________\n",
      "Layer (type)                    Output Shape         Param #     Connected to                     \n",
      "==================================================================================================\n",
      "Inputs (InputLayer)             (None, 4)            0                                            \n",
      "__________________________________________________________________________________________________\n",
      "FuzzyRules (FuzzyLayer)         (None, 3)            24          Inputs[0][0]                     \n",
      "__________________________________________________________________________________________________\n",
      "Normalization (NormalizedLayer) (None, 3)            0           FuzzyRules[0][0]                 \n",
      "__________________________________________________________________________________________________\n",
      "Weights (WeightedLayer)         (None, 3)            15          Inputs[0][0]                     \n",
      "                                                                 Normalization[0][0]              \n",
      "__________________________________________________________________________________________________\n",
      "RawOutput (OutputLayer)         (None, 1)            0           Weights[0][0]                    \n",
      "__________________________________________________________________________________________________\n",
      "Softmax (Dense)                 (None, 3)            6           RawOutput[0][0]                  \n",
      "==================================================================================================\n",
      "Total params: 45\n",
      "Trainable params: 45\n",
      "Non-trainable params: 0\n",
      "__________________________________________________________________________________________________\n",
      "None\n"
     ]
    }
   ],
   "source": [
    "fuzz.compile_model()"
   ]
  },
  {
   "cell_type": "code",
   "execution_count": 19,
   "metadata": {},
   "outputs": [
    {
     "name": "stdout",
     "output_type": "stream",
     "text": [
      "Training model...\n",
      "Epoch 1/150\n",
      "135/135 [==============================] - 0s 198us/step - loss: 3.3910 - binary_accuracy: 0.8691\n",
      "Epoch 2/150\n",
      "135/135 [==============================] - 0s 271us/step - loss: 3.3590 - binary_accuracy: 0.8667\n",
      "Epoch 3/150\n",
      "135/135 [==============================] - 0s 268us/step - loss: 3.2769 - binary_accuracy: 0.8716\n",
      "Epoch 4/150\n",
      "135/135 [==============================] - 0s 152us/step - loss: 3.2974 - binary_accuracy: 0.8889\n",
      "Epoch 5/150\n",
      "135/135 [==============================] - 0s 192us/step - loss: 3.3899 - binary_accuracy: 0.8963\n",
      "Epoch 6/150\n",
      "135/135 [==============================] - 0s 148us/step - loss: 3.2815 - binary_accuracy: 0.8963\n",
      "Epoch 7/150\n",
      "135/135 [==============================] - 0s 149us/step - loss: 3.3383 - binary_accuracy: 0.8988\n",
      "Epoch 8/150\n",
      "135/135 [==============================] - 0s 146us/step - loss: 3.1662 - binary_accuracy: 0.9037\n",
      "Epoch 9/150\n",
      "135/135 [==============================] - 0s 128us/step - loss: 3.2133 - binary_accuracy: 0.9037\n",
      "Epoch 10/150\n",
      "135/135 [==============================] - 0s 155us/step - loss: 3.2147 - binary_accuracy: 0.9037\n",
      "Epoch 11/150\n",
      "135/135 [==============================] - 0s 157us/step - loss: 3.1438 - binary_accuracy: 0.9086\n",
      "Epoch 12/150\n",
      "135/135 [==============================] - 0s 134us/step - loss: 3.0842 - binary_accuracy: 0.9136\n",
      "Epoch 13/150\n",
      "135/135 [==============================] - 0s 150us/step - loss: 3.2336 - binary_accuracy: 0.9160\n",
      "Epoch 14/150\n",
      "135/135 [==============================] - 0s 149us/step - loss: 3.1700 - binary_accuracy: 0.9160\n",
      "Epoch 15/150\n",
      "135/135 [==============================] - 0s 149us/step - loss: 3.1608 - binary_accuracy: 0.9185\n",
      "Epoch 16/150\n",
      "135/135 [==============================] - 0s 138us/step - loss: 3.2119 - binary_accuracy: 0.9210\n",
      "Epoch 17/150\n",
      "135/135 [==============================] - 0s 127us/step - loss: 3.1794 - binary_accuracy: 0.9210\n",
      "Epoch 18/150\n",
      "135/135 [==============================] - 0s 162us/step - loss: 3.0861 - binary_accuracy: 0.9210\n",
      "Epoch 19/150\n",
      "135/135 [==============================] - 0s 114us/step - loss: 3.0905 - binary_accuracy: 0.9210\n",
      "Epoch 20/150\n",
      "135/135 [==============================] - 0s 133us/step - loss: 3.0636 - binary_accuracy: 0.9210\n",
      "Epoch 21/150\n",
      "135/135 [==============================] - 0s 124us/step - loss: 3.1539 - binary_accuracy: 0.9235\n",
      "Epoch 22/150\n",
      "135/135 [==============================] - 0s 163us/step - loss: 3.0826 - binary_accuracy: 0.9235\n",
      "Epoch 23/150\n",
      "135/135 [==============================] - 0s 115us/step - loss: 3.0328 - binary_accuracy: 0.9284\n",
      "Epoch 24/150\n",
      "135/135 [==============================] - 0s 128us/step - loss: 3.0697 - binary_accuracy: 0.9284\n",
      "Epoch 25/150\n",
      "135/135 [==============================] - 0s 108us/step - loss: 3.0468 - binary_accuracy: 0.9309\n",
      "Epoch 26/150\n",
      "135/135 [==============================] - 0s 158us/step - loss: 3.1096 - binary_accuracy: 0.9333\n",
      "Epoch 27/150\n",
      "135/135 [==============================] - 0s 135us/step - loss: 2.9649 - binary_accuracy: 0.9333\n",
      "Epoch 28/150\n",
      "135/135 [==============================] - 0s 143us/step - loss: 3.0438 - binary_accuracy: 0.9333\n",
      "Epoch 29/150\n",
      "135/135 [==============================] - 0s 149us/step - loss: 2.9378 - binary_accuracy: 0.9333\n",
      "Epoch 30/150\n",
      "135/135 [==============================] - 0s 135us/step - loss: 2.9952 - binary_accuracy: 0.9333\n",
      "Epoch 31/150\n",
      "135/135 [==============================] - 0s 163us/step - loss: 3.0069 - binary_accuracy: 0.9383\n",
      "Epoch 32/150\n",
      "135/135 [==============================] - 0s 151us/step - loss: 2.9261 - binary_accuracy: 0.9383\n",
      "Epoch 33/150\n",
      "135/135 [==============================] - 0s 165us/step - loss: 2.8967 - binary_accuracy: 0.9383\n",
      "Epoch 34/150\n",
      "135/135 [==============================] - 0s 146us/step - loss: 2.8255 - binary_accuracy: 0.9407\n",
      "Epoch 35/150\n",
      "135/135 [==============================] - 0s 135us/step - loss: 2.8851 - binary_accuracy: 0.9432\n",
      "Epoch 36/150\n",
      "135/135 [==============================] - 0s 121us/step - loss: 2.8366 - binary_accuracy: 0.9457\n",
      "Epoch 37/150\n",
      "135/135 [==============================] - 0s 153us/step - loss: 2.9025 - binary_accuracy: 0.9432\n",
      "Epoch 38/150\n",
      "135/135 [==============================] - 0s 156us/step - loss: 2.9050 - binary_accuracy: 0.9432\n",
      "Epoch 39/150\n",
      "135/135 [==============================] - 0s 136us/step - loss: 2.8464 - binary_accuracy: 0.9481\n",
      "Epoch 40/150\n",
      "135/135 [==============================] - 0s 135us/step - loss: 2.8278 - binary_accuracy: 0.9481\n",
      "Epoch 41/150\n",
      "135/135 [==============================] - 0s 155us/step - loss: 2.6985 - binary_accuracy: 0.9481\n",
      "Epoch 42/150\n",
      "135/135 [==============================] - 0s 137us/step - loss: 2.8227 - binary_accuracy: 0.9506\n",
      "Epoch 43/150\n",
      "135/135 [==============================] - 0s 159us/step - loss: 2.7527 - binary_accuracy: 0.9506\n",
      "Epoch 44/150\n",
      "135/135 [==============================] - 0s 143us/step - loss: 2.8326 - binary_accuracy: 0.9506\n",
      "Epoch 45/150\n",
      "135/135 [==============================] - 0s 139us/step - loss: 2.7069 - binary_accuracy: 0.9506\n",
      "Epoch 46/150\n",
      "135/135 [==============================] - 0s 143us/step - loss: 2.7754 - binary_accuracy: 0.9531\n",
      "Epoch 47/150\n",
      "135/135 [==============================] - 0s 132us/step - loss: 2.7631 - binary_accuracy: 0.9531\n",
      "Epoch 48/150\n",
      "135/135 [==============================] - 0s 161us/step - loss: 2.6579 - binary_accuracy: 0.9531\n",
      "Epoch 49/150\n",
      "135/135 [==============================] - 0s 139us/step - loss: 2.6945 - binary_accuracy: 0.9531\n",
      "Epoch 50/150\n",
      "135/135 [==============================] - 0s 169us/step - loss: 2.6946 - binary_accuracy: 0.9531\n",
      "Epoch 51/150\n",
      "135/135 [==============================] - 0s 148us/step - loss: 2.6851 - binary_accuracy: 0.9531\n",
      "Epoch 52/150\n",
      "135/135 [==============================] - 0s 152us/step - loss: 2.6856 - binary_accuracy: 0.9580\n",
      "Epoch 53/150\n",
      "135/135 [==============================] - 0s 126us/step - loss: 2.6112 - binary_accuracy: 0.9580\n",
      "Epoch 54/150\n",
      "135/135 [==============================] - 0s 123us/step - loss: 2.6652 - binary_accuracy: 0.9580\n",
      "Epoch 55/150\n",
      "135/135 [==============================] - 0s 132us/step - loss: 2.6355 - binary_accuracy: 0.9605\n",
      "Epoch 56/150\n",
      "135/135 [==============================] - 0s 142us/step - loss: 2.6334 - binary_accuracy: 0.9654\n",
      "Epoch 57/150\n",
      "135/135 [==============================] - 0s 175us/step - loss: 2.6179 - binary_accuracy: 0.9654\n",
      "Epoch 58/150\n",
      "135/135 [==============================] - 0s 168us/step - loss: 2.5376 - binary_accuracy: 0.9654\n",
      "Epoch 59/150\n",
      "135/135 [==============================] - 0s 141us/step - loss: 2.6602 - binary_accuracy: 0.9654\n",
      "Epoch 60/150\n",
      "135/135 [==============================] - 0s 158us/step - loss: 2.5237 - binary_accuracy: 0.9654\n",
      "Epoch 61/150\n",
      "135/135 [==============================] - 0s 147us/step - loss: 2.4967 - binary_accuracy: 0.9654\n",
      "Epoch 62/150\n",
      "135/135 [==============================] - 0s 113us/step - loss: 2.5499 - binary_accuracy: 0.9654\n",
      "Epoch 63/150\n",
      "135/135 [==============================] - 0s 150us/step - loss: 2.5274 - binary_accuracy: 0.9654\n",
      "Epoch 64/150\n",
      "135/135 [==============================] - 0s 143us/step - loss: 2.5807 - binary_accuracy: 0.9654\n",
      "Epoch 65/150\n",
      "135/135 [==============================] - 0s 165us/step - loss: 2.5365 - binary_accuracy: 0.9654\n",
      "Epoch 66/150\n",
      "135/135 [==============================] - 0s 130us/step - loss: 2.4983 - binary_accuracy: 0.9654\n",
      "Epoch 67/150\n",
      "135/135 [==============================] - 0s 107us/step - loss: 2.5315 - binary_accuracy: 0.9654\n",
      "Epoch 68/150\n",
      "135/135 [==============================] - 0s 137us/step - loss: 2.4623 - binary_accuracy: 0.9654\n",
      "Epoch 69/150\n",
      "135/135 [==============================] - 0s 156us/step - loss: 2.5300 - binary_accuracy: 0.9654\n",
      "Epoch 70/150\n",
      "135/135 [==============================] - 0s 155us/step - loss: 2.4523 - binary_accuracy: 0.9679\n",
      "Epoch 71/150\n",
      "135/135 [==============================] - 0s 139us/step - loss: 2.4120 - binary_accuracy: 0.9679\n",
      "Epoch 72/150\n",
      "135/135 [==============================] - 0s 159us/step - loss: 2.4583 - binary_accuracy: 0.9679\n",
      "Epoch 73/150\n",
      "135/135 [==============================] - 0s 173us/step - loss: 2.4477 - binary_accuracy: 0.9679\n",
      "Epoch 74/150\n"
     ]
    },
    {
     "name": "stdout",
     "output_type": "stream",
     "text": [
      "135/135 [==============================] - 0s 125us/step - loss: 2.3929 - binary_accuracy: 0.9679\n",
      "Epoch 75/150\n",
      "135/135 [==============================] - 0s 152us/step - loss: 2.3076 - binary_accuracy: 0.9679\n",
      "Epoch 76/150\n",
      "135/135 [==============================] - 0s 142us/step - loss: 2.4003 - binary_accuracy: 0.9679\n",
      "Epoch 77/150\n",
      "135/135 [==============================] - 0s 144us/step - loss: 2.3488 - binary_accuracy: 0.9679\n",
      "Epoch 78/150\n",
      "135/135 [==============================] - 0s 121us/step - loss: 2.3875 - binary_accuracy: 0.9679\n",
      "Epoch 79/150\n",
      "135/135 [==============================] - 0s 132us/step - loss: 2.2987 - binary_accuracy: 0.9679\n",
      "Epoch 80/150\n",
      "135/135 [==============================] - 0s 145us/step - loss: 2.3878 - binary_accuracy: 0.9679\n",
      "Epoch 81/150\n",
      "135/135 [==============================] - 0s 126us/step - loss: 2.3979 - binary_accuracy: 0.9679\n",
      "Epoch 82/150\n",
      "135/135 [==============================] - 0s 152us/step - loss: 2.2507 - binary_accuracy: 0.9679\n",
      "Epoch 83/150\n",
      "135/135 [==============================] - 0s 138us/step - loss: 2.3068 - binary_accuracy: 0.9704\n",
      "Epoch 84/150\n",
      "135/135 [==============================] - 0s 132us/step - loss: 2.2443 - binary_accuracy: 0.9704\n",
      "Epoch 85/150\n",
      "135/135 [==============================] - 0s 144us/step - loss: 2.3247 - binary_accuracy: 0.9704\n",
      "Epoch 86/150\n",
      "135/135 [==============================] - 0s 134us/step - loss: 2.2801 - binary_accuracy: 0.9704\n",
      "Epoch 87/150\n",
      "135/135 [==============================] - 0s 147us/step - loss: 2.2466 - binary_accuracy: 0.9704\n",
      "Epoch 88/150\n",
      "135/135 [==============================] - 0s 145us/step - loss: 2.3065 - binary_accuracy: 0.9704\n",
      "Epoch 89/150\n",
      "135/135 [==============================] - 0s 137us/step - loss: 2.2500 - binary_accuracy: 0.9704\n",
      "Epoch 90/150\n",
      "135/135 [==============================] - 0s 153us/step - loss: 2.1410 - binary_accuracy: 0.9704\n",
      "Epoch 91/150\n",
      "135/135 [==============================] - 0s 132us/step - loss: 2.1946 - binary_accuracy: 0.9728\n",
      "Epoch 92/150\n",
      "135/135 [==============================] - 0s 144us/step - loss: 2.1589 - binary_accuracy: 0.9728\n",
      "Epoch 93/150\n",
      "135/135 [==============================] - 0s 165us/step - loss: 2.1765 - binary_accuracy: 0.9728\n",
      "Epoch 94/150\n",
      "135/135 [==============================] - 0s 146us/step - loss: 2.1614 - binary_accuracy: 0.9728\n",
      "Epoch 95/150\n",
      "135/135 [==============================] - 0s 153us/step - loss: 2.0812 - binary_accuracy: 0.9728\n",
      "Epoch 96/150\n",
      "135/135 [==============================] - 0s 151us/step - loss: 2.1131 - binary_accuracy: 0.9728\n",
      "Epoch 97/150\n",
      "135/135 [==============================] - 0s 138us/step - loss: 2.1448 - binary_accuracy: 0.9728\n",
      "Epoch 98/150\n",
      "135/135 [==============================] - 0s 140us/step - loss: 2.0787 - binary_accuracy: 0.9728\n",
      "Epoch 99/150\n",
      "135/135 [==============================] - 0s 131us/step - loss: 2.1080 - binary_accuracy: 0.9753\n",
      "Epoch 100/150\n",
      "135/135 [==============================] - 0s 136us/step - loss: 2.1445 - binary_accuracy: 0.9728\n",
      "Epoch 101/150\n",
      "135/135 [==============================] - 0s 130us/step - loss: 2.0728 - binary_accuracy: 0.9728\n",
      "Epoch 102/150\n",
      "135/135 [==============================] - 0s 134us/step - loss: 2.0948 - binary_accuracy: 0.9728\n",
      "Epoch 103/150\n",
      "135/135 [==============================] - 0s 138us/step - loss: 1.9847 - binary_accuracy: 0.9753\n",
      "Epoch 104/150\n",
      "135/135 [==============================] - 0s 142us/step - loss: 2.0553 - binary_accuracy: 0.9778\n",
      "Epoch 105/150\n",
      "135/135 [==============================] - 0s 190us/step - loss: 2.0669 - binary_accuracy: 0.9778\n",
      "Epoch 106/150\n",
      "135/135 [==============================] - 0s 149us/step - loss: 2.0104 - binary_accuracy: 0.9753\n",
      "Epoch 107/150\n",
      "135/135 [==============================] - 0s 155us/step - loss: 2.0232 - binary_accuracy: 0.9753\n",
      "Epoch 108/150\n",
      "135/135 [==============================] - 0s 148us/step - loss: 2.0527 - binary_accuracy: 0.9753\n",
      "Epoch 109/150\n",
      "135/135 [==============================] - 0s 152us/step - loss: 1.9824 - binary_accuracy: 0.9753\n",
      "Epoch 110/150\n",
      "135/135 [==============================] - 0s 146us/step - loss: 2.0664 - binary_accuracy: 0.9753\n",
      "Epoch 111/150\n",
      "135/135 [==============================] - 0s 146us/step - loss: 2.0219 - binary_accuracy: 0.9778\n",
      "Epoch 112/150\n",
      "135/135 [==============================] - 0s 136us/step - loss: 1.9681 - binary_accuracy: 0.9778\n",
      "Epoch 113/150\n",
      "135/135 [==============================] - 0s 122us/step - loss: 1.9876 - binary_accuracy: 0.9802\n",
      "Epoch 114/150\n",
      "135/135 [==============================] - 0s 145us/step - loss: 1.9711 - binary_accuracy: 0.9802\n",
      "Epoch 115/150\n",
      "135/135 [==============================] - 0s 145us/step - loss: 1.9394 - binary_accuracy: 0.9802\n",
      "Epoch 116/150\n",
      "135/135 [==============================] - 0s 143us/step - loss: 2.0148 - binary_accuracy: 0.9802\n",
      "Epoch 117/150\n",
      "135/135 [==============================] - 0s 141us/step - loss: 1.9442 - binary_accuracy: 0.9827\n",
      "Epoch 118/150\n",
      "135/135 [==============================] - 0s 134us/step - loss: 1.8597 - binary_accuracy: 0.9802\n",
      "Epoch 119/150\n",
      "135/135 [==============================] - 0s 117us/step - loss: 1.7751 - binary_accuracy: 0.9802\n",
      "Epoch 120/150\n",
      "135/135 [==============================] - 0s 143us/step - loss: 1.9294 - binary_accuracy: 0.9827\n",
      "Epoch 121/150\n",
      "135/135 [==============================] - 0s 122us/step - loss: 1.9161 - binary_accuracy: 0.9827\n",
      "Epoch 122/150\n",
      "135/135 [==============================] - 0s 153us/step - loss: 1.9095 - binary_accuracy: 0.9827\n",
      "Epoch 123/150\n",
      "135/135 [==============================] - 0s 118us/step - loss: 1.8714 - binary_accuracy: 0.9827\n",
      "Epoch 124/150\n",
      "135/135 [==============================] - 0s 141us/step - loss: 1.8868 - binary_accuracy: 0.9827\n",
      "Epoch 125/150\n",
      "135/135 [==============================] - 0s 133us/step - loss: 1.8606 - binary_accuracy: 0.9827\n",
      "Epoch 126/150\n",
      "135/135 [==============================] - 0s 125us/step - loss: 1.8271 - binary_accuracy: 0.9802\n",
      "Epoch 127/150\n",
      "135/135 [==============================] - 0s 101us/step - loss: 1.8444 - binary_accuracy: 0.9827\n",
      "Epoch 128/150\n",
      "135/135 [==============================] - 0s 131us/step - loss: 1.8237 - binary_accuracy: 0.9827\n",
      "Epoch 129/150\n",
      "135/135 [==============================] - 0s 128us/step - loss: 1.8112 - binary_accuracy: 0.9827\n",
      "Epoch 130/150\n",
      "135/135 [==============================] - 0s 132us/step - loss: 1.8020 - binary_accuracy: 0.9827\n",
      "Epoch 131/150\n",
      "135/135 [==============================] - 0s 128us/step - loss: 1.8516 - binary_accuracy: 0.9827\n",
      "Epoch 132/150\n",
      "135/135 [==============================] - 0s 124us/step - loss: 1.7627 - binary_accuracy: 0.9827\n",
      "Epoch 133/150\n",
      "135/135 [==============================] - 0s 136us/step - loss: 1.7100 - binary_accuracy: 0.9827\n",
      "Epoch 134/150\n",
      "135/135 [==============================] - 0s 127us/step - loss: 1.7683 - binary_accuracy: 0.9827\n",
      "Epoch 135/150\n",
      "135/135 [==============================] - 0s 165us/step - loss: 1.7787 - binary_accuracy: 0.9827\n",
      "Epoch 136/150\n",
      "135/135 [==============================] - 0s 120us/step - loss: 1.7812 - binary_accuracy: 0.9827\n",
      "Epoch 137/150\n",
      "135/135 [==============================] - 0s 141us/step - loss: 1.6765 - binary_accuracy: 0.9827\n",
      "Epoch 138/150\n",
      "135/135 [==============================] - 0s 122us/step - loss: 1.7914 - binary_accuracy: 0.9827\n",
      "Epoch 139/150\n",
      "135/135 [==============================] - 0s 131us/step - loss: 1.6630 - binary_accuracy: 0.9827\n",
      "Epoch 140/150\n",
      "135/135 [==============================] - 0s 146us/step - loss: 1.7234 - binary_accuracy: 0.9852\n",
      "Epoch 141/150\n",
      "135/135 [==============================] - 0s 133us/step - loss: 1.6810 - binary_accuracy: 0.9852\n",
      "Epoch 142/150\n",
      "135/135 [==============================] - 0s 136us/step - loss: 1.7461 - binary_accuracy: 0.9852\n",
      "Epoch 143/150\n",
      "135/135 [==============================] - 0s 124us/step - loss: 1.7079 - binary_accuracy: 0.9852\n",
      "Epoch 144/150\n",
      "135/135 [==============================] - 0s 137us/step - loss: 1.6895 - binary_accuracy: 0.9827\n",
      "Epoch 145/150\n",
      "135/135 [==============================] - 0s 133us/step - loss: 1.7102 - binary_accuracy: 0.9827\n",
      "Epoch 146/150\n",
      "135/135 [==============================] - 0s 143us/step - loss: 1.6786 - binary_accuracy: 0.9827\n",
      "Epoch 147/150\n"
     ]
    },
    {
     "name": "stdout",
     "output_type": "stream",
     "text": [
      "135/135 [==============================] - 0s 140us/step - loss: 1.7072 - binary_accuracy: 0.9827\n",
      "Epoch 148/150\n",
      "135/135 [==============================] - 0s 141us/step - loss: 1.6641 - binary_accuracy: 0.9852\n",
      "Epoch 149/150\n",
      "135/135 [==============================] - 0s 137us/step - loss: 1.5544 - binary_accuracy: 0.9852\n",
      "Epoch 150/150\n",
      "135/135 [==============================] - 0s 158us/step - loss: 1.6736 - binary_accuracy: 0.9852\n"
     ]
    }
   ],
   "source": [
    "fuzz.train_model(epochs=150)"
   ]
  },
  {
   "cell_type": "code",
   "execution_count": 20,
   "metadata": {},
   "outputs": [
    {
     "data": {
      "text/plain": [
       "[array([[ 5.768369  ,  6.614032  ,  6.2880197 ],\n",
       "        [ 3.832551  ,  1.6419564 ,  1.7739422 ],\n",
       "        [ 1.0800704 ,  5.4248953 ,  5.812782  ],\n",
       "        [-0.24797764,  2.7074351 ,  2.991282  ]], dtype=float32),\n",
       " array([[3.8047884, 3.860032 , 4.059248 ],\n",
       "        [3.128168 , 2.0678172, 2.5486522],\n",
       "        [3.4308414, 3.4840136, 3.383101 ],\n",
       "        [2.971439 , 2.8971577, 2.6608484]], dtype=float32)]"
      ]
     },
     "execution_count": 20,
     "metadata": {},
     "output_type": "execute_result"
    }
   ],
   "source": [
    "fuzz._get_layer_weights('FuzzyRules')"
   ]
  },
  {
   "cell_type": "code",
   "execution_count": 21,
   "metadata": {},
   "outputs": [
    {
     "data": {
      "text/plain": [
       "array([[5. , 3.5, 1.6, 0.6],\n",
       "       [6.8, 2.8, 4.8, 1.4],\n",
       "       [5. , 3.3, 1.4, 0.2],\n",
       "       [5.6, 2.9, 3.6, 1.3],\n",
       "       [6.2, 2.2, 4.5, 1.5],\n",
       "       [6.9, 3.1, 5.4, 2.1],\n",
       "       [6.9, 3.2, 5.7, 2.3],\n",
       "       [5.3, 3.7, 1.5, 0.2],\n",
       "       [6.7, 3.1, 4.4, 1.4],\n",
       "       [6.1, 2.8, 4.7, 1.2],\n",
       "       [5.2, 3.4, 1.4, 0.2],\n",
       "       [6.5, 3.2, 5.1, 2. ],\n",
       "       [4.4, 3. , 1.3, 0.2],\n",
       "       [4.9, 3.6, 1.4, 0.1],\n",
       "       [5.8, 2.7, 3.9, 1.2]])"
      ]
     },
     "execution_count": 21,
     "metadata": {},
     "output_type": "execute_result"
    }
   ],
   "source": [
    "X_test"
   ]
  },
  {
   "cell_type": "code",
   "execution_count": 22,
   "metadata": {},
   "outputs": [
    {
     "data": {
      "text/plain": [
       "array([[1., 0., 0.],\n",
       "       [0., 1., 0.],\n",
       "       [1., 0., 0.],\n",
       "       [0., 1., 0.],\n",
       "       [0., 1., 0.],\n",
       "       [0., 0., 1.],\n",
       "       [0., 0., 1.],\n",
       "       [1., 0., 0.],\n",
       "       [0., 1., 0.],\n",
       "       [0., 1., 0.],\n",
       "       [1., 0., 0.],\n",
       "       [0., 0., 1.],\n",
       "       [1., 0., 0.],\n",
       "       [1., 0., 0.],\n",
       "       [0., 1., 0.]])"
      ]
     },
     "execution_count": 22,
     "metadata": {},
     "output_type": "execute_result"
    }
   ],
   "source": [
    "y_test"
   ]
  },
  {
   "cell_type": "code",
   "execution_count": 23,
   "metadata": {},
   "outputs": [
    {
     "data": {
      "text/plain": [
       "array([[1., 0., 0.],\n",
       "       [0., 1., 0.],\n",
       "       [1., 0., 0.],\n",
       "       [0., 1., 0.],\n",
       "       [0., 0., 1.],\n",
       "       [0., 0., 1.],\n",
       "       [0., 0., 1.],\n",
       "       [1., 0., 0.],\n",
       "       [0., 1., 0.],\n",
       "       [0., 1., 0.],\n",
       "       [1., 0., 0.],\n",
       "       [0., 0., 1.],\n",
       "       [1., 0., 0.],\n",
       "       [1., 0., 0.],\n",
       "       [0., 1., 0.]], dtype=float32)"
      ]
     },
     "execution_count": 23,
     "metadata": {},
     "output_type": "execute_result"
    }
   ],
   "source": [
    "y_pred = fuzz.model.predict(X_test)\n",
    "y_pred.round()"
   ]
  },
  {
   "cell_type": "code",
   "execution_count": 24,
   "metadata": {},
   "outputs": [
    {
     "data": {
      "text/plain": [
       "array([[ True,  True,  True],\n",
       "       [ True,  True,  True],\n",
       "       [ True,  True,  True],\n",
       "       [ True,  True,  True],\n",
       "       [ True, False, False],\n",
       "       [ True,  True,  True],\n",
       "       [ True,  True,  True],\n",
       "       [ True,  True,  True],\n",
       "       [ True,  True,  True],\n",
       "       [ True,  True,  True],\n",
       "       [ True,  True,  True],\n",
       "       [ True,  True,  True],\n",
       "       [ True,  True,  True],\n",
       "       [ True,  True,  True],\n",
       "       [ True,  True,  True]])"
      ]
     },
     "execution_count": 24,
     "metadata": {},
     "output_type": "execute_result"
    }
   ],
   "source": [
    "acc = y_test == y_pred.round()\n",
    "acc"
   ]
  },
  {
   "cell_type": "code",
   "execution_count": 25,
   "metadata": {},
   "outputs": [
    {
     "data": {
      "text/plain": [
       "0.9555555555555556"
      ]
     },
     "execution_count": 25,
     "metadata": {},
     "output_type": "execute_result"
    }
   ],
   "source": [
    "acc.sum() / acc.size"
   ]
  },
  {
   "cell_type": "markdown",
   "metadata": {},
   "source": [
    "## Model Prediction Results"
   ]
  },
  {
   "cell_type": "code",
   "execution_count": 26,
   "metadata": {},
   "outputs": [
    {
     "name": "stdout",
     "output_type": "stream",
     "text": [
      "15/15 [==============================] - 0s 146us/step\n",
      "Model Loss: 0.95978558\n",
      "Binary Accuracy: 95.6%\n"
     ]
    }
   ],
   "source": [
    "pred_loss, pred_bin_acc = fuzz.model.evaluate(X_test, y_test)\n",
    "print('Model Loss: {:0.8f}'.format(pred_loss))\n",
    "print('Binary Accuracy: {:2.1f}%'.format(100*pred_bin_acc))"
   ]
  },
  {
   "cell_type": "code",
   "execution_count": 27,
   "metadata": {},
   "outputs": [
    {
     "data": {
      "text/plain": [
       "['loss', 'binary_accuracy']"
      ]
     },
     "execution_count": 27,
     "metadata": {},
     "output_type": "execute_result"
    }
   ],
   "source": [
    "fuzz.model.metrics_names"
   ]
  },
  {
   "cell_type": "markdown",
   "metadata": {},
   "source": [
    "## Plot Results"
   ]
  },
  {
   "cell_type": "code",
   "execution_count": 28,
   "metadata": {},
   "outputs": [
    {
     "name": "stderr",
     "output_type": "stream",
     "text": [
      "'c' argument looks like a single numeric RGB or RGBA sequence, which should be avoided as value-mapping will have precedence in case its length matches with 'x' & 'y'.  Please use a 2-D array with a single row if you really want to specify the same RGB or RGBA value for all points.\n"
     ]
    },
    {
     "data": {
      "image/png": "[encoded data removed]",
      "text/plain": [
       "<Figure size 432x288 with 1 Axes>"
      ]
     },
     "metadata": {
      "needs_background": "light"
     },
     "output_type": "display_data"
    }
   ],
   "source": [
    "w = fuzz._get_layer_weights('FuzzyRules')\n",
    "\n",
    "\n",
    "plt.clf()\n",
    "plt.title('Iris')\n",
    "plt.ylabel('x[0]')\n",
    "plt.xlabel('x[1]')\n",
    "plt.scatter([a[0] for a in X_train], [a[1] for a in X_train], c=(0,0,0), alpha=0.5,s=1)\n",
    "for i in range(0,fuzz.neurons):\n",
    "    ellipse = Ellipse((w[0][0][i], w[0][1][i]), w[1][0][i],w[1][1][i], color='r', fill=False)\n",
    "    ax = plt.gca()\n",
    "    ax.add_patch(ellipse)\n",
    "\n",
    "plt.scatter(w[0][0], w[0][1], c=(1,0,0), alpha=0.8,s=15)\n",
    "plt.show()"
   ]
  },
  {
   "cell_type": "code",
   "execution_count": 29,
   "metadata": {},
   "outputs": [
    {
     "data": {
      "text/plain": [
       "array([[1., 0., 0.],\n",
       "       [0., 1., 0.],\n",
       "       [1., 0., 0.],\n",
       "       [0., 1., 0.],\n",
       "       [0., 0., 1.],\n",
       "       [0., 0., 1.],\n",
       "       [0., 0., 1.],\n",
       "       [1., 0., 0.],\n",
       "       [0., 1., 0.],\n",
       "       [0., 1., 0.],\n",
       "       [1., 0., 0.],\n",
       "       [0., 0., 1.],\n",
       "       [1., 0., 0.],\n",
       "       [1., 0., 0.],\n",
       "       [0., 1., 0.]], dtype=float32)"
      ]
     },
     "execution_count": 29,
     "metadata": {},
     "output_type": "execute_result"
    }
   ],
   "source": [
    "fuzz.model_predictions().round()"
   ]
  },
  {
   "cell_type": "code",
   "execution_count": 30,
   "metadata": {},
   "outputs": [
    {
     "data": {
      "text/plain": [
       "False"
      ]
     },
     "execution_count": 30,
     "metadata": {},
     "output_type": "execute_result"
    }
   ],
   "source": [
    "fuzz.error_criterion()"
   ]
  },
  {
   "cell_type": "code",
   "execution_count": 31,
   "metadata": {},
   "outputs": [
    {
     "data": {
      "text/plain": [
       "True"
      ]
     },
     "execution_count": 31,
     "metadata": {},
     "output_type": "execute_result"
    }
   ],
   "source": [
    "fuzz.if_part_criterion()"
   ]
  },
  {
   "cell_type": "code",
   "execution_count": 32,
   "metadata": {},
   "outputs": [
    {
     "data": {
      "text/plain": [
       "array([[9.58819568e-01, 4.11310978e-02, 4.92765030e-05],\n",
       "       [2.84998566e-02, 5.39508581e-01, 4.31991577e-01],\n",
       "       [9.70022798e-01, 2.99519673e-02, 2.52563823e-05],\n",
       "       [2.83717602e-01, 6.59990788e-01, 5.62915914e-02],\n",
       "       [1.62468832e-02, 4.47901368e-01, 5.35851777e-01],\n",
       "       [1.42307917e-03, 1.58290431e-01, 8.40286493e-01],\n",
       "       [4.05013358e-04, 8.61225724e-02, 9.13472414e-01],\n",
       "       [9.83218610e-01, 1.67739093e-02, 7.50510844e-06],\n",
       "       [1.01832844e-01, 7.05255806e-01, 1.92911416e-01],\n",
       "       [6.16431236e-02, 6.55175924e-01, 2.83180922e-01],\n",
       "       [9.75430667e-01, 2.45527308e-02, 1.66439568e-05],\n",
       "       [5.89809939e-03, 3.00638765e-01, 6.93463147e-01],\n",
       "       [9.49145436e-01, 5.07775247e-02, 7.70165279e-05],\n",
       "       [9.80695128e-01, 1.92948133e-02, 1.00532488e-05],\n",
       "       [1.85413212e-01, 7.11119831e-01, 1.03466950e-01]], dtype=float32)"
      ]
     },
     "execution_count": 32,
     "metadata": {},
     "output_type": "execute_result"
    }
   ],
   "source": [
    "raw_pred = fuzz.model_predictions()\n",
    "raw_pred"
   ]
  },
  {
   "cell_type": "code",
   "execution_count": 33,
   "metadata": {},
   "outputs": [
    {
     "data": {
      "text/plain": [
       "0.1340663766861932"
      ]
     },
     "execution_count": 33,
     "metadata": {},
     "output_type": "execute_result"
    }
   ],
   "source": [
    "mean_absolute_error(fuzz.y_test, y_pred)"
   ]
  },
  {
   "cell_type": "code",
   "execution_count": 34,
   "metadata": {},
   "outputs": [
    {
     "name": "stdout",
     "output_type": "stream",
     "text": [
      "\r",
      "15/15 [==============================] - 0s 121us/step\n"
     ]
    },
    {
     "data": {
      "text/plain": [
       "[0.9597855806350708, 0.9555556178092957]"
      ]
     },
     "execution_count": 34,
     "metadata": {},
     "output_type": "execute_result"
    }
   ],
   "source": [
    "fuzz.model.evaluate(X_test, y_test)"
   ]
  },
  {
   "cell_type": "code",
   "execution_count": 38,
   "metadata": {},
   "outputs": [
    {
     "data": {
      "text/plain": [
       "<function sofenn.FuzzyNetwork.FuzzyNetwork.loss_function(y_true, y_pred)>"
      ]
     },
     "execution_count": 38,
     "metadata": {},
     "output_type": "execute_result"
    }
   ],
   "source": []
  },
  {
   "cell_type": "code",
   "execution_count": null,
   "metadata": {},
   "outputs": [],
   "source": []
  }
 ],
 "metadata": {
  "kernelspec": {
   "display_name": "Python 3",
   "language": "python",
   "name": "python3"
  },
  "language_info": {
   "codemirror_mode": {
    "name": "ipython",
    "version": 3
   },
   "file_extension": ".py",
   "mimetype": "text/x-python",
   "name": "python",
   "nbconvert_exporter": "python",
   "pygments_lexer": "ipython3",
   "version": "3.6.8"
  }
 },
 "nbformat": 4,
 "nbformat_minor": 1
}
