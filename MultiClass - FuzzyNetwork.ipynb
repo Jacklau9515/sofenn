{
 "cells": [
  {
   "cell_type": "markdown",
   "metadata": {
    "collapsed": true
   },
   "source": [
    "# Iris Dataset - SOFENN Example"
   ]
  },
  {
   "cell_type": "markdown",
   "metadata": {},
   "source": [
    "Demonstrate multi-class classification with SOFENN on classic Iris Dataset"
   ]
  },
  {
   "cell_type": "code",
   "execution_count": 1,
   "metadata": {},
   "outputs": [
    {
     "name": "stderr",
     "output_type": "stream",
     "text": [
      "Using TensorFlow backend.\n"
     ]
    }
   ],
   "source": [
    "import numpy as np\n",
    "import random as rnd\n",
    "\n",
    "from sklearn import datasets\n",
    "from sklearn.metrics import mean_absolute_error\n",
    "from sklearn.model_selection import train_test_split\n",
    "\n",
    "import matplotlib.pyplot as plt\n",
    "from matplotlib.patches import Ellipse\n",
    "\n",
    "import keras\n",
    "import keras.backend as K\n",
    "\n",
    "from keras.optimizers import SGD\n",
    "from keras.utils import plot_model\n",
    "from keras.models import Sequential, Model\n",
    "from keras.layers import Dense, Dropout, Activation, Input\n",
    "\n",
    "from sofenn.FuzzyNetwork import FuzzyNetwork\n",
    "#from sofenn.layers.DefuzzyLayer import DefuzzyLayer\n",
    "from sofenn.layers import FuzzyLayer, NormalizedLayer, WeightedLayer, OutputLayer\n",
    "\n",
    "import os\n",
    "\n",
    "os.environ['KMP_DUPLICATE_LIB_OK']='True'"
   ]
  },
  {
   "cell_type": "markdown",
   "metadata": {},
   "source": [
    "## Read in and prep Iris Dataset"
   ]
  },
  {
   "cell_type": "code",
   "execution_count": 2,
   "metadata": {
    "scrolled": true
   },
   "outputs": [],
   "source": [
    "# read in iris dataset\n",
    "iris = datasets.load_iris()\n",
    "# create one-hot encoded vector for each class\n",
    "Y = []\n",
    "for y in iris.target:\n",
    "    tmp = np.zeros(3)\n",
    "    tmp[y] = 1\n",
    "    Y.append(tmp)\n",
    "Y = np.array(Y)\n",
    "    \n",
    "# split to train/test\n",
    "X_train, X_test, y_train, y_test = train_test_split(iris.data, Y, test_size=0.1)"
   ]
  },
  {
   "cell_type": "code",
   "execution_count": 3,
   "metadata": {
    "scrolled": true
   },
   "outputs": [
    {
     "name": "stdout",
     "output_type": "stream",
     "text": [
      "Building Fuzzy Network with 5 neurons...\n",
      "WARNING:tensorflow:From /miniconda3/envs/sofenn/lib/python3.6/site-packages/tensorflow/python/framework/op_def_library.py:263: colocate_with (from tensorflow.python.framework.ops) is deprecated and will be removed in a future version.\n",
      "Instructions for updating:\n",
      "Colocations handled automatically by placer.\n",
      "...Model successfully built!\n"
     ]
    }
   ],
   "source": [
    "fuzz = FuzzyNetwork(\n",
    "            X_train, X_test, y_train, y_test,           # data attributes\n",
    "            neurons=5, max_neurons=100,                 # initialization parameters\n",
    "            eval_thresh=0.5, ifpart_thresh=0.1354       # evaluation and ifpart threshold\n",
    "            )"
   ]
  },
  {
   "cell_type": "code",
   "execution_count": 4,
   "metadata": {},
   "outputs": [
    {
     "name": "stdout",
     "output_type": "stream",
     "text": [
      "Compiling model...\n",
      "__________________________________________________________________________________________________\n",
      "Layer (type)                    Output Shape         Param #     Connected to                     \n",
      "==================================================================================================\n",
      "Inputs (InputLayer)             (None, 4)            0                                            \n",
      "__________________________________________________________________________________________________\n",
      "FuzzyRules (FuzzyLayer)         (None, 5)            40          Inputs[0][0]                     \n",
      "__________________________________________________________________________________________________\n",
      "Normalization (NormalizedLayer) (None, 5)            0           FuzzyRules[0][0]                 \n",
      "__________________________________________________________________________________________________\n",
      "Weights (WeightedLayer)         (None, 5)            25          Inputs[0][0]                     \n",
      "                                                                 Normalization[0][0]              \n",
      "__________________________________________________________________________________________________\n",
      "RawOutput (OutputLayer)         (None, 1)            0           Weights[0][0]                    \n",
      "__________________________________________________________________________________________________\n",
      "Softmax (Dense)                 (None, 3)            6           RawOutput[0][0]                  \n",
      "==================================================================================================\n",
      "Total params: 71\n",
      "Trainable params: 71\n",
      "Non-trainable params: 0\n",
      "__________________________________________________________________________________________________\n",
      "None\n"
     ]
    }
   ],
   "source": [
    "fuzz.compile_model()"
   ]
  },
  {
   "cell_type": "code",
   "execution_count": 5,
   "metadata": {},
   "outputs": [
    {
     "name": "stdout",
     "output_type": "stream",
     "text": [
      "Training model...\n",
      "WARNING:tensorflow:From /miniconda3/envs/sofenn/lib/python3.6/site-packages/tensorflow/python/ops/math_ops.py:3066: to_int32 (from tensorflow.python.ops.math_ops) is deprecated and will be removed in a future version.\n",
      "Instructions for updating:\n",
      "Use tf.cast instead.\n",
      "Epoch 1/150\n",
      "135/135 [==============================] - 1s 6ms/step - loss: 9.9836 - binary_accuracy: 0.6667\n",
      "Epoch 2/150\n",
      "135/135 [==============================] - 0s 123us/step - loss: 9.9035 - binary_accuracy: 0.6667\n",
      "Epoch 3/150\n",
      "135/135 [==============================] - 0s 153us/step - loss: 9.8295 - binary_accuracy: 0.6667\n",
      "Epoch 4/150\n",
      "135/135 [==============================] - 0s 247us/step - loss: 9.7461 - binary_accuracy: 0.6667\n",
      "Epoch 5/150\n",
      "135/135 [==============================] - 0s 233us/step - loss: 9.6841 - binary_accuracy: 0.6667\n",
      "Epoch 6/150\n",
      "135/135 [==============================] - 0s 122us/step - loss: 9.6050 - binary_accuracy: 0.6667\n",
      "Epoch 7/150\n",
      "135/135 [==============================] - 0s 279us/step - loss: 9.5311 - binary_accuracy: 0.6667\n",
      "Epoch 8/150\n",
      "135/135 [==============================] - 0s 230us/step - loss: 9.4709 - binary_accuracy: 0.6667\n",
      "Epoch 9/150\n",
      "135/135 [==============================] - 0s 137us/step - loss: 9.3768 - binary_accuracy: 0.6667\n",
      "Epoch 10/150\n",
      "135/135 [==============================] - 0s 212us/step - loss: 9.3182 - binary_accuracy: 0.6667\n",
      "Epoch 11/150\n",
      "135/135 [==============================] - 0s 209us/step - loss: 9.2324 - binary_accuracy: 0.6667\n",
      "Epoch 12/150\n",
      "135/135 [==============================] - 0s 173us/step - loss: 9.1584 - binary_accuracy: 0.6667\n",
      "Epoch 13/150\n",
      "135/135 [==============================] - 0s 178us/step - loss: 9.0839 - binary_accuracy: 0.6667\n",
      "Epoch 14/150\n",
      "135/135 [==============================] - 0s 201us/step - loss: 9.0016 - binary_accuracy: 0.6667\n",
      "Epoch 15/150\n",
      "135/135 [==============================] - 0s 180us/step - loss: 8.9156 - binary_accuracy: 0.6667\n",
      "Epoch 16/150\n",
      "135/135 [==============================] - 0s 201us/step - loss: 8.8281 - binary_accuracy: 0.6667\n",
      "Epoch 17/150\n",
      "135/135 [==============================] - 0s 147us/step - loss: 8.7431 - binary_accuracy: 0.6667\n",
      "Epoch 18/150\n",
      "135/135 [==============================] - 0s 124us/step - loss: 8.6649 - binary_accuracy: 0.6667\n",
      "Epoch 19/150\n",
      "135/135 [==============================] - 0s 155us/step - loss: 8.5630 - binary_accuracy: 0.6667\n",
      "Epoch 20/150\n",
      "135/135 [==============================] - 0s 127us/step - loss: 8.4553 - binary_accuracy: 0.6667\n",
      "Epoch 21/150\n",
      "135/135 [==============================] - 0s 117us/step - loss: 8.4031 - binary_accuracy: 0.6667\n",
      "Epoch 22/150\n",
      "135/135 [==============================] - 0s 145us/step - loss: 8.3143 - binary_accuracy: 0.6667\n",
      "Epoch 23/150\n",
      "135/135 [==============================] - 0s 167us/step - loss: 8.2068 - binary_accuracy: 0.6667\n",
      "Epoch 24/150\n",
      "135/135 [==============================] - 0s 177us/step - loss: 8.0928 - binary_accuracy: 0.6667\n",
      "Epoch 25/150\n",
      "135/135 [==============================] - 0s 137us/step - loss: 8.0342 - binary_accuracy: 0.6716\n",
      "Epoch 26/150\n",
      "135/135 [==============================] - 0s 150us/step - loss: 7.9460 - binary_accuracy: 0.6741\n",
      "Epoch 27/150\n",
      "135/135 [==============================] - 0s 163us/step - loss: 7.8886 - binary_accuracy: 0.6914\n",
      "Epoch 28/150\n",
      "135/135 [==============================] - 0s 125us/step - loss: 7.7300 - binary_accuracy: 0.7111\n",
      "Epoch 29/150\n",
      "135/135 [==============================] - 0s 150us/step - loss: 7.6589 - binary_accuracy: 0.7358\n",
      "Epoch 30/150\n",
      "135/135 [==============================] - 0s 166us/step - loss: 7.5579 - binary_accuracy: 0.7580\n",
      "Epoch 31/150\n",
      "135/135 [==============================] - 0s 163us/step - loss: 7.4169 - binary_accuracy: 0.7728\n",
      "Epoch 32/150\n",
      "135/135 [==============================] - 0s 176us/step - loss: 7.4211 - binary_accuracy: 0.7802\n",
      "Epoch 33/150\n",
      "135/135 [==============================] - 0s 173us/step - loss: 7.2355 - binary_accuracy: 0.7877\n",
      "Epoch 34/150\n",
      "135/135 [==============================] - 0s 140us/step - loss: 7.1940 - binary_accuracy: 0.7877\n",
      "Epoch 35/150\n",
      "135/135 [==============================] - 0s 168us/step - loss: 7.1221 - binary_accuracy: 0.7951\n",
      "Epoch 36/150\n",
      "135/135 [==============================] - 0s 128us/step - loss: 7.0329 - binary_accuracy: 0.8025\n",
      "Epoch 37/150\n",
      "135/135 [==============================] - 0s 131us/step - loss: 6.9373 - binary_accuracy: 0.8099\n",
      "Epoch 38/150\n",
      "135/135 [==============================] - 0s 160us/step - loss: 6.8383 - binary_accuracy: 0.8148\n",
      "Epoch 39/150\n",
      "135/135 [==============================] - 0s 173us/step - loss: 6.7695 - binary_accuracy: 0.8296\n",
      "Epoch 40/150\n",
      "135/135 [==============================] - 0s 140us/step - loss: 6.6941 - binary_accuracy: 0.8321\n",
      "Epoch 41/150\n",
      "135/135 [==============================] - 0s 149us/step - loss: 6.6256 - binary_accuracy: 0.8395\n",
      "Epoch 42/150\n",
      "135/135 [==============================] - 0s 141us/step - loss: 6.4460 - binary_accuracy: 0.8444\n",
      "Epoch 43/150\n",
      "135/135 [==============================] - 0s 178us/step - loss: 6.3727 - binary_accuracy: 0.8543\n",
      "Epoch 44/150\n",
      "135/135 [==============================] - 0s 173us/step - loss: 6.2883 - binary_accuracy: 0.8568\n",
      "Epoch 45/150\n",
      "135/135 [==============================] - 0s 145us/step - loss: 6.2937 - binary_accuracy: 0.8617\n",
      "Epoch 46/150\n",
      "135/135 [==============================] - 0s 116us/step - loss: 6.2665 - binary_accuracy: 0.8642\n",
      "Epoch 47/150\n",
      "135/135 [==============================] - 0s 162us/step - loss: 6.1524 - binary_accuracy: 0.8642\n",
      "Epoch 48/150\n",
      "135/135 [==============================] - 0s 141us/step - loss: 6.0238 - binary_accuracy: 0.8667\n",
      "Epoch 49/150\n",
      "135/135 [==============================] - 0s 151us/step - loss: 6.0386 - binary_accuracy: 0.8741\n",
      "Epoch 50/150\n",
      "135/135 [==============================] - 0s 147us/step - loss: 5.9139 - binary_accuracy: 0.8716\n",
      "Epoch 51/150\n",
      "135/135 [==============================] - 0s 129us/step - loss: 5.8760 - binary_accuracy: 0.8741\n",
      "Epoch 52/150\n",
      "135/135 [==============================] - 0s 156us/step - loss: 5.7468 - binary_accuracy: 0.8716\n",
      "Epoch 53/150\n",
      "135/135 [==============================] - 0s 141us/step - loss: 5.7637 - binary_accuracy: 0.8741\n",
      "Epoch 54/150\n",
      "135/135 [==============================] - 0s 166us/step - loss: 5.7954 - binary_accuracy: 0.8716\n",
      "Epoch 55/150\n",
      "135/135 [==============================] - 0s 108us/step - loss: 5.5971 - binary_accuracy: 0.8691\n",
      "Epoch 56/150\n",
      "135/135 [==============================] - 0s 181us/step - loss: 5.5051 - binary_accuracy: 0.8667\n",
      "Epoch 57/150\n",
      "135/135 [==============================] - 0s 152us/step - loss: 5.5477 - binary_accuracy: 0.8642\n",
      "Epoch 58/150\n",
      "135/135 [==============================] - 0s 120us/step - loss: 5.5322 - binary_accuracy: 0.8617\n",
      "Epoch 59/150\n",
      "135/135 [==============================] - 0s 136us/step - loss: 5.3570 - binary_accuracy: 0.8593\n",
      "Epoch 60/150\n",
      "135/135 [==============================] - 0s 132us/step - loss: 5.3961 - binary_accuracy: 0.8593\n",
      "Epoch 61/150\n",
      "135/135 [==============================] - 0s 122us/step - loss: 5.4940 - binary_accuracy: 0.8593\n",
      "Epoch 62/150\n",
      "135/135 [==============================] - 0s 125us/step - loss: 5.2234 - binary_accuracy: 0.8593\n",
      "Epoch 63/150\n",
      "135/135 [==============================] - 0s 123us/step - loss: 5.1603 - binary_accuracy: 0.8568\n",
      "Epoch 64/150\n",
      "135/135 [==============================] - 0s 133us/step - loss: 5.3826 - binary_accuracy: 0.8568\n",
      "Epoch 65/150\n",
      "135/135 [==============================] - 0s 126us/step - loss: 5.1888 - binary_accuracy: 0.8568\n",
      "Epoch 66/150\n",
      "135/135 [==============================] - 0s 122us/step - loss: 5.1058 - binary_accuracy: 0.8568\n",
      "Epoch 67/150\n",
      "135/135 [==============================] - 0s 123us/step - loss: 5.1036 - binary_accuracy: 0.8568\n",
      "Epoch 68/150\n",
      "135/135 [==============================] - 0s 119us/step - loss: 5.1254 - binary_accuracy: 0.8568\n",
      "Epoch 69/150\n",
      "135/135 [==============================] - 0s 130us/step - loss: 5.0890 - binary_accuracy: 0.8543\n",
      "Epoch 70/150\n",
      "135/135 [==============================] - 0s 115us/step - loss: 5.1280 - binary_accuracy: 0.8543\n",
      "Epoch 71/150\n",
      "135/135 [==============================] - 0s 128us/step - loss: 4.8202 - binary_accuracy: 0.8494\n",
      "Epoch 72/150\n"
     ]
    },
    {
     "name": "stdout",
     "output_type": "stream",
     "text": [
      "135/135 [==============================] - 0s 114us/step - loss: 4.8556 - binary_accuracy: 0.8494\n",
      "Epoch 73/150\n",
      "135/135 [==============================] - 0s 119us/step - loss: 5.0401 - binary_accuracy: 0.8494\n",
      "Epoch 74/150\n",
      "135/135 [==============================] - 0s 100us/step - loss: 4.9410 - binary_accuracy: 0.8469\n",
      "Epoch 75/150\n",
      "135/135 [==============================] - 0s 120us/step - loss: 4.9228 - binary_accuracy: 0.8469\n",
      "Epoch 76/150\n",
      "135/135 [==============================] - 0s 102us/step - loss: 4.9081 - binary_accuracy: 0.8469\n",
      "Epoch 77/150\n",
      "135/135 [==============================] - 0s 106us/step - loss: 4.8061 - binary_accuracy: 0.8444\n",
      "Epoch 78/150\n",
      "135/135 [==============================] - 0s 118us/step - loss: 4.7954 - binary_accuracy: 0.8444\n",
      "Epoch 79/150\n",
      "135/135 [==============================] - 0s 115us/step - loss: 4.8216 - binary_accuracy: 0.8444\n",
      "Epoch 80/150\n",
      "135/135 [==============================] - 0s 157us/step - loss: 4.8563 - binary_accuracy: 0.8444\n",
      "Epoch 81/150\n",
      "135/135 [==============================] - 0s 123us/step - loss: 4.7955 - binary_accuracy: 0.8420\n",
      "Epoch 82/150\n",
      "135/135 [==============================] - 0s 123us/step - loss: 4.8388 - binary_accuracy: 0.8420\n",
      "Epoch 83/150\n",
      "135/135 [==============================] - 0s 117us/step - loss: 4.7738 - binary_accuracy: 0.8420\n",
      "Epoch 84/150\n",
      "135/135 [==============================] - 0s 122us/step - loss: 4.7034 - binary_accuracy: 0.8420\n",
      "Epoch 85/150\n",
      "135/135 [==============================] - 0s 128us/step - loss: 4.6663 - binary_accuracy: 0.8420\n",
      "Epoch 86/150\n",
      "135/135 [==============================] - 0s 120us/step - loss: 4.6693 - binary_accuracy: 0.8420\n",
      "Epoch 87/150\n",
      "135/135 [==============================] - 0s 122us/step - loss: 4.5326 - binary_accuracy: 0.8420\n",
      "Epoch 88/150\n",
      "135/135 [==============================] - 0s 122us/step - loss: 4.5038 - binary_accuracy: 0.8420\n",
      "Epoch 89/150\n",
      "135/135 [==============================] - 0s 119us/step - loss: 4.5246 - binary_accuracy: 0.8420\n",
      "Epoch 90/150\n",
      "135/135 [==============================] - 0s 121us/step - loss: 4.5302 - binary_accuracy: 0.8420\n",
      "Epoch 91/150\n",
      "135/135 [==============================] - 0s 115us/step - loss: 4.6429 - binary_accuracy: 0.8420\n",
      "Epoch 92/150\n",
      "135/135 [==============================] - 0s 120us/step - loss: 4.4681 - binary_accuracy: 0.8420\n",
      "Epoch 93/150\n",
      "135/135 [==============================] - 0s 123us/step - loss: 4.3175 - binary_accuracy: 0.8420\n",
      "Epoch 94/150\n",
      "135/135 [==============================] - 0s 120us/step - loss: 4.4509 - binary_accuracy: 0.8444\n",
      "Epoch 95/150\n",
      "135/135 [==============================] - 0s 119us/step - loss: 4.4236 - binary_accuracy: 0.8444\n",
      "Epoch 96/150\n",
      "135/135 [==============================] - 0s 122us/step - loss: 4.4895 - binary_accuracy: 0.8444\n",
      "Epoch 97/150\n",
      "135/135 [==============================] - 0s 114us/step - loss: 4.4332 - binary_accuracy: 0.8444\n",
      "Epoch 98/150\n",
      "135/135 [==============================] - 0s 119us/step - loss: 4.4078 - binary_accuracy: 0.8444\n",
      "Epoch 99/150\n",
      "135/135 [==============================] - 0s 115us/step - loss: 4.3807 - binary_accuracy: 0.8444\n",
      "Epoch 100/150\n",
      "135/135 [==============================] - 0s 132us/step - loss: 4.3973 - binary_accuracy: 0.8444\n",
      "Epoch 101/150\n",
      "135/135 [==============================] - 0s 122us/step - loss: 4.1800 - binary_accuracy: 0.8444\n",
      "Epoch 102/150\n",
      "135/135 [==============================] - 0s 110us/step - loss: 4.2403 - binary_accuracy: 0.8444\n",
      "Epoch 103/150\n",
      "135/135 [==============================] - 0s 107us/step - loss: 4.3331 - binary_accuracy: 0.8444\n",
      "Epoch 104/150\n",
      "135/135 [==============================] - 0s 96us/step - loss: 4.2989 - binary_accuracy: 0.8444\n",
      "Epoch 105/150\n",
      "135/135 [==============================] - 0s 111us/step - loss: 4.2770 - binary_accuracy: 0.8494\n",
      "Epoch 106/150\n",
      "135/135 [==============================] - 0s 149us/step - loss: 4.3098 - binary_accuracy: 0.8519\n",
      "Epoch 107/150\n",
      "135/135 [==============================] - 0s 130us/step - loss: 4.1066 - binary_accuracy: 0.8519\n",
      "Epoch 108/150\n",
      "135/135 [==============================] - 0s 135us/step - loss: 4.2448 - binary_accuracy: 0.8543\n",
      "Epoch 109/150\n",
      "135/135 [==============================] - 0s 133us/step - loss: 4.2352 - binary_accuracy: 0.8543\n",
      "Epoch 110/150\n",
      "135/135 [==============================] - 0s 133us/step - loss: 4.2802 - binary_accuracy: 0.8543\n",
      "Epoch 111/150\n",
      "135/135 [==============================] - 0s 123us/step - loss: 3.9685 - binary_accuracy: 0.8543\n",
      "Epoch 112/150\n",
      "135/135 [==============================] - 0s 147us/step - loss: 4.1934 - binary_accuracy: 0.8543\n",
      "Epoch 113/150\n",
      "135/135 [==============================] - 0s 155us/step - loss: 4.1882 - binary_accuracy: 0.8543\n",
      "Epoch 114/150\n",
      "135/135 [==============================] - 0s 113us/step - loss: 4.1818 - binary_accuracy: 0.8543\n",
      "Epoch 115/150\n",
      "135/135 [==============================] - 0s 109us/step - loss: 4.0766 - binary_accuracy: 0.8543\n",
      "Epoch 116/150\n",
      "135/135 [==============================] - 0s 124us/step - loss: 4.1117 - binary_accuracy: 0.8543\n",
      "Epoch 117/150\n",
      "135/135 [==============================] - 0s 129us/step - loss: 4.0350 - binary_accuracy: 0.8543\n",
      "Epoch 118/150\n",
      "135/135 [==============================] - 0s 224us/step - loss: 4.0364 - binary_accuracy: 0.8568\n",
      "Epoch 119/150\n",
      "135/135 [==============================] - 0s 151us/step - loss: 3.9219 - binary_accuracy: 0.8568\n",
      "Epoch 120/150\n",
      "135/135 [==============================] - 0s 152us/step - loss: 3.9646 - binary_accuracy: 0.8568\n",
      "Epoch 121/150\n",
      "135/135 [==============================] - 0s 150us/step - loss: 3.9710 - binary_accuracy: 0.8568\n",
      "Epoch 122/150\n",
      "135/135 [==============================] - 0s 157us/step - loss: 4.0347 - binary_accuracy: 0.8568\n",
      "Epoch 123/150\n",
      "135/135 [==============================] - 0s 130us/step - loss: 3.9474 - binary_accuracy: 0.8568\n",
      "Epoch 124/150\n",
      "135/135 [==============================] - 0s 129us/step - loss: 3.8384 - binary_accuracy: 0.8568\n",
      "Epoch 125/150\n",
      "135/135 [==============================] - 0s 123us/step - loss: 3.9365 - binary_accuracy: 0.8568\n",
      "Epoch 126/150\n",
      "135/135 [==============================] - 0s 119us/step - loss: 3.8847 - binary_accuracy: 0.8568\n",
      "Epoch 127/150\n",
      "135/135 [==============================] - 0s 107us/step - loss: 3.9398 - binary_accuracy: 0.8568\n",
      "Epoch 128/150\n",
      "135/135 [==============================] - 0s 111us/step - loss: 3.8523 - binary_accuracy: 0.8568\n",
      "Epoch 129/150\n",
      "135/135 [==============================] - 0s 163us/step - loss: 3.7637 - binary_accuracy: 0.8568\n",
      "Epoch 130/150\n",
      "135/135 [==============================] - 0s 180us/step - loss: 3.8175 - binary_accuracy: 0.8568\n",
      "Epoch 131/150\n",
      "135/135 [==============================] - 0s 174us/step - loss: 3.8991 - binary_accuracy: 0.8568\n",
      "Epoch 132/150\n",
      "135/135 [==============================] - 0s 140us/step - loss: 3.7882 - binary_accuracy: 0.8568\n",
      "Epoch 133/150\n",
      "135/135 [==============================] - 0s 147us/step - loss: 3.8283 - binary_accuracy: 0.8568\n",
      "Epoch 134/150\n",
      "135/135 [==============================] - 0s 120us/step - loss: 3.7295 - binary_accuracy: 0.8568\n",
      "Epoch 135/150\n",
      "135/135 [==============================] - 0s 116us/step - loss: 3.6455 - binary_accuracy: 0.8568\n",
      "Epoch 136/150\n",
      "135/135 [==============================] - 0s 115us/step - loss: 3.7626 - binary_accuracy: 0.8568\n",
      "Epoch 137/150\n",
      "135/135 [==============================] - 0s 148us/step - loss: 3.6730 - binary_accuracy: 0.8568\n",
      "Epoch 138/150\n",
      "135/135 [==============================] - 0s 156us/step - loss: 3.7380 - binary_accuracy: 0.8593\n",
      "Epoch 139/150\n",
      "135/135 [==============================] - 0s 168us/step - loss: 3.5918 - binary_accuracy: 0.8593\n",
      "Epoch 140/150\n",
      "135/135 [==============================] - 0s 118us/step - loss: 3.7197 - binary_accuracy: 0.8593\n",
      "Epoch 141/150\n",
      "135/135 [==============================] - 0s 129us/step - loss: 3.5953 - binary_accuracy: 0.8593\n",
      "Epoch 142/150\n",
      "135/135 [==============================] - 0s 116us/step - loss: 3.7242 - binary_accuracy: 0.8593\n",
      "Epoch 143/150\n",
      "135/135 [==============================] - 0s 171us/step - loss: 3.6429 - binary_accuracy: 0.8593\n",
      "Epoch 144/150\n",
      "135/135 [==============================] - 0s 157us/step - loss: 3.5320 - binary_accuracy: 0.8593\n",
      "Epoch 145/150\n"
     ]
    },
    {
     "name": "stdout",
     "output_type": "stream",
     "text": [
      "135/135 [==============================] - 0s 183us/step - loss: 3.6984 - binary_accuracy: 0.8593\n",
      "Epoch 146/150\n",
      "135/135 [==============================] - 0s 169us/step - loss: 3.5764 - binary_accuracy: 0.8593\n",
      "Epoch 147/150\n",
      "135/135 [==============================] - 0s 138us/step - loss: 3.5617 - binary_accuracy: 0.8593\n",
      "Epoch 148/150\n",
      "135/135 [==============================] - 0s 127us/step - loss: 3.5189 - binary_accuracy: 0.8593\n",
      "Epoch 149/150\n",
      "135/135 [==============================] - 0s 116us/step - loss: 3.5476 - binary_accuracy: 0.8593\n",
      "Epoch 150/150\n",
      "135/135 [==============================] - 0s 101us/step - loss: 3.4982 - binary_accuracy: 0.8568\n"
     ]
    }
   ],
   "source": [
    "fuzz.train_model(epochs=150)"
   ]
  },
  {
   "cell_type": "code",
   "execution_count": 6,
   "metadata": {},
   "outputs": [
    {
     "data": {
      "text/plain": [
       "[array([[ 5.3860927 ,  4.604973  ,  7.3920918 ,  7.2778225 ,  4.797637  ],\n",
       "        [ 2.1738005 ,  2.822035  ,  2.3100164 ,  2.5404828 ,  4.106052  ],\n",
       "        [ 2.954547  ,  2.716836  ,  5.561557  ,  6.332968  ,  1.3571987 ],\n",
       "        [ 0.33963272,  0.3308408 ,  2.2554884 ,  2.983301  , -0.20228077]],\n",
       "       dtype=float32),\n",
       " array([[3.3066323, 3.5249846, 3.5309515, 3.6224005, 3.5951087],\n",
       "        [3.6017568, 4.332375 , 3.1668487, 3.5652883, 3.3726618],\n",
       "        [3.0856993, 3.2640262, 3.3808053, 3.3924735, 3.3129518],\n",
       "        [2.912371 , 3.0377088, 3.2492378, 3.2629805, 3.1735506]],\n",
       "       dtype=float32)]"
      ]
     },
     "execution_count": 6,
     "metadata": {},
     "output_type": "execute_result"
    }
   ],
   "source": [
    "fuzz._get_layer_weights('FuzzyRules')"
   ]
  },
  {
   "cell_type": "code",
   "execution_count": 7,
   "metadata": {},
   "outputs": [
    {
     "data": {
      "text/plain": [
       "array([[6.7, 3. , 5.2, 2.3],\n",
       "       [4.8, 3. , 1.4, 0.1],\n",
       "       [5. , 3.5, 1.6, 0.6],\n",
       "       [5.2, 3.4, 1.4, 0.2],\n",
       "       [6.3, 2.3, 4.4, 1.3],\n",
       "       [5.7, 4.4, 1.5, 0.4],\n",
       "       [5.8, 2.7, 3.9, 1.2],\n",
       "       [5. , 3.4, 1.6, 0.4],\n",
       "       [5.7, 2.8, 4.1, 1.3],\n",
       "       [5. , 3.4, 1.5, 0.2],\n",
       "       [5.6, 2.9, 3.6, 1.3],\n",
       "       [5.3, 3.7, 1.5, 0.2],\n",
       "       [7.2, 3.2, 6. , 1.8],\n",
       "       [5.8, 2.7, 5.1, 1.9],\n",
       "       [6.6, 2.9, 4.6, 1.3]])"
      ]
     },
     "execution_count": 7,
     "metadata": {},
     "output_type": "execute_result"
    }
   ],
   "source": [
    "X_test"
   ]
  },
  {
   "cell_type": "code",
   "execution_count": 8,
   "metadata": {},
   "outputs": [
    {
     "data": {
      "text/plain": [
       "array([[0., 0., 1.],\n",
       "       [1., 0., 0.],\n",
       "       [1., 0., 0.],\n",
       "       [1., 0., 0.],\n",
       "       [0., 1., 0.],\n",
       "       [1., 0., 0.],\n",
       "       [0., 1., 0.],\n",
       "       [1., 0., 0.],\n",
       "       [0., 1., 0.],\n",
       "       [1., 0., 0.],\n",
       "       [0., 1., 0.],\n",
       "       [1., 0., 0.],\n",
       "       [0., 0., 1.],\n",
       "       [0., 0., 1.],\n",
       "       [0., 1., 0.]])"
      ]
     },
     "execution_count": 8,
     "metadata": {},
     "output_type": "execute_result"
    }
   ],
   "source": [
    "y_test"
   ]
  },
  {
   "cell_type": "code",
   "execution_count": 9,
   "metadata": {},
   "outputs": [
    {
     "data": {
      "text/plain": [
       "array([[0., 0., 1.],\n",
       "       [1., 0., 0.],\n",
       "       [1., 0., 0.],\n",
       "       [1., 0., 0.],\n",
       "       [0., 0., 0.],\n",
       "       [1., 0., 0.],\n",
       "       [0., 0., 0.],\n",
       "       [1., 0., 0.],\n",
       "       [0., 0., 0.],\n",
       "       [1., 0., 0.],\n",
       "       [0., 0., 0.],\n",
       "       [1., 0., 0.],\n",
       "       [0., 0., 1.],\n",
       "       [0., 0., 1.],\n",
       "       [0., 0., 0.]], dtype=float32)"
      ]
     },
     "execution_count": 9,
     "metadata": {},
     "output_type": "execute_result"
    }
   ],
   "source": [
    "y_pred = fuzz.model.predict(X_test)\n",
    "y_pred.round()"
   ]
  },
  {
   "cell_type": "code",
   "execution_count": 10,
   "metadata": {},
   "outputs": [
    {
     "data": {
      "text/plain": [
       "array([[ True,  True,  True],\n",
       "       [ True,  True,  True],\n",
       "       [ True,  True,  True],\n",
       "       [ True,  True,  True],\n",
       "       [ True, False,  True],\n",
       "       [ True,  True,  True],\n",
       "       [ True, False,  True],\n",
       "       [ True,  True,  True],\n",
       "       [ True, False,  True],\n",
       "       [ True,  True,  True],\n",
       "       [ True, False,  True],\n",
       "       [ True,  True,  True],\n",
       "       [ True,  True,  True],\n",
       "       [ True,  True,  True],\n",
       "       [ True, False,  True]])"
      ]
     },
     "execution_count": 10,
     "metadata": {},
     "output_type": "execute_result"
    }
   ],
   "source": [
    "acc = y_test == y_pred.round()\n",
    "acc"
   ]
  },
  {
   "cell_type": "code",
   "execution_count": 11,
   "metadata": {},
   "outputs": [
    {
     "data": {
      "text/plain": [
       "0.8888888888888888"
      ]
     },
     "execution_count": 11,
     "metadata": {},
     "output_type": "execute_result"
    }
   ],
   "source": [
    "acc.sum() / acc.size"
   ]
  },
  {
   "cell_type": "markdown",
   "metadata": {},
   "source": [
    "## Model Prediction Results"
   ]
  },
  {
   "cell_type": "code",
   "execution_count": 12,
   "metadata": {},
   "outputs": [
    {
     "name": "stdout",
     "output_type": "stream",
     "text": [
      "15/15 [==============================] - 0s 12ms/step\n",
      "Model Loss: 1.40942073\n",
      "Binary Accuracy: 88.9%\n"
     ]
    }
   ],
   "source": [
    "pred_loss, pred_bin_acc = fuzz.model.evaluate(X_test, y_test)\n",
    "print('Model Loss: {:0.8f}'.format(pred_loss))\n",
    "print('Binary Accuracy: {:2.1f}%'.format(100*pred_bin_acc))"
   ]
  },
  {
   "cell_type": "code",
   "execution_count": 13,
   "metadata": {},
   "outputs": [
    {
     "data": {
      "text/plain": [
       "['loss', 'binary_accuracy']"
      ]
     },
     "execution_count": 13,
     "metadata": {},
     "output_type": "execute_result"
    }
   ],
   "source": [
    "fuzz.model.metrics_names"
   ]
  },
  {
   "cell_type": "markdown",
   "metadata": {},
   "source": [
    "## Plot Results"
   ]
  },
  {
   "cell_type": "code",
   "execution_count": 14,
   "metadata": {},
   "outputs": [
    {
     "name": "stderr",
     "output_type": "stream",
     "text": [
      "'c' argument looks like a single numeric RGB or RGBA sequence, which should be avoided as value-mapping will have precedence in case its length matches with 'x' & 'y'.  Please use a 2-D array with a single row if you really want to specify the same RGB or RGBA value for all points.\n",
      "'c' argument looks like a single numeric RGB or RGBA sequence, which should be avoided as value-mapping will have precedence in case its length matches with 'x' & 'y'.  Please use a 2-D array with a single row if you really want to specify the same RGB or RGBA value for all points.\n"
     ]
    },
    {
     "data": {
      "image/png": "[encoded data removed]",
      "text/plain": [
       "<Figure size 432x288 with 1 Axes>"
      ]
     },
     "metadata": {
      "needs_background": "light"
     },
     "output_type": "display_data"
    }
   ],
   "source": [
    "w = fuzz._get_layer_weights('FuzzyRules')\n",
    "\n",
    "\n",
    "plt.clf()\n",
    "plt.title('Iris')\n",
    "plt.ylabel('x[0]')\n",
    "plt.xlabel('x[1]')\n",
    "plt.scatter([a[0] for a in X_train], [a[1] for a in X_train], c=(0,0,0), alpha=0.5,s=1)\n",
    "for i in range(0,fuzz.neurons):\n",
    "    ellipse = Ellipse((w[0][0][i], w[0][1][i]), w[1][0][i],w[1][1][i], color='r', fill=False)\n",
    "    ax = plt.gca()\n",
    "    ax.add_patch(ellipse)\n",
    "\n",
    "plt.scatter(w[0][0], w[0][1], c=(1,0,0), alpha=0.8,s=15)\n",
    "plt.show()"
   ]
  }
 ],
 "metadata": {
  "kernelspec": {
   "display_name": "Python 3",
   "language": "python",
   "name": "python3"
  },
  "language_info": {
   "codemirror_mode": {
    "name": "ipython",
    "version": 3
   },
   "file_extension": ".py",
   "mimetype": "text/x-python",
   "name": "python",
   "nbconvert_exporter": "python",
   "pygments_lexer": "ipython3",
   "version": "3.6.8"
  }
 },
 "nbformat": 4,
 "nbformat_minor": 1
}
